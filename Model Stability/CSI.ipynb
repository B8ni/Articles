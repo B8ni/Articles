{
 "cells": [
  {
   "cell_type": "markdown",
   "id": "f24b6f3f-bab0-4d18-a2cc-96c226d3f557",
   "metadata": {},
   "source": [
    "# CSI - Characteristic Stability Index\n",
    "Vinícius Trevisan 2022"
   ]
  },
  {
   "cell_type": "markdown",
   "id": "80c803c8-cce8-49b8-ad4f-5c21c80d066c",
   "metadata": {},
   "source": [
    "## Imports"
   ]
  },
  {
   "cell_type": "code",
   "execution_count": 1,
   "id": "e45e5808-2c94-4c41-8c86-bbc29e62a124",
   "metadata": {
    "execution": {
     "iopub.execute_input": "2022-03-06T17:46:39.676348Z",
     "iopub.status.busy": "2022-03-06T17:46:39.676348Z",
     "iopub.status.idle": "2022-03-06T17:46:39.691318Z",
     "shell.execute_reply": "2022-03-06T17:46:39.691318Z",
     "shell.execute_reply.started": "2022-03-06T17:46:39.676348Z"
    },
    "tags": []
   },
   "outputs": [],
   "source": [
    "import numpy as np\n",
    "import pandas as pd\n",
    "import matplotlib.pyplot as plt\n",
    "import seaborn as sns"
   ]
  },
  {
   "cell_type": "code",
   "execution_count": 2,
   "id": "28bf5b8c-c933-403e-be18-15ee3c52aaf7",
   "metadata": {
    "execution": {
     "iopub.execute_input": "2022-03-06T17:46:39.692306Z",
     "iopub.status.busy": "2022-03-06T17:46:39.692306Z",
     "iopub.status.idle": "2022-03-06T17:46:39.802012Z",
     "shell.execute_reply": "2022-03-06T17:46:39.802012Z",
     "shell.execute_reply.started": "2022-03-06T17:46:39.692306Z"
    }
   },
   "outputs": [],
   "source": [
    "# Data prep\n",
    "from sklearn.model_selection import train_test_split"
   ]
  },
  {
   "cell_type": "code",
   "execution_count": 3,
   "id": "2e214b17-fe91-4ccb-b38f-cc82b16869b7",
   "metadata": {
    "execution": {
     "iopub.execute_input": "2022-03-06T17:46:39.803010Z",
     "iopub.status.busy": "2022-03-06T17:46:39.803010Z",
     "iopub.status.idle": "2022-03-06T17:46:39.832929Z",
     "shell.execute_reply": "2022-03-06T17:46:39.832929Z",
     "shell.execute_reply.started": "2022-03-06T17:46:39.803010Z"
    },
    "tags": []
   },
   "outputs": [],
   "source": [
    "# Regression\n",
    "from sklearn.linear_model import ElasticNet"
   ]
  },
  {
   "cell_type": "code",
   "execution_count": 4,
   "id": "1528baa6-df56-4d2c-adfe-6973d6c811dd",
   "metadata": {
    "execution": {
     "iopub.execute_input": "2022-03-06T17:46:39.833927Z",
     "iopub.status.busy": "2022-03-06T17:46:39.833927Z",
     "iopub.status.idle": "2022-03-06T17:46:40.208499Z",
     "shell.execute_reply": "2022-03-06T17:46:40.208499Z",
     "shell.execute_reply.started": "2022-03-06T17:46:39.833927Z"
    },
    "tags": []
   },
   "outputs": [],
   "source": [
    "# Classification\n",
    "from sklearn.naive_bayes import GaussianNB\n",
    "from sklearn.ensemble import RandomForestClassifier\n",
    "from xgboost import XGBClassifier\n",
    "from sklearn.linear_model import LogisticRegression"
   ]
  },
  {
   "cell_type": "markdown",
   "id": "faaef51b-991e-4ae9-b05a-6329dcff5d58",
   "metadata": {
    "tags": []
   },
   "source": [
    "## Functions"
   ]
  },
  {
   "cell_type": "code",
   "execution_count": 5,
   "id": "844171a0-3ca6-452e-846b-7c926eca95a2",
   "metadata": {
    "execution": {
     "iopub.execute_input": "2022-03-06T17:46:40.209375Z",
     "iopub.status.busy": "2022-03-06T17:46:40.209375Z",
     "iopub.status.idle": "2022-03-06T17:46:40.224482Z",
     "shell.execute_reply": "2022-03-06T17:46:40.224482Z",
     "shell.execute_reply.started": "2022-03-06T17:46:40.209375Z"
    },
    "tags": []
   },
   "outputs": [],
   "source": [
    "def psi(score_initial, score_new, num_bins = 10, mode = 'fixed'):\n",
    "    \n",
    "    eps = 1e-4\n",
    "    \n",
    "    # Sort the data\n",
    "    score_initial.sort()\n",
    "    score_new.sort()\n",
    "    \n",
    "    # Prepare the bins\n",
    "    min_val = min(min(score_initial), min(score_new))\n",
    "    max_val = max(max(score_initial), max(score_new))\n",
    "    if mode == 'fixed':\n",
    "        bins = [min_val + (max_val - min_val)*(i)/num_bins for i in range(num_bins+1)]\n",
    "    elif mode == 'quantile':\n",
    "        bins = pd.qcut(score_initial, q = num_bins, retbins = True)[1] # Create the quantiles based on the initial population\n",
    "    else:\n",
    "        raise ValueError(f\"Mode \\'{mode}\\' not recognized. Your options are \\'fixed\\' and \\'quantile\\'\")\n",
    "    bins[0] = min_val - eps # Correct the lower boundary\n",
    "    bins[-1] = max_val + eps # Correct the higher boundary\n",
    "        \n",
    "        \n",
    "    # Bucketize the initial population and count the sample inside each bucket\n",
    "    bins_initial = pd.cut(score_initial, bins = bins, labels = range(1,num_bins+1))\n",
    "    df_initial = pd.DataFrame({'initial': score_initial, 'bin': bins_initial})\n",
    "    grp_initial = df_initial.groupby('bin').count()\n",
    "    grp_initial['percent_initial'] = grp_initial['initial'] / sum(grp_initial['initial'])\n",
    "    \n",
    "    # Bucketize the new population and count the sample inside each bucket\n",
    "    bins_new = pd.cut(score_new, bins = bins, labels = range(1,num_bins+1))\n",
    "    df_new = pd.DataFrame({'new': score_new, 'bin': bins_new})\n",
    "    grp_new = df_new.groupby('bin').count()\n",
    "    grp_new['percent_new'] = grp_new['new'] / sum(grp_new['new'])\n",
    "    \n",
    "    # Compare the bins to calculate PSI\n",
    "    psi_df = grp_initial.join(grp_new, on = \"bin\", how = \"inner\")\n",
    "    \n",
    "    # Add a small value for when the percent is zero\n",
    "    psi_df['percent_initial'] = psi_df['percent_initial'].apply(lambda x: eps if x == 0 else x)\n",
    "    psi_df['percent_new'] = psi_df['percent_new'].apply(lambda x: eps if x == 0 else x)\n",
    "    \n",
    "    # Calculate the psi\n",
    "    psi_df['psi'] = (psi_df['percent_initial'] - psi_df['percent_new']) * np.log(psi_df['percent_initial'] / psi_df['percent_new'])\n",
    "    \n",
    "    # Return the psi values\n",
    "    return psi_df['psi'].values"
   ]
  },
  {
   "cell_type": "markdown",
   "id": "549b5d79-567d-40b3-9424-b711e711edc8",
   "metadata": {
    "tags": []
   },
   "source": [
    "## Regressor"
   ]
  },
  {
   "cell_type": "markdown",
   "id": "c5e38bf8-a44f-4d2d-bffd-0f10d3a93dda",
   "metadata": {},
   "source": [
    "Now that we know that the population has shifted, we now need to know which features contributed to this shift.\n",
    "\n",
    "CSI is basically applying PSI to each feature to see how much it has shifted"
   ]
  },
  {
   "cell_type": "markdown",
   "id": "01fac1cc-5f20-4bd4-9da3-9fc04cb361fe",
   "metadata": {
    "tags": []
   },
   "source": [
    "### Load Synthetic Dataset"
   ]
  },
  {
   "cell_type": "code",
   "execution_count": 6,
   "id": "850b8e89-76c4-4a26-a761-8738749da069",
   "metadata": {
    "execution": {
     "iopub.execute_input": "2022-03-06T17:46:40.225362Z",
     "iopub.status.busy": "2022-03-06T17:46:40.225362Z",
     "iopub.status.idle": "2022-03-06T17:46:40.239625Z",
     "shell.execute_reply": "2022-03-06T17:46:40.239625Z",
     "shell.execute_reply.started": "2022-03-06T17:46:40.225362Z"
    }
   },
   "outputs": [],
   "source": [
    "df_test = pd.read_csv(\"data_test_regression.csv\", sep = \";\")"
   ]
  },
  {
   "cell_type": "code",
   "execution_count": 7,
   "id": "44cbd56e-94c2-4a88-946d-2afd1173413f",
   "metadata": {
    "execution": {
     "iopub.execute_input": "2022-03-06T17:46:40.241647Z",
     "iopub.status.busy": "2022-03-06T17:46:40.240622Z",
     "iopub.status.idle": "2022-03-06T17:46:40.256590Z",
     "shell.execute_reply": "2022-03-06T17:46:40.255581Z",
     "shell.execute_reply.started": "2022-03-06T17:46:40.241647Z"
    },
    "tags": []
   },
   "outputs": [
    {
     "data": {
      "text/html": [
       "<div>\n",
       "<style scoped>\n",
       "    .dataframe tbody tr th:only-of-type {\n",
       "        vertical-align: middle;\n",
       "    }\n",
       "\n",
       "    .dataframe tbody tr th {\n",
       "        vertical-align: top;\n",
       "    }\n",
       "\n",
       "    .dataframe thead th {\n",
       "        text-align: right;\n",
       "    }\n",
       "</style>\n",
       "<table border=\"1\" class=\"dataframe\">\n",
       "  <thead>\n",
       "    <tr style=\"text-align: right;\">\n",
       "      <th></th>\n",
       "      <th>x1</th>\n",
       "      <th>x2</th>\n",
       "      <th>x3</th>\n",
       "      <th>y</th>\n",
       "      <th>pred</th>\n",
       "    </tr>\n",
       "  </thead>\n",
       "  <tbody>\n",
       "    <tr>\n",
       "      <th>0</th>\n",
       "      <td>-2.123824</td>\n",
       "      <td>2.817144</td>\n",
       "      <td>4.147786</td>\n",
       "      <td>25.990632</td>\n",
       "      <td>2.712129</td>\n",
       "    </tr>\n",
       "    <tr>\n",
       "      <th>1</th>\n",
       "      <td>0.613401</td>\n",
       "      <td>3.245827</td>\n",
       "      <td>4.001453</td>\n",
       "      <td>21.465114</td>\n",
       "      <td>5.059672</td>\n",
       "    </tr>\n",
       "    <tr>\n",
       "      <th>2</th>\n",
       "      <td>-0.398780</td>\n",
       "      <td>4.433262</td>\n",
       "      <td>7.096461</td>\n",
       "      <td>35.632961</td>\n",
       "      <td>5.346833</td>\n",
       "    </tr>\n",
       "    <tr>\n",
       "      <th>3</th>\n",
       "      <td>4.612874</td>\n",
       "      <td>3.029813</td>\n",
       "      <td>5.038264</td>\n",
       "      <td>15.605921</td>\n",
       "      <td>5.483961</td>\n",
       "    </tr>\n",
       "    <tr>\n",
       "      <th>4</th>\n",
       "      <td>-0.699526</td>\n",
       "      <td>3.271073</td>\n",
       "      <td>1.807677</td>\n",
       "      <td>18.206936</td>\n",
       "      <td>6.133364</td>\n",
       "    </tr>\n",
       "  </tbody>\n",
       "</table>\n",
       "</div>"
      ],
      "text/plain": [
       "         x1        x2        x3          y      pred\n",
       "0 -2.123824  2.817144  4.147786  25.990632  2.712129\n",
       "1  0.613401  3.245827  4.001453  21.465114  5.059672\n",
       "2 -0.398780  4.433262  7.096461  35.632961  5.346833\n",
       "3  4.612874  3.029813  5.038264  15.605921  5.483961\n",
       "4 -0.699526  3.271073  1.807677  18.206936  6.133364"
      ]
     },
     "execution_count": 7,
     "metadata": {},
     "output_type": "execute_result"
    }
   ],
   "source": [
    "df_test.head()"
   ]
  },
  {
   "cell_type": "code",
   "execution_count": 8,
   "id": "0fa445a2-945d-4969-bca8-ded3d9f9a267",
   "metadata": {
    "execution": {
     "iopub.execute_input": "2022-03-06T17:46:40.257580Z",
     "iopub.status.busy": "2022-03-06T17:46:40.257580Z",
     "iopub.status.idle": "2022-03-06T17:46:40.270542Z",
     "shell.execute_reply": "2022-03-06T17:46:40.270542Z",
     "shell.execute_reply.started": "2022-03-06T17:46:40.257580Z"
    },
    "tags": []
   },
   "outputs": [],
   "source": [
    "Z = pd.read_csv(\"Z_regression.csv\", sep = \";\")"
   ]
  },
  {
   "cell_type": "code",
   "execution_count": 9,
   "id": "a96da29e-2bfe-4083-bebb-99670feb5bcc",
   "metadata": {
    "execution": {
     "iopub.execute_input": "2022-03-06T17:46:40.271542Z",
     "iopub.status.busy": "2022-03-06T17:46:40.271542Z",
     "iopub.status.idle": "2022-03-06T17:46:40.286634Z",
     "shell.execute_reply": "2022-03-06T17:46:40.286634Z",
     "shell.execute_reply.started": "2022-03-06T17:46:40.271542Z"
    },
    "tags": []
   },
   "outputs": [
    {
     "data": {
      "text/html": [
       "<div>\n",
       "<style scoped>\n",
       "    .dataframe tbody tr th:only-of-type {\n",
       "        vertical-align: middle;\n",
       "    }\n",
       "\n",
       "    .dataframe tbody tr th {\n",
       "        vertical-align: top;\n",
       "    }\n",
       "\n",
       "    .dataframe thead th {\n",
       "        text-align: right;\n",
       "    }\n",
       "</style>\n",
       "<table border=\"1\" class=\"dataframe\">\n",
       "  <thead>\n",
       "    <tr style=\"text-align: right;\">\n",
       "      <th></th>\n",
       "      <th>x1</th>\n",
       "      <th>x2</th>\n",
       "      <th>x3</th>\n",
       "      <th>pred</th>\n",
       "    </tr>\n",
       "  </thead>\n",
       "  <tbody>\n",
       "    <tr>\n",
       "      <th>0</th>\n",
       "      <td>-0.320133</td>\n",
       "      <td>4.304297</td>\n",
       "      <td>6.107282</td>\n",
       "      <td>1.247635</td>\n",
       "    </tr>\n",
       "    <tr>\n",
       "      <th>1</th>\n",
       "      <td>-1.191167</td>\n",
       "      <td>2.880619</td>\n",
       "      <td>8.274893</td>\n",
       "      <td>4.183234</td>\n",
       "    </tr>\n",
       "    <tr>\n",
       "      <th>2</th>\n",
       "      <td>-0.745133</td>\n",
       "      <td>4.147290</td>\n",
       "      <td>13.012441</td>\n",
       "      <td>6.449415</td>\n",
       "    </tr>\n",
       "    <tr>\n",
       "      <th>3</th>\n",
       "      <td>2.135551</td>\n",
       "      <td>3.800376</td>\n",
       "      <td>8.923503</td>\n",
       "      <td>7.366811</td>\n",
       "    </tr>\n",
       "    <tr>\n",
       "      <th>4</th>\n",
       "      <td>-0.313125</td>\n",
       "      <td>3.649272</td>\n",
       "      <td>9.209772</td>\n",
       "      <td>7.490958</td>\n",
       "    </tr>\n",
       "  </tbody>\n",
       "</table>\n",
       "</div>"
      ],
      "text/plain": [
       "         x1        x2         x3      pred\n",
       "0 -0.320133  4.304297   6.107282  1.247635\n",
       "1 -1.191167  2.880619   8.274893  4.183234\n",
       "2 -0.745133  4.147290  13.012441  6.449415\n",
       "3  2.135551  3.800376   8.923503  7.366811\n",
       "4 -0.313125  3.649272   9.209772  7.490958"
      ]
     },
     "execution_count": 9,
     "metadata": {},
     "output_type": "execute_result"
    }
   ],
   "source": [
    "Z.head()"
   ]
  },
  {
   "cell_type": "markdown",
   "id": "4b19dc2f-b595-4630-9e77-64f464edc206",
   "metadata": {},
   "source": [
    "### Calculates CSI for each feature"
   ]
  },
  {
   "cell_type": "code",
   "execution_count": 10,
   "id": "d03e7ef9-3122-461c-9cb3-cd5d04839d78",
   "metadata": {
    "execution": {
     "iopub.execute_input": "2022-03-06T17:46:40.287497Z",
     "iopub.status.busy": "2022-03-06T17:46:40.287497Z",
     "iopub.status.idle": "2022-03-06T17:46:40.302620Z",
     "shell.execute_reply": "2022-03-06T17:46:40.302620Z",
     "shell.execute_reply.started": "2022-03-06T17:46:40.287497Z"
    }
   },
   "outputs": [],
   "source": [
    "sample_initial = df_test[['x1', 'x2', 'x3']]\n",
    "sample_new = Z[['x1', 'x2', 'x3']]"
   ]
  },
  {
   "cell_type": "code",
   "execution_count": 11,
   "id": "a81efcaa-6f00-44f7-92aa-81c6be8b95a6",
   "metadata": {
    "execution": {
     "iopub.execute_input": "2022-03-06T17:46:40.303614Z",
     "iopub.status.busy": "2022-03-06T17:46:40.303614Z",
     "iopub.status.idle": "2022-03-06T17:46:40.365600Z",
     "shell.execute_reply": "2022-03-06T17:46:40.365600Z",
     "shell.execute_reply.started": "2022-03-06T17:46:40.303614Z"
    },
    "tags": []
   },
   "outputs": [
    {
     "name": "stdout",
     "output_type": "stream",
     "text": [
      "CSI - Fixed size bins\n",
      "x1 -> csi=0.0031\n",
      "x2 -> csi=0.0461\n",
      "x3 -> csi=0.1711\n",
      "\n",
      "CSI - Quantile bins\n",
      "x1 -> csi=0.0032\n",
      "x2 -> csi=0.0423\n",
      "x3 -> csi=0.1272\n"
     ]
    }
   ],
   "source": [
    "# Fixed\n",
    "print(\"CSI - Fixed size bins\")\n",
    "for col in sample_initial.columns:\n",
    "    csi_values = psi(sample_initial[col].values, sample_new[col].values, mode = 'fixed')\n",
    "    csi = np.mean(csi_values)\n",
    "    print(f'{col} -> {csi=:.4f}')\n",
    "\n",
    "# Quantile\n",
    "print(\"\\nCSI - Quantile bins\")\n",
    "for col in sample_initial.columns:\n",
    "    csi_values = psi(sample_initial[col].values, sample_new[col].values, mode = 'quantile')\n",
    "    csi = np.mean(csi_values)\n",
    "    print(f'{col} -> {csi=:.4f}')"
   ]
  },
  {
   "cell_type": "markdown",
   "id": "4a3742bf-98ca-4a11-b45a-0449215ec6f0",
   "metadata": {
    "tags": []
   },
   "source": [
    "## Classifier"
   ]
  },
  {
   "cell_type": "markdown",
   "id": "93343ce8-ca1c-494a-a7f5-58920843dac1",
   "metadata": {},
   "source": [
    "Now that we know that the population has shifted, we now need to know which features contributed to this shift.\n",
    "\n",
    "CSI is basically applying PSI to each feature to see how much it has shifted"
   ]
  },
  {
   "cell_type": "markdown",
   "id": "7dab7a3f-ba44-4fea-aeaa-79d8a003e79b",
   "metadata": {
    "tags": []
   },
   "source": [
    "### Load Synthetic Dataset"
   ]
  },
  {
   "cell_type": "code",
   "execution_count": 12,
   "id": "0093de69-63a9-4eef-b8c4-003a84ef9b00",
   "metadata": {
    "execution": {
     "iopub.execute_input": "2022-03-06T17:46:40.366597Z",
     "iopub.status.busy": "2022-03-06T17:46:40.366597Z",
     "iopub.status.idle": "2022-03-06T17:46:40.380850Z",
     "shell.execute_reply": "2022-03-06T17:46:40.380850Z",
     "shell.execute_reply.started": "2022-03-06T17:46:40.366597Z"
    }
   },
   "outputs": [],
   "source": [
    "df_test = pd.read_csv(\"data_test_classification.csv\", sep = \";\")"
   ]
  },
  {
   "cell_type": "code",
   "execution_count": 13,
   "id": "cb5038cb-4971-4e49-8f50-c8a42952a713",
   "metadata": {
    "execution": {
     "iopub.execute_input": "2022-03-06T17:46:40.381709Z",
     "iopub.status.busy": "2022-03-06T17:46:40.381709Z",
     "iopub.status.idle": "2022-03-06T17:46:40.396047Z",
     "shell.execute_reply": "2022-03-06T17:46:40.396047Z",
     "shell.execute_reply.started": "2022-03-06T17:46:40.381709Z"
    },
    "tags": []
   },
   "outputs": [
    {
     "data": {
      "text/html": [
       "<div>\n",
       "<style scoped>\n",
       "    .dataframe tbody tr th:only-of-type {\n",
       "        vertical-align: middle;\n",
       "    }\n",
       "\n",
       "    .dataframe tbody tr th {\n",
       "        vertical-align: top;\n",
       "    }\n",
       "\n",
       "    .dataframe thead th {\n",
       "        text-align: right;\n",
       "    }\n",
       "</style>\n",
       "<table border=\"1\" class=\"dataframe\">\n",
       "  <thead>\n",
       "    <tr style=\"text-align: right;\">\n",
       "      <th></th>\n",
       "      <th>x1</th>\n",
       "      <th>x2</th>\n",
       "      <th>x3</th>\n",
       "      <th>y</th>\n",
       "      <th>pred</th>\n",
       "      <th>proba</th>\n",
       "    </tr>\n",
       "  </thead>\n",
       "  <tbody>\n",
       "    <tr>\n",
       "      <th>0</th>\n",
       "      <td>0.699931</td>\n",
       "      <td>2.638200</td>\n",
       "      <td>7.410266</td>\n",
       "      <td>1</td>\n",
       "      <td>1</td>\n",
       "      <td>0.000777</td>\n",
       "    </tr>\n",
       "    <tr>\n",
       "      <th>1</th>\n",
       "      <td>0.255457</td>\n",
       "      <td>4.150482</td>\n",
       "      <td>6.797690</td>\n",
       "      <td>1</td>\n",
       "      <td>1</td>\n",
       "      <td>0.001957</td>\n",
       "    </tr>\n",
       "    <tr>\n",
       "      <th>2</th>\n",
       "      <td>3.847591</td>\n",
       "      <td>2.904744</td>\n",
       "      <td>3.158348</td>\n",
       "      <td>0</td>\n",
       "      <td>0</td>\n",
       "      <td>0.003488</td>\n",
       "    </tr>\n",
       "    <tr>\n",
       "      <th>3</th>\n",
       "      <td>3.347573</td>\n",
       "      <td>2.771801</td>\n",
       "      <td>7.484235</td>\n",
       "      <td>0</td>\n",
       "      <td>1</td>\n",
       "      <td>0.003622</td>\n",
       "    </tr>\n",
       "    <tr>\n",
       "      <th>4</th>\n",
       "      <td>-0.941602</td>\n",
       "      <td>1.850260</td>\n",
       "      <td>6.179757</td>\n",
       "      <td>1</td>\n",
       "      <td>1</td>\n",
       "      <td>0.003903</td>\n",
       "    </tr>\n",
       "  </tbody>\n",
       "</table>\n",
       "</div>"
      ],
      "text/plain": [
       "         x1        x2        x3  y  pred     proba\n",
       "0  0.699931  2.638200  7.410266  1     1  0.000777\n",
       "1  0.255457  4.150482  6.797690  1     1  0.001957\n",
       "2  3.847591  2.904744  3.158348  0     0  0.003488\n",
       "3  3.347573  2.771801  7.484235  0     1  0.003622\n",
       "4 -0.941602  1.850260  6.179757  1     1  0.003903"
      ]
     },
     "execution_count": 13,
     "metadata": {},
     "output_type": "execute_result"
    }
   ],
   "source": [
    "df_test.head()"
   ]
  },
  {
   "cell_type": "code",
   "execution_count": 14,
   "id": "16bbeda0-e463-422c-be0c-4a51ebb00f15",
   "metadata": {
    "execution": {
     "iopub.execute_input": "2022-03-06T17:46:40.397015Z",
     "iopub.status.busy": "2022-03-06T17:46:40.397015Z",
     "iopub.status.idle": "2022-03-06T17:46:40.411965Z",
     "shell.execute_reply": "2022-03-06T17:46:40.411965Z",
     "shell.execute_reply.started": "2022-03-06T17:46:40.397015Z"
    },
    "tags": []
   },
   "outputs": [],
   "source": [
    "Z = pd.read_csv(\"Z_classification.csv\", sep = \";\")"
   ]
  },
  {
   "cell_type": "code",
   "execution_count": 15,
   "id": "524a02cf-ece6-4869-aaf6-6025216b7e0c",
   "metadata": {
    "execution": {
     "iopub.execute_input": "2022-03-06T17:46:40.412962Z",
     "iopub.status.busy": "2022-03-06T17:46:40.412962Z",
     "iopub.status.idle": "2022-03-06T17:46:40.426957Z",
     "shell.execute_reply": "2022-03-06T17:46:40.426957Z",
     "shell.execute_reply.started": "2022-03-06T17:46:40.412962Z"
    },
    "tags": []
   },
   "outputs": [
    {
     "data": {
      "text/html": [
       "<div>\n",
       "<style scoped>\n",
       "    .dataframe tbody tr th:only-of-type {\n",
       "        vertical-align: middle;\n",
       "    }\n",
       "\n",
       "    .dataframe tbody tr th {\n",
       "        vertical-align: top;\n",
       "    }\n",
       "\n",
       "    .dataframe thead th {\n",
       "        text-align: right;\n",
       "    }\n",
       "</style>\n",
       "<table border=\"1\" class=\"dataframe\">\n",
       "  <thead>\n",
       "    <tr style=\"text-align: right;\">\n",
       "      <th></th>\n",
       "      <th>x1</th>\n",
       "      <th>x2</th>\n",
       "      <th>x3</th>\n",
       "      <th>pred</th>\n",
       "      <th>proba</th>\n",
       "    </tr>\n",
       "  </thead>\n",
       "  <tbody>\n",
       "    <tr>\n",
       "      <th>0</th>\n",
       "      <td>-0.320133</td>\n",
       "      <td>4.304297</td>\n",
       "      <td>6.107282</td>\n",
       "      <td>1</td>\n",
       "      <td>0.000096</td>\n",
       "    </tr>\n",
       "    <tr>\n",
       "      <th>1</th>\n",
       "      <td>-1.191167</td>\n",
       "      <td>2.880619</td>\n",
       "      <td>8.274893</td>\n",
       "      <td>1</td>\n",
       "      <td>0.000280</td>\n",
       "    </tr>\n",
       "    <tr>\n",
       "      <th>2</th>\n",
       "      <td>-0.745133</td>\n",
       "      <td>4.147290</td>\n",
       "      <td>13.012441</td>\n",
       "      <td>1</td>\n",
       "      <td>0.001201</td>\n",
       "    </tr>\n",
       "    <tr>\n",
       "      <th>3</th>\n",
       "      <td>2.135551</td>\n",
       "      <td>3.800376</td>\n",
       "      <td>8.923503</td>\n",
       "      <td>1</td>\n",
       "      <td>0.001324</td>\n",
       "    </tr>\n",
       "    <tr>\n",
       "      <th>4</th>\n",
       "      <td>-0.313125</td>\n",
       "      <td>3.649272</td>\n",
       "      <td>9.209772</td>\n",
       "      <td>1</td>\n",
       "      <td>0.001439</td>\n",
       "    </tr>\n",
       "  </tbody>\n",
       "</table>\n",
       "</div>"
      ],
      "text/plain": [
       "         x1        x2         x3  pred     proba\n",
       "0 -0.320133  4.304297   6.107282     1  0.000096\n",
       "1 -1.191167  2.880619   8.274893     1  0.000280\n",
       "2 -0.745133  4.147290  13.012441     1  0.001201\n",
       "3  2.135551  3.800376   8.923503     1  0.001324\n",
       "4 -0.313125  3.649272   9.209772     1  0.001439"
      ]
     },
     "execution_count": 15,
     "metadata": {},
     "output_type": "execute_result"
    }
   ],
   "source": [
    "Z.head()"
   ]
  },
  {
   "cell_type": "markdown",
   "id": "d3b6b48c-ec7b-4f17-a0c9-3337f413ed57",
   "metadata": {},
   "source": [
    "### Calculates CSI for each feature"
   ]
  },
  {
   "cell_type": "code",
   "execution_count": 16,
   "id": "51d5b9bb-053b-4462-8a42-6ced2c1d1fc5",
   "metadata": {
    "execution": {
     "iopub.execute_input": "2022-03-06T17:46:40.428968Z",
     "iopub.status.busy": "2022-03-06T17:46:40.428004Z",
     "iopub.status.idle": "2022-03-06T17:46:40.441923Z",
     "shell.execute_reply": "2022-03-06T17:46:40.441923Z",
     "shell.execute_reply.started": "2022-03-06T17:46:40.428968Z"
    }
   },
   "outputs": [],
   "source": [
    "sample_initial = df_test[['x1', 'x2', 'x3']]\n",
    "sample_new = Z[['x1', 'x2', 'x3']]"
   ]
  },
  {
   "cell_type": "code",
   "execution_count": 17,
   "id": "1150d7c0-585e-4546-9b29-91d6e3fd653b",
   "metadata": {
    "execution": {
     "iopub.execute_input": "2022-03-06T17:46:40.442914Z",
     "iopub.status.busy": "2022-03-06T17:46:40.442914Z",
     "iopub.status.idle": "2022-03-06T17:46:40.489833Z",
     "shell.execute_reply": "2022-03-06T17:46:40.488814Z",
     "shell.execute_reply.started": "2022-03-06T17:46:40.442914Z"
    },
    "tags": []
   },
   "outputs": [
    {
     "name": "stdout",
     "output_type": "stream",
     "text": [
      "x1 -> csi=0.0016\n",
      "x2 -> csi=0.0452\n",
      "x3 -> csi=0.1764\n"
     ]
    }
   ],
   "source": [
    "# Fixed\n",
    "for col in sample_initial.columns:\n",
    "    csi_values = psi(sample_initial[col].values, sample_new[col].values, num_bins = 10, mode = 'fixed')\n",
    "    csi = np.mean(csi_values)\n",
    "    print(f'{col} -> {csi=:.4f}')"
   ]
  },
  {
   "cell_type": "code",
   "execution_count": 18,
   "id": "5c8a358b-55f2-44e4-9a7e-d1f49961c8aa",
   "metadata": {
    "execution": {
     "iopub.execute_input": "2022-03-06T17:46:40.490787Z",
     "iopub.status.busy": "2022-03-06T17:46:40.489833Z",
     "iopub.status.idle": "2022-03-06T17:46:40.535694Z",
     "shell.execute_reply": "2022-03-06T17:46:40.535694Z",
     "shell.execute_reply.started": "2022-03-06T17:46:40.490787Z"
    },
    "tags": []
   },
   "outputs": [
    {
     "name": "stdout",
     "output_type": "stream",
     "text": [
      "x1 -> csi=0.0014\n",
      "x2 -> csi=0.0448\n",
      "x3 -> csi=0.1320\n"
     ]
    }
   ],
   "source": [
    "# Quantile\n",
    "for col in sample_initial.columns:\n",
    "    csi_values = psi(sample_initial[col].values, sample_new[col].values, num_bins = 10, mode = 'quantile')\n",
    "    csi = np.mean(csi_values)\n",
    "    print(f'{col} -> {csi=:.4f}')"
   ]
  },
  {
   "cell_type": "code",
   "execution_count": null,
   "id": "7db954e8-0226-4a80-8795-2b97cf5302d9",
   "metadata": {},
   "outputs": [],
   "source": []
  },
  {
   "cell_type": "code",
   "execution_count": null,
   "id": "be4e7b52-2c39-4cb4-b275-8fd850862ce0",
   "metadata": {},
   "outputs": [],
   "source": []
  }
 ],
 "metadata": {
  "kernelspec": {
   "display_name": "Python 3",
   "language": "python",
   "name": "python3"
  },
  "language_info": {
   "codemirror_mode": {
    "name": "ipython",
    "version": 3
   },
   "file_extension": ".py",
   "mimetype": "text/x-python",
   "name": "python",
   "nbconvert_exporter": "python",
   "pygments_lexer": "ipython3",
   "version": "3.8.8"
  }
 },
 "nbformat": 4,
 "nbformat_minor": 5
}
