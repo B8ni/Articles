{
 "cells": [
  {
   "cell_type": "markdown",
   "id": "4bd924ba-e490-478b-9aaf-2c222d0bbba4",
   "metadata": {},
   "source": [
    "## Boruta SHAP Feature Selection"
   ]
  },
  {
   "cell_type": "markdown",
   "id": "dfaa0005-756c-42b2-8401-fee6b5dd34a2",
   "metadata": {},
   "source": [
    "In this notebook I will explore the use of the Boruta-SHAP Feature Selection Method"
   ]
  },
  {
   "cell_type": "markdown",
   "id": "cb7d1865-11dc-4fc5-859f-54a7fedb3a8a",
   "metadata": {},
   "source": [
    "### Imports"
   ]
  },
  {
   "cell_type": "code",
   "execution_count": 1,
   "id": "ddc266f6-961d-41e6-9a9f-98e76a6e4633",
   "metadata": {
    "execution": {
     "iopub.execute_input": "2022-01-22T17:09:38.347248Z",
     "iopub.status.busy": "2022-01-22T17:09:38.347248Z",
     "iopub.status.idle": "2022-01-22T17:09:38.362232Z",
     "shell.execute_reply": "2022-01-22T17:09:38.362232Z",
     "shell.execute_reply.started": "2022-01-22T17:09:38.347248Z"
    }
   },
   "outputs": [],
   "source": [
    "import pandas as pd\n",
    "import numpy as np"
   ]
  },
  {
   "cell_type": "code",
   "execution_count": 2,
   "id": "7c409384-13f5-469b-b815-aefbc02c3457",
   "metadata": {
    "execution": {
     "iopub.execute_input": "2022-01-22T17:09:38.363222Z",
     "iopub.status.busy": "2022-01-22T17:09:38.363222Z",
     "iopub.status.idle": "2022-01-22T17:09:38.533748Z",
     "shell.execute_reply": "2022-01-22T17:09:38.533748Z",
     "shell.execute_reply.started": "2022-01-22T17:09:38.363222Z"
    },
    "tags": []
   },
   "outputs": [],
   "source": [
    "from sklearn.ensemble import RandomForestRegressor\n",
    "from sklearn.model_selection import train_test_split\n",
    "from sklearn.metrics import mean_squared_error as MSE\n",
    "from sklearn.metrics import mean_absolute_error as MAE\n",
    "from sklearn.metrics import r2_score as R2\n",
    "from scipy.special import softmax"
   ]
  },
  {
   "cell_type": "markdown",
   "id": "bf7b8f91-0da0-4032-9f8d-5f4c35765cd5",
   "metadata": {},
   "source": [
    "### Functions"
   ]
  },
  {
   "cell_type": "code",
   "execution_count": 3,
   "id": "4eaa4df8-4ccc-455e-84e1-add36b48a493",
   "metadata": {
    "execution": {
     "iopub.execute_input": "2022-01-22T17:09:38.534747Z",
     "iopub.status.busy": "2022-01-22T17:09:38.534747Z",
     "iopub.status.idle": "2022-01-22T17:09:38.549706Z",
     "shell.execute_reply": "2022-01-22T17:09:38.549706Z",
     "shell.execute_reply.started": "2022-01-22T17:09:38.534747Z"
    }
   },
   "outputs": [],
   "source": [
    "def print_feature_importances_random_forest(random_forest_model):\n",
    "    \n",
    "    '''\n",
    "    Prints the feature importances of a Random Forest model in an ordered way.\n",
    "    random_forest_model -> The sklearn.ensemble.RandomForestRegressor or RandomForestClassifier trained model\n",
    "    '''\n",
    "    \n",
    "    # Fetch the feature importances and feature names\n",
    "    importances = random_forest_model.feature_importances_\n",
    "    features = random_forest_model.feature_names_in_\n",
    "    \n",
    "    # Organize them in a dictionary\n",
    "    feature_importances = {fea: imp for imp, fea in zip(importances, features)}\n",
    "    \n",
    "    # Sorts the dictionary\n",
    "    feature_importances = {k: v for k, v in sorted(feature_importances.items(), key=lambda item: item[1], reverse = True)}\n",
    "    \n",
    "    # Prints the feature importances\n",
    "    for k, v in feature_importances.items():\n",
    "        print(f\"{k} -> {v:.4f}\")"
   ]
  },
  {
   "cell_type": "code",
   "execution_count": 4,
   "id": "4c30b3f4-a795-425e-8f62-42a5e8cd68b7",
   "metadata": {
    "execution": {
     "iopub.execute_input": "2022-01-22T17:09:38.550704Z",
     "iopub.status.busy": "2022-01-22T17:09:38.550704Z",
     "iopub.status.idle": "2022-01-22T17:09:38.565663Z",
     "shell.execute_reply": "2022-01-22T17:09:38.565663Z",
     "shell.execute_reply.started": "2022-01-22T17:09:38.550704Z"
    }
   },
   "outputs": [],
   "source": [
    "def print_feature_importances_shap_values(shap_values, features):\n",
    "    \n",
    "    '''\n",
    "    Prints the feature importances based on SHAP values in an ordered way\n",
    "    shap_values -> The SHAP values calculated from a shap.Explainer object\n",
    "    features -> The name of the features, on the order presented to the explainer\n",
    "    '''\n",
    "\n",
    "    # Calculates the feature importance (mean absolute shap value) for each feature\n",
    "    importances = []\n",
    "    for i in range(shap_values.values.shape[1]):\n",
    "        importances.append(np.mean(np.abs(shap_values.values[:, i])))\n",
    "        \n",
    "    # Calculates the normalized version\n",
    "    importances_norm = softmax(importances)\n",
    "\n",
    "    # Organize the importances and columns in a dictionary\n",
    "    feature_importances = {fea: imp for imp, fea in zip(importances, features)}\n",
    "    feature_importances_norm = {fea: imp for imp, fea in zip(importances_norm, features)}\n",
    "\n",
    "    # Sorts the dictionary\n",
    "    feature_importances = {k: v for k, v in sorted(feature_importances.items(), key=lambda item: item[1], reverse = True)}\n",
    "    feature_importances_norm= {k: v for k, v in sorted(feature_importances_norm.items(), key=lambda item: item[1], reverse = True)}\n",
    "\n",
    "    # Prints the feature importances\n",
    "    for k, v in feature_importances.items():\n",
    "        print(f\"{k} -> {v:.4f} (softmax = {feature_importances_norm[k]:.4f})\")"
   ]
  },
  {
   "cell_type": "code",
   "execution_count": 5,
   "id": "71f0fad4-8689-4a71-824a-5c66b08111a3",
   "metadata": {
    "execution": {
     "iopub.execute_input": "2022-01-22T17:09:38.566661Z",
     "iopub.status.busy": "2022-01-22T17:09:38.566661Z",
     "iopub.status.idle": "2022-01-22T17:09:38.581621Z",
     "shell.execute_reply": "2022-01-22T17:09:38.581621Z",
     "shell.execute_reply.started": "2022-01-22T17:09:38.566661Z"
    }
   },
   "outputs": [],
   "source": [
    "def evaluate_regression(y, y_pred):\n",
    "    \n",
    "    '''\n",
    "    Prints the most common evaluation metrics for regression\n",
    "    '''\n",
    "    \n",
    "    mae = MAE(y, y_pred)\n",
    "    mse = MSE(y, y_pred)\n",
    "    rmse = mse ** (1/2)\n",
    "    r2 = R2(y, y_pred)\n",
    "    \n",
    "    print('Regression result')\n",
    "    print(f\"MAE: {mae:.2f}\")\n",
    "    print(f\"MSE: {mse:.2f}\")\n",
    "    print(f\"RMSE: {rmse:.2f}\")\n",
    "    print(f\"R2: {r2:.2f}\")"
   ]
  },
  {
   "cell_type": "markdown",
   "id": "0be336f5-34f1-438e-bfd0-6345e836dbe0",
   "metadata": {},
   "source": [
    "### Loading the Dataset"
   ]
  },
  {
   "cell_type": "code",
   "execution_count": 6,
   "id": "b73ab8bd-f0c3-49af-9520-78b946288075",
   "metadata": {
    "execution": {
     "iopub.execute_input": "2022-01-22T17:09:38.582618Z",
     "iopub.status.busy": "2022-01-22T17:09:38.582618Z",
     "iopub.status.idle": "2022-01-22T17:09:38.613535Z",
     "shell.execute_reply": "2022-01-22T17:09:38.613535Z",
     "shell.execute_reply.started": "2022-01-22T17:09:38.582618Z"
    }
   },
   "outputs": [],
   "source": [
    "from sklearn.datasets import load_diabetes"
   ]
  },
  {
   "cell_type": "code",
   "execution_count": 7,
   "id": "3cdc2cc2-ba51-4173-a1e0-efb511f3b739",
   "metadata": {
    "execution": {
     "iopub.execute_input": "2022-01-22T17:09:38.615530Z",
     "iopub.status.busy": "2022-01-22T17:09:38.615530Z",
     "iopub.status.idle": "2022-01-22T17:09:38.629493Z",
     "shell.execute_reply": "2022-01-22T17:09:38.629493Z",
     "shell.execute_reply.started": "2022-01-22T17:09:38.615530Z"
    }
   },
   "outputs": [],
   "source": [
    "# Fetches the data\n",
    "dataset = load_diabetes(as_frame = True)"
   ]
  },
  {
   "cell_type": "raw",
   "id": "1068bed1-d828-4f2c-8fc0-b49b08b7de76",
   "metadata": {},
   "source": [
    "# Prints the description of the dataset\n",
    "print(dataset[\"DESCR\"])"
   ]
  },
  {
   "cell_type": "code",
   "execution_count": 8,
   "id": "acfb2d38-dcea-4625-b6a4-c2d19103c860",
   "metadata": {
    "execution": {
     "iopub.execute_input": "2022-01-22T17:09:38.630490Z",
     "iopub.status.busy": "2022-01-22T17:09:38.630490Z",
     "iopub.status.idle": "2022-01-22T17:09:38.645450Z",
     "shell.execute_reply": "2022-01-22T17:09:38.645450Z",
     "shell.execute_reply.started": "2022-01-22T17:09:38.630490Z"
    }
   },
   "outputs": [
    {
     "data": {
      "text/html": [
       "<div>\n",
       "<style scoped>\n",
       "    .dataframe tbody tr th:only-of-type {\n",
       "        vertical-align: middle;\n",
       "    }\n",
       "\n",
       "    .dataframe tbody tr th {\n",
       "        vertical-align: top;\n",
       "    }\n",
       "\n",
       "    .dataframe thead th {\n",
       "        text-align: right;\n",
       "    }\n",
       "</style>\n",
       "<table border=\"1\" class=\"dataframe\">\n",
       "  <thead>\n",
       "    <tr style=\"text-align: right;\">\n",
       "      <th></th>\n",
       "      <th>age</th>\n",
       "      <th>sex</th>\n",
       "      <th>bmi</th>\n",
       "      <th>bp</th>\n",
       "      <th>s1</th>\n",
       "      <th>s2</th>\n",
       "      <th>s3</th>\n",
       "      <th>s4</th>\n",
       "      <th>s5</th>\n",
       "      <th>s6</th>\n",
       "    </tr>\n",
       "  </thead>\n",
       "  <tbody>\n",
       "    <tr>\n",
       "      <th>0</th>\n",
       "      <td>0.038076</td>\n",
       "      <td>0.050680</td>\n",
       "      <td>0.061696</td>\n",
       "      <td>0.021872</td>\n",
       "      <td>-0.044223</td>\n",
       "      <td>-0.034821</td>\n",
       "      <td>-0.043401</td>\n",
       "      <td>-0.002592</td>\n",
       "      <td>0.019908</td>\n",
       "      <td>-0.017646</td>\n",
       "    </tr>\n",
       "    <tr>\n",
       "      <th>1</th>\n",
       "      <td>-0.001882</td>\n",
       "      <td>-0.044642</td>\n",
       "      <td>-0.051474</td>\n",
       "      <td>-0.026328</td>\n",
       "      <td>-0.008449</td>\n",
       "      <td>-0.019163</td>\n",
       "      <td>0.074412</td>\n",
       "      <td>-0.039493</td>\n",
       "      <td>-0.068330</td>\n",
       "      <td>-0.092204</td>\n",
       "    </tr>\n",
       "    <tr>\n",
       "      <th>2</th>\n",
       "      <td>0.085299</td>\n",
       "      <td>0.050680</td>\n",
       "      <td>0.044451</td>\n",
       "      <td>-0.005671</td>\n",
       "      <td>-0.045599</td>\n",
       "      <td>-0.034194</td>\n",
       "      <td>-0.032356</td>\n",
       "      <td>-0.002592</td>\n",
       "      <td>0.002864</td>\n",
       "      <td>-0.025930</td>\n",
       "    </tr>\n",
       "    <tr>\n",
       "      <th>3</th>\n",
       "      <td>-0.089063</td>\n",
       "      <td>-0.044642</td>\n",
       "      <td>-0.011595</td>\n",
       "      <td>-0.036656</td>\n",
       "      <td>0.012191</td>\n",
       "      <td>0.024991</td>\n",
       "      <td>-0.036038</td>\n",
       "      <td>0.034309</td>\n",
       "      <td>0.022692</td>\n",
       "      <td>-0.009362</td>\n",
       "    </tr>\n",
       "    <tr>\n",
       "      <th>4</th>\n",
       "      <td>0.005383</td>\n",
       "      <td>-0.044642</td>\n",
       "      <td>-0.036385</td>\n",
       "      <td>0.021872</td>\n",
       "      <td>0.003935</td>\n",
       "      <td>0.015596</td>\n",
       "      <td>0.008142</td>\n",
       "      <td>-0.002592</td>\n",
       "      <td>-0.031991</td>\n",
       "      <td>-0.046641</td>\n",
       "    </tr>\n",
       "  </tbody>\n",
       "</table>\n",
       "</div>"
      ],
      "text/plain": [
       "        age       sex       bmi        bp        s1        s2        s3  \\\n",
       "0  0.038076  0.050680  0.061696  0.021872 -0.044223 -0.034821 -0.043401   \n",
       "1 -0.001882 -0.044642 -0.051474 -0.026328 -0.008449 -0.019163  0.074412   \n",
       "2  0.085299  0.050680  0.044451 -0.005671 -0.045599 -0.034194 -0.032356   \n",
       "3 -0.089063 -0.044642 -0.011595 -0.036656  0.012191  0.024991 -0.036038   \n",
       "4  0.005383 -0.044642 -0.036385  0.021872  0.003935  0.015596  0.008142   \n",
       "\n",
       "         s4        s5        s6  \n",
       "0 -0.002592  0.019908 -0.017646  \n",
       "1 -0.039493 -0.068330 -0.092204  \n",
       "2 -0.002592  0.002864 -0.025930  \n",
       "3  0.034309  0.022692 -0.009362  \n",
       "4 -0.002592 -0.031991 -0.046641  "
      ]
     },
     "execution_count": 8,
     "metadata": {},
     "output_type": "execute_result"
    }
   ],
   "source": [
    "# Gets the independent variables\n",
    "X = dataset['data']\n",
    "X.head(5)"
   ]
  },
  {
   "cell_type": "code",
   "execution_count": 9,
   "id": "dc08d4a9-60f7-4d64-8c22-76be4a7604ec",
   "metadata": {
    "execution": {
     "iopub.execute_input": "2022-01-22T17:09:38.646448Z",
     "iopub.status.busy": "2022-01-22T17:09:38.646448Z",
     "iopub.status.idle": "2022-01-22T17:09:38.661408Z",
     "shell.execute_reply": "2022-01-22T17:09:38.661408Z",
     "shell.execute_reply.started": "2022-01-22T17:09:38.646448Z"
    }
   },
   "outputs": [
    {
     "data": {
      "text/plain": [
       "(442, 10)"
      ]
     },
     "execution_count": 9,
     "metadata": {},
     "output_type": "execute_result"
    }
   ],
   "source": [
    "# Checks the shape of the data\n",
    "X.shape"
   ]
  },
  {
   "cell_type": "code",
   "execution_count": 10,
   "id": "9db88b0b-e144-460d-8a4f-93c17f86d507",
   "metadata": {
    "execution": {
     "iopub.execute_input": "2022-01-22T17:09:38.662405Z",
     "iopub.status.busy": "2022-01-22T17:09:38.662405Z",
     "iopub.status.idle": "2022-01-22T17:09:38.676367Z",
     "shell.execute_reply": "2022-01-22T17:09:38.676367Z",
     "shell.execute_reply.started": "2022-01-22T17:09:38.662405Z"
    }
   },
   "outputs": [
    {
     "data": {
      "text/plain": [
       "0    151.0\n",
       "1     75.0\n",
       "2    141.0\n",
       "3    206.0\n",
       "4    135.0\n",
       "Name: target, dtype: float64"
      ]
     },
     "execution_count": 10,
     "metadata": {},
     "output_type": "execute_result"
    }
   ],
   "source": [
    "# Gets the dependent variable (the target)\n",
    "y = dataset['target']\n",
    "y.head(5)"
   ]
  },
  {
   "cell_type": "code",
   "execution_count": 11,
   "id": "4dbc2545-8a72-4ba4-bacf-967d52ba142a",
   "metadata": {
    "execution": {
     "iopub.execute_input": "2022-01-22T17:09:38.677364Z",
     "iopub.status.busy": "2022-01-22T17:09:38.677364Z",
     "iopub.status.idle": "2022-01-22T17:09:38.691355Z",
     "shell.execute_reply": "2022-01-22T17:09:38.691355Z",
     "shell.execute_reply.started": "2022-01-22T17:09:38.677364Z"
    }
   },
   "outputs": [],
   "source": [
    "# Splits the dataset\n",
    "X_train, X_test, y_train, y_test = train_test_split(X, y, test_size = 0.2)"
   ]
  },
  {
   "cell_type": "markdown",
   "id": "7d8de961-2d24-409e-8a09-0ee6f0f9108f",
   "metadata": {},
   "source": [
    "## Fit a simple regression"
   ]
  },
  {
   "cell_type": "markdown",
   "id": "94ee7e27-bf93-45ed-a250-f27185675852",
   "metadata": {},
   "source": [
    "In order to compare results before and after applying Boruta Shap feature selection, we will fisrt run a simple regression"
   ]
  },
  {
   "cell_type": "code",
   "execution_count": 12,
   "id": "edbb099a-e24c-40ed-97ea-0f815c24819b",
   "metadata": {
    "execution": {
     "iopub.execute_input": "2022-01-22T17:09:38.692325Z",
     "iopub.status.busy": "2022-01-22T17:09:38.692325Z",
     "iopub.status.idle": "2022-01-22T17:09:38.707309Z",
     "shell.execute_reply": "2022-01-22T17:09:38.707309Z",
     "shell.execute_reply.started": "2022-01-22T17:09:38.692325Z"
    }
   },
   "outputs": [],
   "source": [
    "# Prepares a default instance of the random forest regressor\n",
    "model = RandomForestRegressor()"
   ]
  },
  {
   "cell_type": "code",
   "execution_count": 13,
   "id": "c38b6bef-20e1-431b-9eec-b74fae426955",
   "metadata": {
    "execution": {
     "iopub.execute_input": "2022-01-22T17:09:38.708282Z",
     "iopub.status.busy": "2022-01-22T17:09:38.708282Z",
     "iopub.status.idle": "2022-01-22T17:09:38.909745Z",
     "shell.execute_reply": "2022-01-22T17:09:38.909745Z",
     "shell.execute_reply.started": "2022-01-22T17:09:38.708282Z"
    },
    "tags": []
   },
   "outputs": [
    {
     "data": {
      "text/plain": [
       "RandomForestRegressor()"
      ]
     },
     "execution_count": 13,
     "metadata": {},
     "output_type": "execute_result"
    }
   ],
   "source": [
    "# Fits the model on the training data\n",
    "model.fit(X_train, y_train)"
   ]
  },
  {
   "cell_type": "code",
   "execution_count": 14,
   "id": "55708154-14e1-4971-b67e-6c593c0bddb9",
   "metadata": {
    "execution": {
     "iopub.execute_input": "2022-01-22T17:09:38.910741Z",
     "iopub.status.busy": "2022-01-22T17:09:38.910741Z",
     "iopub.status.idle": "2022-01-22T17:09:38.925702Z",
     "shell.execute_reply": "2022-01-22T17:09:38.925702Z",
     "shell.execute_reply.started": "2022-01-22T17:09:38.910741Z"
    }
   },
   "outputs": [
    {
     "name": "stdout",
     "output_type": "stream",
     "text": [
      "Regression result\n",
      "MAE: 45.75\n",
      "MSE: 3327.04\n",
      "RMSE: 57.68\n",
      "R2: 0.44\n"
     ]
    }
   ],
   "source": [
    "# Evaluates the model\n",
    "y_pred = model.predict(X_test)\n",
    "evaluate_regression(y_test, y_pred)"
   ]
  },
  {
   "cell_type": "code",
   "execution_count": 15,
   "id": "a9feac8f-0bc6-4997-bcf0-3abcc37f320a",
   "metadata": {
    "execution": {
     "iopub.execute_input": "2022-01-22T17:09:38.927696Z",
     "iopub.status.busy": "2022-01-22T17:09:38.926698Z",
     "iopub.status.idle": "2022-01-22T17:09:38.941658Z",
     "shell.execute_reply": "2022-01-22T17:09:38.941658Z",
     "shell.execute_reply.started": "2022-01-22T17:09:38.927696Z"
    }
   },
   "outputs": [
    {
     "name": "stdout",
     "output_type": "stream",
     "text": [
      "s5 -> 0.3553\n",
      "bmi -> 0.2104\n",
      "bp -> 0.0929\n",
      "s6 -> 0.0710\n",
      "s3 -> 0.0683\n",
      "s2 -> 0.0576\n",
      "age -> 0.0574\n",
      "s1 -> 0.0424\n",
      "s4 -> 0.0312\n",
      "sex -> 0.0135\n"
     ]
    }
   ],
   "source": [
    "# Prints the feature importances\n",
    "print_feature_importances_random_forest(model)"
   ]
  },
  {
   "cell_type": "markdown",
   "id": "9ece1757-7689-4fab-80ce-2600a14c9901",
   "metadata": {},
   "source": [
    "## SHAP evaluation"
   ]
  },
  {
   "cell_type": "code",
   "execution_count": 16,
   "id": "39d0e3d4-3eab-449a-b7c0-c8fe52eb0b07",
   "metadata": {
    "execution": {
     "iopub.execute_input": "2022-01-22T17:09:38.942656Z",
     "iopub.status.busy": "2022-01-22T17:09:38.942656Z",
     "iopub.status.idle": "2022-01-22T17:09:39.675695Z",
     "shell.execute_reply": "2022-01-22T17:09:39.675695Z",
     "shell.execute_reply.started": "2022-01-22T17:09:38.942656Z"
    }
   },
   "outputs": [],
   "source": [
    "import shap"
   ]
  },
  {
   "cell_type": "code",
   "execution_count": 17,
   "id": "08d8dc19-38b4-4ae9-afcb-2f6793a6584b",
   "metadata": {
    "execution": {
     "iopub.execute_input": "2022-01-22T17:09:39.676697Z",
     "iopub.status.busy": "2022-01-22T17:09:39.676697Z",
     "iopub.status.idle": "2022-01-22T17:09:39.691652Z",
     "shell.execute_reply": "2022-01-22T17:09:39.691652Z",
     "shell.execute_reply.started": "2022-01-22T17:09:39.676697Z"
    }
   },
   "outputs": [],
   "source": [
    "# Fits the explainer\n",
    "explainer = shap.Explainer(model.predict, X)"
   ]
  },
  {
   "cell_type": "code",
   "execution_count": 18,
   "id": "cd5eb7d4-ea3e-4a46-952d-fc0d10c415a1",
   "metadata": {
    "execution": {
     "iopub.execute_input": "2022-01-22T17:09:39.692650Z",
     "iopub.status.busy": "2022-01-22T17:09:39.692650Z",
     "iopub.status.idle": "2022-01-22T17:10:26.362504Z",
     "shell.execute_reply": "2022-01-22T17:10:26.362504Z",
     "shell.execute_reply.started": "2022-01-22T17:09:39.692650Z"
    },
    "tags": []
   },
   "outputs": [
    {
     "name": "stderr",
     "output_type": "stream",
     "text": [
      "Exact explainer: 90it [00:46,  1.59it/s]                                                                               \n"
     ]
    }
   ],
   "source": [
    "# Calculates the SHAP values - It takes some time\n",
    "shap_values = explainer(X_test)"
   ]
  },
  {
   "cell_type": "code",
   "execution_count": 19,
   "id": "a46c2288-5c9e-46d3-8c2d-480ce21197e6",
   "metadata": {
    "execution": {
     "iopub.execute_input": "2022-01-22T17:10:26.363502Z",
     "iopub.status.busy": "2022-01-22T17:10:26.363502Z",
     "iopub.status.idle": "2022-01-22T17:10:26.378462Z",
     "shell.execute_reply": "2022-01-22T17:10:26.378462Z",
     "shell.execute_reply.started": "2022-01-22T17:10:26.363502Z"
    }
   },
   "outputs": [
    {
     "name": "stdout",
     "output_type": "stream",
     "text": [
      "s5 -> 26.5351 (softmax = 0.9996)\n",
      "bmi -> 18.7101 (softmax = 0.0004)\n",
      "bp -> 7.5617 (softmax = 0.0000)\n",
      "s3 -> 6.1727 (softmax = 0.0000)\n",
      "s6 -> 4.5208 (softmax = 0.0000)\n",
      "age -> 3.2638 (softmax = 0.0000)\n",
      "sex -> 2.4521 (softmax = 0.0000)\n",
      "s4 -> 2.2204 (softmax = 0.0000)\n",
      "s2 -> 1.7529 (softmax = 0.0000)\n",
      "s1 -> 1.5089 (softmax = 0.0000)\n"
     ]
    }
   ],
   "source": [
    "# Prints the SHAP feature importances\n",
    "print_feature_importances_shap_values(shap_values, X.columns)"
   ]
  },
  {
   "cell_type": "code",
   "execution_count": 20,
   "id": "b21d1446-0a9b-4fa8-9990-2769cec11f7a",
   "metadata": {
    "execution": {
     "iopub.execute_input": "2022-01-22T17:10:26.379459Z",
     "iopub.status.busy": "2022-01-22T17:10:26.379459Z",
     "iopub.status.idle": "2022-01-22T17:10:26.596877Z",
     "shell.execute_reply": "2022-01-22T17:10:26.596877Z",
     "shell.execute_reply.started": "2022-01-22T17:10:26.379459Z"
    }
   },
   "outputs": [
    {
     "data": {
      "image/png": "[encoded data removed]",
      "text/plain": [
       "<Figure size 576x468 with 1 Axes>"
      ]
     },
     "metadata": {},
     "output_type": "display_data"
    }
   ],
   "source": [
    "# Plots this view\n",
    "shap.plots.bar(shap_values)"
   ]
  },
  {
   "cell_type": "code",
   "execution_count": 21,
   "id": "55ab2815-e7a6-4f65-830a-b4dbf4e6da88",
   "metadata": {
    "execution": {
     "iopub.execute_input": "2022-01-22T17:10:26.597875Z",
     "iopub.status.busy": "2022-01-22T17:10:26.597875Z",
     "iopub.status.idle": "2022-01-22T17:10:26.831251Z",
     "shell.execute_reply": "2022-01-22T17:10:26.831251Z",
     "shell.execute_reply.started": "2022-01-22T17:10:26.597875Z"
    }
   },
   "outputs": [
    {
     "data": {
      "image/png": "[encoded data removed]",
      "text/plain": [
       "<Figure size 576x396 with 2 Axes>"
      ]
     },
     "metadata": {},
     "output_type": "display_data"
    }
   ],
   "source": [
    "# Plots the beeswarm\n",
    "shap.plots.beeswarm(shap_values)"
   ]
  },
  {
   "cell_type": "markdown",
   "id": "31f4ca76-a881-490a-bb1b-37560c540271",
   "metadata": {},
   "source": [
    "## Select features using Boruta"
   ]
  },
  {
   "cell_type": "code",
   "execution_count": 22,
   "id": "d56b56d6-5ed3-4be9-989b-1c68b1fc6fdf",
   "metadata": {
    "execution": {
     "iopub.execute_input": "2022-01-22T17:10:26.832248Z",
     "iopub.status.busy": "2022-01-22T17:10:26.832248Z",
     "iopub.status.idle": "2022-01-22T17:10:26.846211Z",
     "shell.execute_reply": "2022-01-22T17:10:26.846211Z",
     "shell.execute_reply.started": "2022-01-22T17:10:26.832248Z"
    }
   },
   "outputs": [],
   "source": [
    "from boruta import BorutaPy"
   ]
  },
  {
   "cell_type": "code",
   "execution_count": 23,
   "id": "f7445af4-2d7c-475b-8dba-42c7b2432135",
   "metadata": {
    "execution": {
     "iopub.execute_input": "2022-01-22T17:10:26.847209Z",
     "iopub.status.busy": "2022-01-22T17:10:26.847209Z",
     "iopub.status.idle": "2022-01-22T17:10:26.861172Z",
     "shell.execute_reply": "2022-01-22T17:10:26.861172Z",
     "shell.execute_reply.started": "2022-01-22T17:10:26.847209Z"
    },
    "tags": []
   },
   "outputs": [],
   "source": [
    "# Defines the estimator used by the Boruta algorithm\n",
    "estimator = RandomForestRegressor()"
   ]
  },
  {
   "cell_type": "code",
   "execution_count": 24,
   "id": "9da725d6-8995-4d8e-a4e8-f80a529ae67b",
   "metadata": {
    "execution": {
     "iopub.execute_input": "2022-01-22T17:10:26.862168Z",
     "iopub.status.busy": "2022-01-22T17:10:26.862168Z",
     "iopub.status.idle": "2022-01-22T17:10:26.878126Z",
     "shell.execute_reply": "2022-01-22T17:10:26.877129Z",
     "shell.execute_reply.started": "2022-01-22T17:10:26.862168Z"
    }
   },
   "outputs": [],
   "source": [
    "# Creates the BorutaPy object\n",
    "boruta = BorutaPy(estimator = estimator, n_estimators = 'auto', max_iter = 100)"
   ]
  },
  {
   "cell_type": "code",
   "execution_count": 25,
   "id": "7cdba150-4ca6-446a-89bc-60e434891d82",
   "metadata": {
    "execution": {
     "iopub.execute_input": "2022-01-22T17:10:26.881118Z",
     "iopub.status.busy": "2022-01-22T17:10:26.881118Z",
     "iopub.status.idle": "2022-01-22T17:10:32.939916Z",
     "shell.execute_reply": "2022-01-22T17:10:32.939916Z",
     "shell.execute_reply.started": "2022-01-22T17:10:26.881118Z"
    },
    "tags": []
   },
   "outputs": [
    {
     "data": {
      "text/plain": [
       "BorutaPy(estimator=RandomForestRegressor(n_estimators=31,\n",
       "                                         random_state=RandomState(MT19937) at 0x22BBD84A440),\n",
       "         n_estimators='auto',\n",
       "         random_state=RandomState(MT19937) at 0x22BBD84A440)"
      ]
     },
     "execution_count": 25,
     "metadata": {},
     "output_type": "execute_result"
    }
   ],
   "source": [
    "# Fits Boruta\n",
    "boruta.fit(np.array(X_train), np.array(y_train))"
   ]
  },
  {
   "cell_type": "code",
   "execution_count": 26,
   "id": "99b42ec7-a537-4a61-b4ae-c3f2c376c5e8",
   "metadata": {
    "execution": {
     "iopub.execute_input": "2022-01-22T17:10:32.941911Z",
     "iopub.status.busy": "2022-01-22T17:10:32.941911Z",
     "iopub.status.idle": "2022-01-22T17:10:32.954876Z",
     "shell.execute_reply": "2022-01-22T17:10:32.954876Z",
     "shell.execute_reply.started": "2022-01-22T17:10:32.941911Z"
    },
    "tags": []
   },
   "outputs": [
    {
     "name": "stdout",
     "output_type": "stream",
     "text": [
      "Features confirmed as important: ['bmi', 'bp', 's3', 's5']\n",
      "Unconfirmed features (tentative): ['s6']\n",
      "Features confirmed as unimportant: ['age', 'sex', 's1', 's2', 's4']\n"
     ]
    }
   ],
   "source": [
    "# Important features\n",
    "important = list(X.columns[boruta.support_])\n",
    "print(f\"Features confirmed as important: {important}\")\n",
    "\n",
    "# Tentative features\n",
    "tentative = list(X.columns[boruta.support_weak_])\n",
    "print(f\"Unconfirmed features (tentative): {tentative}\")\n",
    "\n",
    "# Unimportant features\n",
    "unimportant = list(X.columns[~(boruta.support_ | boruta.support_weak_)])\n",
    "print(f\"Features confirmed as unimportant: {unimportant}\")"
   ]
  },
  {
   "cell_type": "code",
   "execution_count": 27,
   "id": "78398312-c245-40c7-82e2-1600a2871bfe",
   "metadata": {
    "execution": {
     "iopub.execute_input": "2022-01-22T17:10:32.955874Z",
     "iopub.status.busy": "2022-01-22T17:10:32.955874Z",
     "iopub.status.idle": "2022-01-22T17:10:32.970833Z",
     "shell.execute_reply": "2022-01-22T17:10:32.970833Z",
     "shell.execute_reply.started": "2022-01-22T17:10:32.955874Z"
    },
    "tags": []
   },
   "outputs": [],
   "source": [
    "X_train_boruta = boruta.transform(np.array(X_train))"
   ]
  },
  {
   "cell_type": "code",
   "execution_count": 28,
   "id": "ea42b0b4-e925-498a-8905-5e41bb5374f8",
   "metadata": {
    "execution": {
     "iopub.execute_input": "2022-01-22T17:10:32.971830Z",
     "iopub.status.busy": "2022-01-22T17:10:32.971830Z",
     "iopub.status.idle": "2022-01-22T17:10:32.985795Z",
     "shell.execute_reply": "2022-01-22T17:10:32.985795Z",
     "shell.execute_reply.started": "2022-01-22T17:10:32.971830Z"
    },
    "tags": []
   },
   "outputs": [
    {
     "data": {
      "text/plain": [
       "array([[ 0.06924089,  0.05974393, -0.04708248,  0.10329226],\n",
       "       [ 0.06169621,  0.02187235, -0.04340085,  0.01990842],\n",
       "       [-0.00512814, -0.01255635,  0.00814208, -0.00608025],\n",
       "       ...,\n",
       "       [-0.03638469,  0.04252958, -0.02683348, -0.0439854 ],\n",
       "       [ 0.07139652,  0.00121513,  0.01550536, -0.04118039],\n",
       "       [ 0.05846277,  0.07007254, -0.02131102,  0.02200405]])"
      ]
     },
     "execution_count": 28,
     "metadata": {},
     "output_type": "execute_result"
    }
   ],
   "source": [
    "X_train_boruta"
   ]
  },
  {
   "cell_type": "markdown",
   "id": "d331260d-5e87-4822-96a9-6200ba7e7354",
   "metadata": {
    "tags": []
   },
   "source": [
    "## Select features using Boruta-SHAP"
   ]
  },
  {
   "cell_type": "code",
   "execution_count": 29,
   "id": "6e7e917c-2d14-4f4b-b4d9-cb904aeca208",
   "metadata": {
    "execution": {
     "iopub.execute_input": "2022-01-22T17:10:32.986791Z",
     "iopub.status.busy": "2022-01-22T17:10:32.986791Z",
     "iopub.status.idle": "2022-01-22T17:10:33.017709Z",
     "shell.execute_reply": "2022-01-22T17:10:33.016710Z",
     "shell.execute_reply.started": "2022-01-22T17:10:32.986791Z"
    }
   },
   "outputs": [],
   "source": [
    "from BorutaShap import BorutaShap"
   ]
  },
  {
   "cell_type": "code",
   "execution_count": 30,
   "id": "5a9dc4f2-a7b2-42e3-9684-4f09da79e56f",
   "metadata": {
    "execution": {
     "iopub.execute_input": "2022-01-22T17:10:33.017709Z",
     "iopub.status.busy": "2022-01-22T17:10:33.017709Z",
     "iopub.status.idle": "2022-01-22T17:10:33.031671Z",
     "shell.execute_reply": "2022-01-22T17:10:33.031671Z",
     "shell.execute_reply.started": "2022-01-22T17:10:33.017709Z"
    }
   },
   "outputs": [],
   "source": [
    "# Creates a BorutaShap selector for regression\n",
    "selector = BorutaShap(importance_measure = 'shap', classification = False)"
   ]
  },
  {
   "cell_type": "code",
   "execution_count": 31,
   "id": "aa0dce38-446a-408a-89a6-63cbc7fdaa58",
   "metadata": {
    "execution": {
     "iopub.execute_input": "2022-01-22T17:10:33.032669Z",
     "iopub.status.busy": "2022-01-22T17:10:33.032669Z",
     "iopub.status.idle": "2022-01-22T17:13:00.644383Z",
     "shell.execute_reply": "2022-01-22T17:13:00.644383Z",
     "shell.execute_reply.started": "2022-01-22T17:10:33.032669Z"
    },
    "tags": []
   },
   "outputs": [
    {
     "data": {
      "application/vnd.jupyter.widget-view+json": {
       "model_id": "63110f397ae046818213ebf4b7bef591",
       "version_major": 2,
       "version_minor": 0
      },
      "text/plain": [
       "  0%|          | 0/100 [00:00<?, ?it/s]"
      ]
     },
     "metadata": {},
     "output_type": "display_data"
    },
    {
     "name": "stdout",
     "output_type": "stream",
     "text": [
      "4 attributes confirmed important: ['bmi', 'bp', 's3', 's5']\n",
      "5 attributes confirmed unimportant: ['s1', 's4', 'sex', 'age', 's2']\n",
      "1 tentative attributes remains: ['s6']\n"
     ]
    }
   ],
   "source": [
    "# Fits the selector\n",
    "selector.fit(X = X_train, y = y_train, n_trials = 100, sample = False, verbose = True)\n",
    "# n_trials -> number of iterations for Boruta algorithm\n",
    "# sample -> samples the data so it goes faster"
   ]
  },
  {
   "cell_type": "code",
   "execution_count": 32,
   "id": "a86a0ee6-6cea-4061-bbd8-77a2597dcd5d",
   "metadata": {
    "execution": {
     "iopub.execute_input": "2022-01-22T17:13:00.645420Z",
     "iopub.status.busy": "2022-01-22T17:13:00.645420Z",
     "iopub.status.idle": "2022-01-22T17:13:00.660371Z",
     "shell.execute_reply": "2022-01-22T17:13:00.660371Z",
     "shell.execute_reply.started": "2022-01-22T17:13:00.645420Z"
    },
    "tags": []
   },
   "outputs": [
    {
     "name": "stdout",
     "output_type": "stream",
     "text": [
      "['age' 'sex' 's1' 's2' 's4']\n"
     ]
    }
   ],
   "source": [
    "# Display features to be removed\n",
    "features_to_remove = selector.features_to_remove\n",
    "print(features_to_remove)"
   ]
  },
  {
   "cell_type": "code",
   "execution_count": 33,
   "id": "c7edf397-f58f-427d-a561-cbf8a00f8710",
   "metadata": {
    "execution": {
     "iopub.execute_input": "2022-01-22T17:13:00.661338Z",
     "iopub.status.busy": "2022-01-22T17:13:00.661338Z",
     "iopub.status.idle": "2022-01-22T17:13:00.676325Z",
     "shell.execute_reply": "2022-01-22T17:13:00.676325Z",
     "shell.execute_reply.started": "2022-01-22T17:13:00.661338Z"
    },
    "tags": []
   },
   "outputs": [],
   "source": [
    "# Removes them\n",
    "X_train_boruta_shap = X_train.drop(columns = features_to_remove)\n",
    "X_test_boruta_shap = X_test.drop(columns = features_to_remove)"
   ]
  },
  {
   "cell_type": "code",
   "execution_count": 34,
   "id": "57afbf5b-8c65-4e96-8336-47498bd2d52e",
   "metadata": {
    "execution": {
     "iopub.execute_input": "2022-01-22T17:13:00.677295Z",
     "iopub.status.busy": "2022-01-22T17:13:00.677295Z",
     "iopub.status.idle": "2022-01-22T17:13:00.692286Z",
     "shell.execute_reply": "2022-01-22T17:13:00.692286Z",
     "shell.execute_reply.started": "2022-01-22T17:13:00.677295Z"
    },
    "tags": []
   },
   "outputs": [
    {
     "data": {
      "text/html": [
       "<div>\n",
       "<style scoped>\n",
       "    .dataframe tbody tr th:only-of-type {\n",
       "        vertical-align: middle;\n",
       "    }\n",
       "\n",
       "    .dataframe tbody tr th {\n",
       "        vertical-align: top;\n",
       "    }\n",
       "\n",
       "    .dataframe thead th {\n",
       "        text-align: right;\n",
       "    }\n",
       "</style>\n",
       "<table border=\"1\" class=\"dataframe\">\n",
       "  <thead>\n",
       "    <tr style=\"text-align: right;\">\n",
       "      <th></th>\n",
       "      <th>bmi</th>\n",
       "      <th>bp</th>\n",
       "      <th>s3</th>\n",
       "      <th>s5</th>\n",
       "      <th>s6</th>\n",
       "    </tr>\n",
       "  </thead>\n",
       "  <tbody>\n",
       "    <tr>\n",
       "      <th>390</th>\n",
       "      <td>0.069241</td>\n",
       "      <td>0.059744</td>\n",
       "      <td>-0.047082</td>\n",
       "      <td>0.103292</td>\n",
       "      <td>0.073480</td>\n",
       "    </tr>\n",
       "    <tr>\n",
       "      <th>0</th>\n",
       "      <td>0.061696</td>\n",
       "      <td>0.021872</td>\n",
       "      <td>-0.043401</td>\n",
       "      <td>0.019908</td>\n",
       "      <td>-0.017646</td>\n",
       "    </tr>\n",
       "    <tr>\n",
       "      <th>98</th>\n",
       "      <td>-0.005128</td>\n",
       "      <td>-0.012556</td>\n",
       "      <td>0.008142</td>\n",
       "      <td>-0.006080</td>\n",
       "      <td>-0.067351</td>\n",
       "    </tr>\n",
       "    <tr>\n",
       "      <th>279</th>\n",
       "      <td>-0.024529</td>\n",
       "      <td>0.004658</td>\n",
       "      <td>0.015505</td>\n",
       "      <td>-0.015998</td>\n",
       "      <td>-0.025930</td>\n",
       "    </tr>\n",
       "    <tr>\n",
       "      <th>100</th>\n",
       "      <td>0.017506</td>\n",
       "      <td>-0.022885</td>\n",
       "      <td>0.030232</td>\n",
       "      <td>0.037232</td>\n",
       "      <td>-0.001078</td>\n",
       "    </tr>\n",
       "  </tbody>\n",
       "</table>\n",
       "</div>"
      ],
      "text/plain": [
       "          bmi        bp        s3        s5        s6\n",
       "390  0.069241  0.059744 -0.047082  0.103292  0.073480\n",
       "0    0.061696  0.021872 -0.043401  0.019908 -0.017646\n",
       "98  -0.005128 -0.012556  0.008142 -0.006080 -0.067351\n",
       "279 -0.024529  0.004658  0.015505 -0.015998 -0.025930\n",
       "100  0.017506 -0.022885  0.030232  0.037232 -0.001078"
      ]
     },
     "execution_count": 34,
     "metadata": {},
     "output_type": "execute_result"
    }
   ],
   "source": [
    "X_train_boruta_shap.head()"
   ]
  },
  {
   "cell_type": "markdown",
   "id": "a6716cfd-b102-4a6f-8ecd-ab038ddb3a01",
   "metadata": {
    "tags": []
   },
   "source": [
    "### Fits a new regression model to the new data"
   ]
  },
  {
   "cell_type": "code",
   "execution_count": 35,
   "id": "fc3e8f6b-ed85-4598-b700-c6a14bbd45d9",
   "metadata": {
    "execution": {
     "iopub.execute_input": "2022-01-22T17:13:00.693252Z",
     "iopub.status.busy": "2022-01-22T17:13:00.693252Z",
     "iopub.status.idle": "2022-01-22T17:13:00.708212Z",
     "shell.execute_reply": "2022-01-22T17:13:00.707242Z",
     "shell.execute_reply.started": "2022-01-22T17:13:00.693252Z"
    },
    "tags": []
   },
   "outputs": [],
   "source": [
    "# Prepares a default instance of the random forest regressor\n",
    "model_new = RandomForestRegressor()"
   ]
  },
  {
   "cell_type": "code",
   "execution_count": 36,
   "id": "d257d93c-890b-4d4f-a280-afb7b7fbb574",
   "metadata": {
    "execution": {
     "iopub.execute_input": "2022-01-22T17:13:00.708212Z",
     "iopub.status.busy": "2022-01-22T17:13:00.708212Z",
     "iopub.status.idle": "2022-01-22T17:13:00.861802Z",
     "shell.execute_reply": "2022-01-22T17:13:00.861802Z",
     "shell.execute_reply.started": "2022-01-22T17:13:00.708212Z"
    },
    "tags": []
   },
   "outputs": [
    {
     "data": {
      "text/plain": [
       "RandomForestRegressor()"
      ]
     },
     "execution_count": 36,
     "metadata": {},
     "output_type": "execute_result"
    }
   ],
   "source": [
    "# Fits the model on the data\n",
    "model_new.fit(X_train_boruta_shap, y_train)"
   ]
  },
  {
   "cell_type": "code",
   "execution_count": 37,
   "id": "b4ad1381-970c-4eaf-8738-66d43c1cf3e6",
   "metadata": {
    "execution": {
     "iopub.execute_input": "2022-01-22T17:13:00.862799Z",
     "iopub.status.busy": "2022-01-22T17:13:00.862799Z",
     "iopub.status.idle": "2022-01-22T17:13:00.893716Z",
     "shell.execute_reply": "2022-01-22T17:13:00.893716Z",
     "shell.execute_reply.started": "2022-01-22T17:13:00.862799Z"
    },
    "tags": []
   },
   "outputs": [
    {
     "name": "stdout",
     "output_type": "stream",
     "text": [
      "Regression result\n",
      "MAE: 45.52\n",
      "MSE: 3324.71\n",
      "RMSE: 57.66\n",
      "R2: 0.44\n"
     ]
    }
   ],
   "source": [
    "# Evaluates the model\n",
    "y_pred = model_new.predict(X_test_boruta_shap)\n",
    "evaluate_regression(y_test, y_pred)"
   ]
  },
  {
   "cell_type": "code",
   "execution_count": 38,
   "id": "a862689a-c174-4967-a248-48dabd0abe74",
   "metadata": {
    "execution": {
     "iopub.execute_input": "2022-01-22T17:13:00.894714Z",
     "iopub.status.busy": "2022-01-22T17:13:00.894714Z",
     "iopub.status.idle": "2022-01-22T17:13:00.909674Z",
     "shell.execute_reply": "2022-01-22T17:13:00.909674Z",
     "shell.execute_reply.started": "2022-01-22T17:13:00.894714Z"
    },
    "tags": []
   },
   "outputs": [
    {
     "name": "stdout",
     "output_type": "stream",
     "text": [
      "s5 -> 0.4153\n",
      "bmi -> 0.2435\n",
      "bp -> 0.1335\n",
      "s6 -> 0.1067\n",
      "s3 -> 0.1010\n"
     ]
    }
   ],
   "source": [
    "# Prints the feature importances\n",
    "print_feature_importances_random_forest(model_new)"
   ]
  },
  {
   "cell_type": "code",
   "execution_count": 39,
   "id": "eebe5613-52fd-484f-8294-0fe700cc620c",
   "metadata": {
    "execution": {
     "iopub.execute_input": "2022-01-22T17:13:00.910671Z",
     "iopub.status.busy": "2022-01-22T17:13:00.910671Z",
     "iopub.status.idle": "2022-01-22T17:13:00.927626Z",
     "shell.execute_reply": "2022-01-22T17:13:00.925631Z",
     "shell.execute_reply.started": "2022-01-22T17:13:00.910671Z"
    },
    "tags": []
   },
   "outputs": [],
   "source": [
    "# Fits the explainer\n",
    "explainer_new = shap.Explainer(model_new.predict, X_test_boruta_shap)"
   ]
  },
  {
   "cell_type": "code",
   "execution_count": 40,
   "id": "e407f68c-de1d-41c0-a331-34758fff23d7",
   "metadata": {
    "execution": {
     "iopub.execute_input": "2022-01-22T17:13:00.928623Z",
     "iopub.status.busy": "2022-01-22T17:13:00.927626Z",
     "iopub.status.idle": "2022-01-22T17:13:05.123406Z",
     "shell.execute_reply": "2022-01-22T17:13:05.123406Z",
     "shell.execute_reply.started": "2022-01-22T17:13:00.928623Z"
    },
    "tags": []
   },
   "outputs": [],
   "source": [
    "# Calculates the SHAP values - It takes some time\n",
    "shap_values = explainer_new(X_test_boruta_shap)"
   ]
  },
  {
   "cell_type": "code",
   "execution_count": 41,
   "id": "c6f1ec97-3d41-4579-b38d-ba2ce4af340d",
   "metadata": {
    "execution": {
     "iopub.execute_input": "2022-01-22T17:13:05.124403Z",
     "iopub.status.busy": "2022-01-22T17:13:05.124403Z",
     "iopub.status.idle": "2022-01-22T17:13:05.138365Z",
     "shell.execute_reply": "2022-01-22T17:13:05.138365Z",
     "shell.execute_reply.started": "2022-01-22T17:13:05.124403Z"
    },
    "tags": []
   },
   "outputs": [
    {
     "name": "stdout",
     "output_type": "stream",
     "text": [
      "s5 -> 26.2349 (softmax = 0.9989)\n",
      "bmi -> 19.4120 (softmax = 0.0011)\n",
      "bp -> 9.7329 (softmax = 0.0000)\n",
      "s3 -> 6.6783 (softmax = 0.0000)\n",
      "s6 -> 4.8357 (softmax = 0.0000)\n"
     ]
    }
   ],
   "source": [
    "# Prints the SHAP feature importances\n",
    "print_feature_importances_shap_values(shap_values, X_test_boruta_shap.columns)"
   ]
  },
  {
   "cell_type": "code",
   "execution_count": 42,
   "id": "42cc5b85-47c1-4ff9-8b1d-180831de5ff6",
   "metadata": {
    "execution": {
     "iopub.execute_input": "2022-01-22T17:13:05.139363Z",
     "iopub.status.busy": "2022-01-22T17:13:05.139363Z",
     "iopub.status.idle": "2022-01-22T17:13:05.279987Z",
     "shell.execute_reply": "2022-01-22T17:13:05.279987Z",
     "shell.execute_reply.started": "2022-01-22T17:13:05.139363Z"
    },
    "tags": []
   },
   "outputs": [
    {
     "data": {
      "image/png": "[encoded data removed]",
      "text/plain": [
       "<Figure size 576x288 with 1 Axes>"
      ]
     },
     "metadata": {},
     "output_type": "display_data"
    }
   ],
   "source": [
    "# Plots this view\n",
    "shap.plots.bar(shap_values)"
   ]
  },
  {
   "cell_type": "code",
   "execution_count": 43,
   "id": "bee83e49-c448-4afe-b35b-9745e8137472",
   "metadata": {
    "execution": {
     "iopub.execute_input": "2022-01-22T17:13:05.280984Z",
     "iopub.status.busy": "2022-01-22T17:13:05.280984Z",
     "iopub.status.idle": "2022-01-22T17:13:05.545278Z",
     "shell.execute_reply": "2022-01-22T17:13:05.545278Z",
     "shell.execute_reply.started": "2022-01-22T17:13:05.280984Z"
    },
    "tags": []
   },
   "outputs": [
    {
     "data": {
      "image/png": "[encoded data removed]",
      "text/plain": [
       "<Figure size 576x252 with 2 Axes>"
      ]
     },
     "metadata": {},
     "output_type": "display_data"
    }
   ],
   "source": [
    "# Plots the beeswarm\n",
    "shap.plots.beeswarm(shap_values, max_display=14)"
   ]
  },
  {
   "cell_type": "markdown",
   "id": "9e095f13-6c49-4e0d-a90b-1cebcddf5efc",
   "metadata": {},
   "source": [
    "## Plots the binomial distribution\n",
    "For the article"
   ]
  },
  {
   "cell_type": "code",
   "execution_count": 44,
   "id": "d755204c-93d2-4b46-afd2-cd802d32d698",
   "metadata": {
    "execution": {
     "iopub.execute_input": "2022-01-22T17:13:05.546275Z",
     "iopub.status.busy": "2022-01-22T17:13:05.546275Z",
     "iopub.status.idle": "2022-01-22T17:13:05.560237Z",
     "shell.execute_reply": "2022-01-22T17:13:05.560237Z",
     "shell.execute_reply.started": "2022-01-22T17:13:05.546275Z"
    },
    "tags": []
   },
   "outputs": [],
   "source": [
    "import matplotlib.pyplot as plt\n",
    "import seaborn as sns\n",
    "from scipy import stats"
   ]
  },
  {
   "cell_type": "code",
   "execution_count": 45,
   "id": "b1c581bf-47ac-4640-b528-fa47aac6ca99",
   "metadata": {
    "execution": {
     "iopub.execute_input": "2022-01-22T17:13:05.561235Z",
     "iopub.status.busy": "2022-01-22T17:13:05.561235Z",
     "iopub.status.idle": "2022-01-22T17:13:05.576195Z",
     "shell.execute_reply": "2022-01-22T17:13:05.576195Z",
     "shell.execute_reply.started": "2022-01-22T17:13:05.561235Z"
    }
   },
   "outputs": [],
   "source": [
    "n = 20\n",
    "p = 0.5"
   ]
  },
  {
   "cell_type": "code",
   "execution_count": 46,
   "id": "b5ad9d37-ef85-4ee2-836e-60fb2b56143d",
   "metadata": {
    "execution": {
     "iopub.execute_input": "2022-01-22T17:13:05.577192Z",
     "iopub.status.busy": "2022-01-22T17:13:05.577192Z",
     "iopub.status.idle": "2022-01-22T17:13:05.592152Z",
     "shell.execute_reply": "2022-01-22T17:13:05.592152Z",
     "shell.execute_reply.started": "2022-01-22T17:13:05.577192Z"
    },
    "tags": []
   },
   "outputs": [],
   "source": [
    "pmf = list(stats.binom.pmf(range(n + 1), n, p))"
   ]
  },
  {
   "cell_type": "code",
   "execution_count": 47,
   "id": "e0f8e819-1c7e-4d91-9080-82b1e553b73e",
   "metadata": {
    "execution": {
     "iopub.execute_input": "2022-01-22T17:13:05.593150Z",
     "iopub.status.busy": "2022-01-22T17:13:05.593150Z",
     "iopub.status.idle": "2022-01-22T17:13:05.746739Z",
     "shell.execute_reply": "2022-01-22T17:13:05.746739Z",
     "shell.execute_reply.started": "2022-01-22T17:13:05.593150Z"
    },
    "tags": []
   },
   "outputs": [
    {
     "data": {
      "text/plain": [
       "<AxesSubplot:>"
      ]
     },
     "execution_count": 47,
     "metadata": {},
     "output_type": "execute_result"
    },
    {
     "data": {
      "image/png": "[encoded data removed]",
      "text/plain": [
       "<Figure size 864x360 with 1 Axes>"
      ]
     },
     "metadata": {},
     "output_type": "display_data"
    }
   ],
   "source": [
    "plt.figure(figsize = (12, 5))\n",
    "sns.scatterplot(x = range(n+1), y = pmf)\n",
    "sns.lineplot(x = range(n+1), y = pmf)"
   ]
  },
  {
   "cell_type": "code",
   "execution_count": 48,
   "id": "6d6244c6-ad4f-4308-a419-8988a3097fa6",
   "metadata": {
    "execution": {
     "iopub.execute_input": "2022-01-22T17:13:05.747737Z",
     "iopub.status.busy": "2022-01-22T17:13:05.747737Z",
     "iopub.status.idle": "2022-01-22T17:13:05.762697Z",
     "shell.execute_reply": "2022-01-22T17:13:05.762697Z",
     "shell.execute_reply.started": "2022-01-22T17:13:05.747737Z"
    }
   },
   "outputs": [
    {
     "data": {
      "text/plain": [
       "[9.5367431640625e-07,\n",
       " 1.9073486328124993e-05,\n",
       " 0.00018119812011718736,\n",
       " 0.0010871887207031228,\n",
       " 0.004620552062988283,\n",
       " 0.014785766601562497,\n",
       " 0.036964416503906236,\n",
       " 0.07392883300781249,\n",
       " 0.1201343536376954,\n",
       " 0.1601791381835938,\n",
       " 0.17619705200195296,\n",
       " 0.1601791381835938,\n",
       " 0.12013435363769538,\n",
       " 0.07392883300781249,\n",
       " 0.036964416503906236,\n",
       " 0.014785766601562497,\n",
       " 0.004620552062988283,\n",
       " 0.0010871887207031228,\n",
       " 0.00018119812011718736,\n",
       " 1.9073486328124986e-05,\n",
       " 9.5367431640625e-07]"
      ]
     },
     "execution_count": 48,
     "metadata": {},
     "output_type": "execute_result"
    }
   ],
   "source": [
    "pmf"
   ]
  },
  {
   "cell_type": "code",
   "execution_count": 49,
   "id": "9214132e-f8c5-4bad-81fe-b61e6901e594",
   "metadata": {
    "execution": {
     "iopub.execute_input": "2022-01-22T17:13:05.763694Z",
     "iopub.status.busy": "2022-01-22T17:13:05.763694Z",
     "iopub.status.idle": "2022-01-22T17:13:05.777657Z",
     "shell.execute_reply": "2022-01-22T17:13:05.777657Z",
     "shell.execute_reply.started": "2022-01-22T17:13:05.763694Z"
    },
    "tags": []
   },
   "outputs": [
    {
     "data": {
      "text/plain": [
       "4.0"
      ]
     },
     "execution_count": 49,
     "metadata": {},
     "output_type": "execute_result"
    }
   ],
   "source": [
    "# In which \"point\" will we have a cumulative probability of 0.5%?\n",
    "stats.binom.ppf(0.005, n, p)"
   ]
  },
  {
   "cell_type": "code",
   "execution_count": 50,
   "id": "4d0b46a9-c17b-42c3-9101-12d93c5def4e",
   "metadata": {
    "execution": {
     "iopub.execute_input": "2022-01-22T17:13:05.778655Z",
     "iopub.status.busy": "2022-01-22T17:13:05.778655Z",
     "iopub.status.idle": "2022-01-22T17:13:05.793614Z",
     "shell.execute_reply": "2022-01-22T17:13:05.793614Z",
     "shell.execute_reply.started": "2022-01-22T17:13:05.778655Z"
    }
   },
   "outputs": [
    {
     "data": {
      "text/plain": [
       "0.005908966064453125"
      ]
     },
     "execution_count": 50,
     "metadata": {},
     "output_type": "execute_result"
    }
   ],
   "source": [
    "# Confirming:\n",
    "stats.binom.cdf(4, n, p)"
   ]
  },
  {
   "cell_type": "code",
   "execution_count": 51,
   "id": "308e77e0-726d-4add-959e-091d1a873267",
   "metadata": {
    "execution": {
     "iopub.execute_input": "2022-01-22T17:13:05.794611Z",
     "iopub.status.busy": "2022-01-22T17:13:05.794611Z",
     "iopub.status.idle": "2022-01-22T17:13:05.809599Z",
     "shell.execute_reply": "2022-01-22T17:13:05.809599Z",
     "shell.execute_reply.started": "2022-01-22T17:13:05.794611Z"
    },
    "tags": []
   },
   "outputs": [
    {
     "data": {
      "text/plain": [
       "16.0"
      ]
     },
     "execution_count": 51,
     "metadata": {},
     "output_type": "execute_result"
    }
   ],
   "source": [
    "# In which \"point\" will we have a cumulative probability of 99.5%?\n",
    "stats.binom.ppf(0.995, n, p)"
   ]
  },
  {
   "cell_type": "code",
   "execution_count": 52,
   "id": "40b1c789-bd89-448c-9966-4d2e542e92a8",
   "metadata": {
    "execution": {
     "iopub.execute_input": "2022-01-22T17:13:05.810568Z",
     "iopub.status.busy": "2022-01-22T17:13:05.810568Z",
     "iopub.status.idle": "2022-01-22T17:13:05.825528Z",
     "shell.execute_reply": "2022-01-22T17:13:05.825528Z",
     "shell.execute_reply.started": "2022-01-22T17:13:05.810568Z"
    }
   },
   "outputs": [
    {
     "data": {
      "text/plain": [
       "0.9987115859985352"
      ]
     },
     "execution_count": 52,
     "metadata": {},
     "output_type": "execute_result"
    }
   ],
   "source": [
    "# Confirming:\n",
    "stats.binom.cdf(16, n, p)"
   ]
  },
  {
   "cell_type": "markdown",
   "id": "06b380d3-da92-45f7-af7f-f27fa05f211c",
   "metadata": {},
   "source": [
    "#### Final plot"
   ]
  },
  {
   "cell_type": "code",
   "execution_count": 53,
   "id": "3dc32f6f-8358-43c4-aa36-f543a2a5363a",
   "metadata": {
    "execution": {
     "iopub.execute_input": "2022-01-22T17:13:05.826526Z",
     "iopub.status.busy": "2022-01-22T17:13:05.826526Z",
     "iopub.status.idle": "2022-01-22T17:13:05.841486Z",
     "shell.execute_reply": "2022-01-22T17:13:05.841486Z",
     "shell.execute_reply.started": "2022-01-22T17:13:05.826526Z"
    },
    "tags": []
   },
   "outputs": [],
   "source": [
    "red_border = int(stats.binom.ppf(0.005, n, p))\n",
    "red_zone = pmf[:red_border+1]"
   ]
  },
  {
   "cell_type": "code",
   "execution_count": 54,
   "id": "39989c83-3be7-41b8-9b98-794e1c1ff24c",
   "metadata": {
    "execution": {
     "iopub.execute_input": "2022-01-22T17:13:05.842484Z",
     "iopub.status.busy": "2022-01-22T17:13:05.842484Z",
     "iopub.status.idle": "2022-01-22T17:13:05.857444Z",
     "shell.execute_reply": "2022-01-22T17:13:05.857444Z",
     "shell.execute_reply.started": "2022-01-22T17:13:05.842484Z"
    }
   },
   "outputs": [],
   "source": [
    "green_border = int(stats.binom.ppf(0.995, n, p))\n",
    "green_zone = pmf[green_border:]"
   ]
  },
  {
   "cell_type": "code",
   "execution_count": 55,
   "id": "6026e066-a628-46cd-81cb-596c68a55b0b",
   "metadata": {
    "execution": {
     "iopub.execute_input": "2022-01-22T17:13:05.858441Z",
     "iopub.status.busy": "2022-01-22T17:13:05.858441Z",
     "iopub.status.idle": "2022-01-22T17:13:05.873401Z",
     "shell.execute_reply": "2022-01-22T17:13:05.873401Z",
     "shell.execute_reply.started": "2022-01-22T17:13:05.858441Z"
    }
   },
   "outputs": [],
   "source": [
    "blue_zone = pmf[red_border:green_border+1]"
   ]
  },
  {
   "cell_type": "code",
   "execution_count": 56,
   "id": "a7fbf62c-a700-4dca-b8a0-edeb3537f62a",
   "metadata": {
    "execution": {
     "iopub.execute_input": "2022-01-22T17:13:05.874399Z",
     "iopub.status.busy": "2022-01-22T17:13:05.874399Z",
     "iopub.status.idle": "2022-01-22T17:13:06.137722Z",
     "shell.execute_reply": "2022-01-22T17:13:06.137722Z",
     "shell.execute_reply.started": "2022-01-22T17:13:05.874399Z"
    },
    "tags": []
   },
   "outputs": [
    {
     "data": {
      "text/plain": [
       "Text(0.5, 1.0, 'Binomial distribution. p = 0.5; n = 20')"
      ]
     },
     "execution_count": 56,
     "metadata": {},
     "output_type": "execute_result"
    },
    {
     "data": {
      "image/png": "[encoded data removed]",
      "text/plain": [
       "<Figure size 864x360 with 1 Axes>"
      ]
     },
     "metadata": {},
     "output_type": "display_data"
    }
   ],
   "source": [
    "plt.figure(figsize = (12, 5))\n",
    "# Scatters\n",
    "sns.scatterplot(x = range(0, red_border+1), y = red_zone, color = 'r', s = 120,  linewidth = 0)\n",
    "sns.scatterplot(x = range(red_border, green_border+1), y = blue_zone, color = 'b', s = 120,  linewidth = 0)\n",
    "sns.scatterplot(x = range(green_border, n+1), y = green_zone, color = 'g', s = 120,  linewidth = 0)\n",
    "# Lines\n",
    "sns.lineplot(x = range(0, red_border+1), y = red_zone, color = 'r', linewidth = 3)\n",
    "sns.lineplot(x = range(red_border, green_border+1), y = blue_zone, color = 'b', linewidth = 3)\n",
    "sns.lineplot(x = range(green_border, n+1), y = green_zone, color = 'g', linewidth = 3)\n",
    "# Vertical lines\n",
    "for x, y in zip(range(0, red_border+1), red_zone):\n",
    "    plt.plot([x, x], [0, y], color = 'r')\n",
    "for x, y in zip(range(red_border, green_border+1), blue_zone):\n",
    "    plt.plot([x, x], [0, y], color = 'b')\n",
    "for x, y in zip(range(green_border, n+1), green_zone):\n",
    "    plt.plot([x, x], [0, y], color = 'g')\n",
    "# Plot config\n",
    "plt.xticks(range(n+1))\n",
    "plt.title(\"Binomial distribution. p = 0.5; n = 20\")"
   ]
  },
  {
   "cell_type": "markdown",
   "id": "97caa91a-1c39-4e2c-a9f0-9aae30cca5a1",
   "metadata": {},
   "source": [
    "#### Table for the article"
   ]
  },
  {
   "cell_type": "code",
   "execution_count": 57,
   "id": "119b38de-f71a-4668-83ac-9160fa5c14b2",
   "metadata": {
    "execution": {
     "iopub.execute_input": "2022-01-22T17:13:06.138691Z",
     "iopub.status.busy": "2022-01-22T17:13:06.138691Z",
     "iopub.status.idle": "2022-01-22T17:13:06.154649Z",
     "shell.execute_reply": "2022-01-22T17:13:06.153653Z",
     "shell.execute_reply.started": "2022-01-22T17:13:06.138691Z"
    },
    "tags": []
   },
   "outputs": [
    {
     "data": {
      "text/html": [
       "<div>\n",
       "<style scoped>\n",
       "    .dataframe tbody tr th:only-of-type {\n",
       "        vertical-align: middle;\n",
       "    }\n",
       "\n",
       "    .dataframe tbody tr th {\n",
       "        vertical-align: top;\n",
       "    }\n",
       "\n",
       "    .dataframe thead th {\n",
       "        text-align: right;\n",
       "    }\n",
       "</style>\n",
       "<table border=\"1\" class=\"dataframe\">\n",
       "  <thead>\n",
       "    <tr style=\"text-align: right;\">\n",
       "      <th></th>\n",
       "      <th>genre</th>\n",
       "      <th>audience_score</th>\n",
       "      <th>critic_score</th>\n",
       "    </tr>\n",
       "  </thead>\n",
       "  <tbody>\n",
       "    <tr>\n",
       "      <th>hits</th>\n",
       "      <td>3</td>\n",
       "      <td>14</td>\n",
       "      <td>20</td>\n",
       "    </tr>\n",
       "  </tbody>\n",
       "</table>\n",
       "</div>"
      ],
      "text/plain": [
       "      genre  audience_score  critic_score\n",
       "hits      3              14            20"
      ]
     },
     "execution_count": 57,
     "metadata": {},
     "output_type": "execute_result"
    }
   ],
   "source": [
    "pd.DataFrame(index = [\"hits\"], data = {\"genre\" : 3, \"audience_score\" : 14, \"critic_score\"  : 20})"
   ]
  }
 ],
 "metadata": {
  "kernelspec": {
   "display_name": "Python 3",
   "language": "python",
   "name": "python3"
  },
  "language_info": {
   "codemirror_mode": {
    "name": "ipython",
    "version": 3
   },
   "file_extension": ".py",
   "mimetype": "text/x-python",
   "name": "python",
   "nbconvert_exporter": "python",
   "pygments_lexer": "ipython3",
   "version": "3.8.8"
  }
 },
 "nbformat": 4,
 "nbformat_minor": 5
}
