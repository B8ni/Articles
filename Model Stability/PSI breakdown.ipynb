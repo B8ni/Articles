{
 "cells": [
  {
   "cell_type": "markdown",
   "id": "f24b6f3f-bab0-4d18-a2cc-96c226d3f557",
   "metadata": {},
   "source": [
    "# PSI - Population Stability Index\n",
    "Vinícius Trevisan 2022"
   ]
  },
  {
   "cell_type": "markdown",
   "id": "80c803c8-cce8-49b8-ad4f-5c21c80d066c",
   "metadata": {},
   "source": [
    "## Imports"
   ]
  },
  {
   "cell_type": "code",
   "execution_count": 1,
   "id": "e45e5808-2c94-4c41-8c86-bbc29e62a124",
   "metadata": {
    "execution": {
     "iopub.execute_input": "2022-03-05T20:26:41.196776Z",
     "iopub.status.busy": "2022-03-05T20:26:41.195779Z",
     "iopub.status.idle": "2022-03-05T20:26:41.209741Z",
     "shell.execute_reply": "2022-03-05T20:26:41.208768Z",
     "shell.execute_reply.started": "2022-03-05T20:26:41.196776Z"
    },
    "tags": []
   },
   "outputs": [],
   "source": [
    "import numpy as np\n",
    "import pandas as pd\n",
    "import matplotlib.pyplot as plt\n",
    "import seaborn as sns"
   ]
  },
  {
   "cell_type": "code",
   "execution_count": 2,
   "id": "28bf5b8c-c933-403e-be18-15ee3c52aaf7",
   "metadata": {
    "execution": {
     "iopub.execute_input": "2022-03-05T20:26:41.210741Z",
     "iopub.status.busy": "2022-03-05T20:26:41.210741Z",
     "iopub.status.idle": "2022-03-05T20:26:41.303518Z",
     "shell.execute_reply": "2022-03-05T20:26:41.303518Z",
     "shell.execute_reply.started": "2022-03-05T20:26:41.210741Z"
    }
   },
   "outputs": [],
   "source": [
    "# Data prep\n",
    "from sklearn.model_selection import train_test_split"
   ]
  },
  {
   "cell_type": "code",
   "execution_count": 3,
   "id": "2e214b17-fe91-4ccb-b38f-cc82b16869b7",
   "metadata": {
    "execution": {
     "iopub.execute_input": "2022-03-05T20:26:41.304488Z",
     "iopub.status.busy": "2022-03-05T20:26:41.304488Z",
     "iopub.status.idle": "2022-03-05T20:26:41.334408Z",
     "shell.execute_reply": "2022-03-05T20:26:41.334408Z",
     "shell.execute_reply.started": "2022-03-05T20:26:41.304488Z"
    },
    "tags": []
   },
   "outputs": [],
   "source": [
    "# Regression\n",
    "from sklearn.linear_model import ElasticNet"
   ]
  },
  {
   "cell_type": "code",
   "execution_count": 4,
   "id": "ecdf0015-41ff-43bc-b6cc-1e5434f6b1eb",
   "metadata": {
    "execution": {
     "iopub.execute_input": "2022-03-05T20:26:41.335407Z",
     "iopub.status.busy": "2022-03-05T20:26:41.335407Z",
     "iopub.status.idle": "2022-03-05T20:26:41.350396Z",
     "shell.execute_reply": "2022-03-05T20:26:41.350396Z",
     "shell.execute_reply.started": "2022-03-05T20:26:41.335407Z"
    },
    "tags": []
   },
   "outputs": [],
   "source": [
    "def evaluate_regression(y, y_pred):\n",
    "    \n",
    "    '''\n",
    "    Prints the most common evaluation metrics for regression\n",
    "    '''\n",
    "    \n",
    "    mae = MAE(y, y_pred)\n",
    "    mse = MSE(y, y_pred)\n",
    "    rmse = mse ** (1/2)\n",
    "    r2 = R2(y, y_pred)\n",
    "    \n",
    "    print('Regression result')\n",
    "    print(f\"MAE:  {mae:.4f}\")\n",
    "    print(f\"MSE:  {mse:.4f}\")\n",
    "    print(f\"RMSE: {rmse:.4f}\")\n",
    "    print(f\"R2:   {r2:.4f}\")"
   ]
  },
  {
   "cell_type": "code",
   "execution_count": 5,
   "id": "e3a71a65-ec81-4a61-95ce-fe015cb8991a",
   "metadata": {
    "execution": {
     "iopub.execute_input": "2022-03-05T20:26:41.351363Z",
     "iopub.status.busy": "2022-03-05T20:26:41.351363Z",
     "iopub.status.idle": "2022-03-05T20:26:41.366334Z",
     "shell.execute_reply": "2022-03-05T20:26:41.366334Z",
     "shell.execute_reply.started": "2022-03-05T20:26:41.351363Z"
    },
    "tags": []
   },
   "outputs": [],
   "source": [
    "def evaluate_classification(y, y_proba, threshold = 0.5):\n",
    "    \n",
    "    '''\n",
    "    Prints the most common evaluation metrics for regression\n",
    "    '''\n",
    "    y_pred = [1 if y > threshold else 0 for y in y_proba]\n",
    "    \n",
    "    accuracy = accuracy_score(y, y_pred)\n",
    "    precision = precision_score(y, y_pred)\n",
    "    recall = recall_score(y, y_pred)\n",
    "    f1 = f1_score(y, y_pred)\n",
    "    roc_auc = roc_auc_score(y, y_proba)\n",
    "    \n",
    "    print('Classification result')\n",
    "    print(f\"Accuracy:  {accuracy:.4f}\")\n",
    "    print(f\"Precision: {precision:.4f}\")\n",
    "    print(f\"Recall:    {recall:.4f}\")\n",
    "    print(f\"F1:        {f1:.4f}\")\n",
    "    print(f\"ROC AUC:   {roc_auc:.4f}\")"
   ]
  },
  {
   "cell_type": "markdown",
   "id": "549b5d79-567d-40b3-9424-b711e711edc8",
   "metadata": {
    "tags": []
   },
   "source": [
    "## Regressor"
   ]
  },
  {
   "cell_type": "markdown",
   "id": "4dccd7d6-1ac3-40fc-8735-b215ccf69e46",
   "metadata": {},
   "source": [
    "I will train a regressor with a synthetic dataset in a manner that:\n",
    "\n",
    "$$y = a_1 \\cdot x_1 + a_2 \\cdot x_2 + a_3 \\cdot x_3 + b$$\n",
    "\n",
    "The features $x_1$, $x_2$ and $x_3$ will be sampled from different distributions and $y$ will be calculated for the train and test sets.\n",
    "\n",
    "Then, I will create new features $z_1$, $z_2$ and $z_3$ which are the same features as before, but sampled with a slight deviation on $x_2$ to create $z_2$ and a large deviation on $x_3$ to create $z_3$. The feature $z_1$ will come from exactly the same distribution as $x_1$."
   ]
  },
  {
   "cell_type": "markdown",
   "id": "01fac1cc-5f20-4bd4-9da3-9fc04cb361fe",
   "metadata": {
    "tags": []
   },
   "source": [
    "### Create Synthetic Dataset"
   ]
  },
  {
   "cell_type": "code",
   "execution_count": 6,
   "id": "fa5a2d27-43c4-43bf-a0ff-6492b0f96581",
   "metadata": {
    "execution": {
     "iopub.execute_input": "2022-03-05T20:26:41.367320Z",
     "iopub.status.busy": "2022-03-05T20:26:41.367320Z",
     "iopub.status.idle": "2022-03-05T20:26:41.382362Z",
     "shell.execute_reply": "2022-03-05T20:26:41.382362Z",
     "shell.execute_reply.started": "2022-03-05T20:26:41.367320Z"
    },
    "tags": []
   },
   "outputs": [],
   "source": [
    "# Sample size \n",
    "size = 5000"
   ]
  },
  {
   "cell_type": "code",
   "execution_count": 7,
   "id": "ea06f84c-0365-4339-89f8-294b09f14748",
   "metadata": {
    "execution": {
     "iopub.execute_input": "2022-03-05T20:26:41.384352Z",
     "iopub.status.busy": "2022-03-05T20:26:41.384352Z",
     "iopub.status.idle": "2022-03-05T20:26:41.398299Z",
     "shell.execute_reply": "2022-03-05T20:26:41.398299Z",
     "shell.execute_reply.started": "2022-03-05T20:26:41.384352Z"
    },
    "tags": []
   },
   "outputs": [],
   "source": [
    "# Create random samples\n",
    "x1 = np.random.normal(loc = 0, scale = 2, size = size)\n",
    "x2 = np.random.normal(loc = 3, scale = 1, size = size)\n",
    "x3 = np.random.normal(loc = 5, scale = 2, size = size)"
   ]
  },
  {
   "cell_type": "code",
   "execution_count": 8,
   "id": "6d2af07c-9ba9-4441-a932-7e30e9c544bb",
   "metadata": {
    "execution": {
     "iopub.execute_input": "2022-03-05T20:26:41.400291Z",
     "iopub.status.busy": "2022-03-05T20:26:41.400291Z",
     "iopub.status.idle": "2022-03-05T20:26:41.778394Z",
     "shell.execute_reply": "2022-03-05T20:26:41.778394Z",
     "shell.execute_reply.started": "2022-03-05T20:26:41.400291Z"
    },
    "tags": []
   },
   "outputs": [
    {
     "data": {
      "text/plain": [
       "<matplotlib.legend.Legend at 0x1e5395b7400>"
      ]
     },
     "execution_count": 8,
     "metadata": {},
     "output_type": "execute_result"
    },
    {
     "data": {
      "image/png": "[encoded data removed]",
      "text/plain": [
       "<Figure size 720x216 with 1 Axes>"
      ]
     },
     "metadata": {},
     "output_type": "display_data"
    }
   ],
   "source": [
    "# Visualize them\n",
    "plt.figure(figsize = (10,3))\n",
    "sns.histplot(x1, kde = True, color = 'b')\n",
    "sns.histplot(x2, kde = True, color = 'g')\n",
    "sns.histplot(x3, kde = True, color = 'r')\n",
    "plt.legend([\"x1\", \"x2\", \"x3\"])"
   ]
  },
  {
   "cell_type": "code",
   "execution_count": 9,
   "id": "fdb012a4-d3bf-422b-96de-051e7c46e52e",
   "metadata": {
    "execution": {
     "iopub.execute_input": "2022-03-05T20:26:41.779251Z",
     "iopub.status.busy": "2022-03-05T20:26:41.779251Z",
     "iopub.status.idle": "2022-03-05T20:26:41.795362Z",
     "shell.execute_reply": "2022-03-05T20:26:41.794392Z",
     "shell.execute_reply.started": "2022-03-05T20:26:41.779251Z"
    },
    "tags": []
   },
   "outputs": [],
   "source": [
    "# Create random samples\n",
    "z1 = np.random.normal(loc = 0, scale = 2, size = size)  # The same as x1\n",
    "z2 = np.random.normal(loc = 3.5, scale = 0.75, size = size)  # x2 with slight changes on scale and loc\n",
    "z3 = np.random.normal(loc = 8, scale = 3, size = size)  # x3 with large changes on scale and loc"
   ]
  },
  {
   "cell_type": "code",
   "execution_count": 10,
   "id": "a6c329bc-24af-4e23-8dd9-182313dc2177",
   "metadata": {
    "execution": {
     "iopub.execute_input": "2022-03-05T20:26:41.795362Z",
     "iopub.status.busy": "2022-03-05T20:26:41.795362Z",
     "iopub.status.idle": "2022-03-05T20:26:42.535812Z",
     "shell.execute_reply": "2022-03-05T20:26:42.535812Z",
     "shell.execute_reply.started": "2022-03-05T20:26:41.795362Z"
    },
    "tags": []
   },
   "outputs": [
    {
     "data": {
      "text/plain": [
       "<matplotlib.legend.Legend at 0x1e5397a9e50>"
      ]
     },
     "execution_count": 10,
     "metadata": {},
     "output_type": "execute_result"
    },
    {
     "data": {
      "image/png": "[encoded data removed]",
      "text/plain": [
       "<Figure size 720x216 with 1 Axes>"
      ]
     },
     "metadata": {},
     "output_type": "display_data"
    }
   ],
   "source": [
    "# Visualize them\n",
    "plt.figure(figsize = (10,3))\n",
    "sns.histplot(x1, kde = True, color = 'lightblue', fill = False)\n",
    "sns.histplot(x2, kde = True, color = 'lightgreen', fill = False)\n",
    "sns.histplot(x3, kde = True, color = 'pink', fill = False)\n",
    "sns.histplot(z1, kde = True, color = 'b')\n",
    "sns.histplot(z2, kde = True, color = 'g')\n",
    "sns.histplot(z3, kde = True, color = 'r')\n",
    "plt.legend([\"x1\", \"x2\", \"x3\", \"z1\", \"z2\", \"z3\"])"
   ]
  },
  {
   "cell_type": "markdown",
   "id": "8a6c6337-4285-4bbb-b5a1-cf1988322f6c",
   "metadata": {},
   "source": [
    "### Prepare train and test data"
   ]
  },
  {
   "cell_type": "code",
   "execution_count": 11,
   "id": "2abd71f1-3779-4a36-a459-8242bead60f0",
   "metadata": {
    "execution": {
     "iopub.execute_input": "2022-03-05T20:26:42.536686Z",
     "iopub.status.busy": "2022-03-05T20:26:42.536686Z",
     "iopub.status.idle": "2022-03-05T20:26:42.550689Z",
     "shell.execute_reply": "2022-03-05T20:26:42.550689Z",
     "shell.execute_reply.started": "2022-03-05T20:26:42.536686Z"
    },
    "tags": []
   },
   "outputs": [],
   "source": [
    "# yes, a2 = pi, a3 = e and b = phi\n",
    "y = [-2*x1 + 3.1415*x2 + 2.7183*x3 + 1.6180 for (x1, x2, x3) in zip(x1,x2,x3)]"
   ]
  },
  {
   "cell_type": "code",
   "execution_count": 12,
   "id": "8a25fcda-520a-4ad1-85a2-d7ce42ba0ba9",
   "metadata": {
    "execution": {
     "iopub.execute_input": "2022-03-05T20:26:42.551682Z",
     "iopub.status.busy": "2022-03-05T20:26:42.551682Z",
     "iopub.status.idle": "2022-03-05T20:26:43.395453Z",
     "shell.execute_reply": "2022-03-05T20:26:43.395453Z",
     "shell.execute_reply.started": "2022-03-05T20:26:42.551682Z"
    },
    "tags": []
   },
   "outputs": [
    {
     "data": {
      "text/plain": [
       "<AxesSubplot:>"
      ]
     },
     "execution_count": 12,
     "metadata": {},
     "output_type": "execute_result"
    },
    {
     "data": {
      "image/png": "[encoded data removed]",
      "text/plain": [
       "<Figure size 1080x288 with 3 Axes>"
      ]
     },
     "metadata": {},
     "output_type": "display_data"
    }
   ],
   "source": [
    "plt.figure(figsize = (15,4))\n",
    "ax1 = plt.subplot(1, 3, 1)\n",
    "ax2 = plt.subplot(1, 3, 2)\n",
    "ax3 = plt.subplot(1, 3, 3)\n",
    "sns.regplot(x = x1, y = y, ax = ax1, scatter_kws={\"color\": \"b\"}, line_kws={\"color\": \"y\"})\n",
    "sns.regplot(x = x2, y = y, ax = ax2, scatter_kws={\"color\": \"g\"}, line_kws={\"color\": \"y\"})\n",
    "sns.regplot(x = x3, y = y, ax = ax3, scatter_kws={\"color\": \"r\"}, line_kws={\"color\": \"y\"})"
   ]
  },
  {
   "cell_type": "code",
   "execution_count": 13,
   "id": "7f4a567d-a6af-4a7f-83dd-51a655bbfb98",
   "metadata": {
    "execution": {
     "iopub.execute_input": "2022-03-05T20:26:43.396437Z",
     "iopub.status.busy": "2022-03-05T20:26:43.396437Z",
     "iopub.status.idle": "2022-03-05T20:26:43.410683Z",
     "shell.execute_reply": "2022-03-05T20:26:43.410683Z",
     "shell.execute_reply.started": "2022-03-05T20:26:43.396437Z"
    },
    "tags": []
   },
   "outputs": [],
   "source": [
    "df = pd.DataFrame({'x1': x1, 'x2': x2, 'x3': x3, 'y' : y})\n",
    "X = df.drop(columns = 'y')\n",
    "y = df['y']"
   ]
  },
  {
   "cell_type": "code",
   "execution_count": 14,
   "id": "adad5403-4134-4a94-bb2b-b8a51f9e70bd",
   "metadata": {
    "execution": {
     "iopub.execute_input": "2022-03-05T20:26:43.411674Z",
     "iopub.status.busy": "2022-03-05T20:26:43.411674Z",
     "iopub.status.idle": "2022-03-05T20:26:43.425670Z",
     "shell.execute_reply": "2022-03-05T20:26:43.425670Z",
     "shell.execute_reply.started": "2022-03-05T20:26:43.411674Z"
    },
    "tags": []
   },
   "outputs": [],
   "source": [
    "X_train, X_test, y_train, y_test = train_test_split(X, y, test_size = 0.2)"
   ]
  },
  {
   "cell_type": "markdown",
   "id": "a0dc0251-1dde-40ee-8d5a-d818ec6eda8b",
   "metadata": {},
   "source": [
    "### Train the regressor"
   ]
  },
  {
   "cell_type": "code",
   "execution_count": 15,
   "id": "55fab079-b958-4fd9-af8d-f56071b478db",
   "metadata": {
    "execution": {
     "iopub.execute_input": "2022-03-05T20:26:43.426667Z",
     "iopub.status.busy": "2022-03-05T20:26:43.426667Z",
     "iopub.status.idle": "2022-03-05T20:26:43.440838Z",
     "shell.execute_reply": "2022-03-05T20:26:43.440838Z",
     "shell.execute_reply.started": "2022-03-05T20:26:43.426667Z"
    },
    "tags": []
   },
   "outputs": [],
   "source": [
    "model = ElasticNet()"
   ]
  },
  {
   "cell_type": "code",
   "execution_count": 16,
   "id": "c6a7b407-2e85-4c02-9115-e614fff507dc",
   "metadata": {
    "execution": {
     "iopub.execute_input": "2022-03-05T20:26:43.441751Z",
     "iopub.status.busy": "2022-03-05T20:26:43.441751Z",
     "iopub.status.idle": "2022-03-05T20:26:43.456013Z",
     "shell.execute_reply": "2022-03-05T20:26:43.456013Z",
     "shell.execute_reply.started": "2022-03-05T20:26:43.441751Z"
    },
    "tags": []
   },
   "outputs": [
    {
     "data": {
      "text/plain": [
       "ElasticNet()"
      ]
     },
     "execution_count": 16,
     "metadata": {},
     "output_type": "execute_result"
    }
   ],
   "source": [
    "model.fit(X_train, y_train)"
   ]
  },
  {
   "cell_type": "code",
   "execution_count": 17,
   "id": "924e4e2b-b29f-46b3-bd80-7c617872bc0f",
   "metadata": {
    "execution": {
     "iopub.execute_input": "2022-03-05T20:26:43.456865Z",
     "iopub.status.busy": "2022-03-05T20:26:43.456865Z",
     "iopub.status.idle": "2022-03-05T20:26:43.472146Z",
     "shell.execute_reply": "2022-03-05T20:26:43.472146Z",
     "shell.execute_reply.started": "2022-03-05T20:26:43.456865Z"
    },
    "tags": []
   },
   "outputs": [],
   "source": [
    "y_pred = model.predict(X_test)"
   ]
  },
  {
   "cell_type": "markdown",
   "id": "333172ea-c3bf-41b9-b953-398c6b3af104",
   "metadata": {
    "tags": []
   },
   "source": [
    "### Predicts the shifted data"
   ]
  },
  {
   "cell_type": "code",
   "execution_count": 18,
   "id": "8991b1ce-457b-492e-abe2-24a0afd0971f",
   "metadata": {
    "execution": {
     "iopub.execute_input": "2022-03-05T20:26:43.473004Z",
     "iopub.status.busy": "2022-03-05T20:26:43.473004Z",
     "iopub.status.idle": "2022-03-05T20:26:43.487427Z",
     "shell.execute_reply": "2022-03-05T20:26:43.487427Z",
     "shell.execute_reply.started": "2022-03-05T20:26:43.473004Z"
    },
    "tags": []
   },
   "outputs": [],
   "source": [
    "Z = pd.DataFrame({'x1': z1, 'x2': z2, 'x3': z3})"
   ]
  },
  {
   "cell_type": "code",
   "execution_count": 19,
   "id": "e9fb3b93-9e01-4354-812e-c05f61bf7cb8",
   "metadata": {
    "execution": {
     "iopub.execute_input": "2022-03-05T20:26:43.488458Z",
     "iopub.status.busy": "2022-03-05T20:26:43.488458Z",
     "iopub.status.idle": "2022-03-05T20:26:43.502671Z",
     "shell.execute_reply": "2022-03-05T20:26:43.502671Z",
     "shell.execute_reply.started": "2022-03-05T20:26:43.488458Z"
    },
    "tags": []
   },
   "outputs": [],
   "source": [
    "z_pred = model.predict(Z)"
   ]
  },
  {
   "cell_type": "code",
   "execution_count": 20,
   "id": "35904482-2cc2-4d8f-a200-944dae90af9d",
   "metadata": {
    "execution": {
     "iopub.execute_input": "2022-03-05T20:26:43.503684Z",
     "iopub.status.busy": "2022-03-05T20:26:43.503684Z",
     "iopub.status.idle": "2022-03-05T20:26:44.333452Z",
     "shell.execute_reply": "2022-03-05T20:26:44.333452Z",
     "shell.execute_reply.started": "2022-03-05T20:26:43.503684Z"
    },
    "tags": []
   },
   "outputs": [
    {
     "data": {
      "text/plain": [
       "<AxesSubplot:>"
      ]
     },
     "execution_count": 20,
     "metadata": {},
     "output_type": "execute_result"
    },
    {
     "data": {
      "image/png": "[encoded data removed]",
      "text/plain": [
       "<Figure size 1080x288 with 3 Axes>"
      ]
     },
     "metadata": {},
     "output_type": "display_data"
    }
   ],
   "source": [
    "plt.figure(figsize = (15,4))\n",
    "ax1 = plt.subplot(1, 3, 1)\n",
    "ax2 = plt.subplot(1, 3, 2)\n",
    "ax3 = plt.subplot(1, 3, 3)\n",
    "sns.regplot(x = z1, y = z_pred, ax = ax1, scatter_kws={\"color\": \"b\"}, line_kws={\"color\": \"y\"})\n",
    "sns.regplot(x = z2, y = z_pred, ax = ax2, scatter_kws={\"color\": \"g\"}, line_kws={\"color\": \"y\"})\n",
    "sns.regplot(x = z3, y = z_pred, ax = ax3, scatter_kws={\"color\": \"r\"}, line_kws={\"color\": \"y\"})"
   ]
  },
  {
   "cell_type": "markdown",
   "id": "b3e1f77d-8020-4e1f-b1ee-11a365b216d2",
   "metadata": {},
   "source": [
    "### Calculates the PSI - Fixed"
   ]
  },
  {
   "cell_type": "code",
   "execution_count": 21,
   "id": "6f4dab10-4a4f-4568-bb65-11ecf2b81f61",
   "metadata": {
    "execution": {
     "iopub.execute_input": "2022-03-05T20:26:44.334417Z",
     "iopub.status.busy": "2022-03-05T20:26:44.334417Z",
     "iopub.status.idle": "2022-03-05T20:26:44.350469Z",
     "shell.execute_reply": "2022-03-05T20:26:44.349472Z",
     "shell.execute_reply.started": "2022-03-05T20:26:44.334417Z"
    }
   },
   "outputs": [],
   "source": [
    "score_initial = y_pred\n",
    "score_new = z_pred\n",
    "num_bins = 10\n",
    "eps = 1e-4"
   ]
  },
  {
   "cell_type": "code",
   "execution_count": 22,
   "id": "0c63d5a1-1e99-496b-a476-4b02b0fb73b0",
   "metadata": {
    "execution": {
     "iopub.execute_input": "2022-03-05T20:26:44.350469Z",
     "iopub.status.busy": "2022-03-05T20:26:44.350469Z",
     "iopub.status.idle": "2022-03-05T20:26:44.364615Z",
     "shell.execute_reply": "2022-03-05T20:26:44.364615Z",
     "shell.execute_reply.started": "2022-03-05T20:26:44.350469Z"
    }
   },
   "outputs": [],
   "source": [
    "# Sorts the data\n",
    "score_initial.sort()\n",
    "score_new.sort()"
   ]
  },
  {
   "cell_type": "code",
   "execution_count": 23,
   "id": "3ca2f3e6-2dcd-427f-b6bc-80119f06c8d9",
   "metadata": {
    "execution": {
     "iopub.execute_input": "2022-03-05T20:26:44.365576Z",
     "iopub.status.busy": "2022-03-05T20:26:44.365576Z",
     "iopub.status.idle": "2022-03-05T20:26:44.379679Z",
     "shell.execute_reply": "2022-03-05T20:26:44.379679Z",
     "shell.execute_reply.started": "2022-03-05T20:26:44.365576Z"
    },
    "tags": []
   },
   "outputs": [],
   "source": [
    "# Prepare the bins\n",
    "min_val = min(min(score_initial), min(score_new))\n",
    "max_val = max(max(score_initial), max(score_new))\n",
    "bins = [min_val + (max_val - min_val)*(i)/num_bins for i in range(num_bins+1)]\n",
    "bins[0] = min_val - eps # Corrects the lower boundary\n",
    "bins[-1] = max_val + eps # Corrects the higher boundary"
   ]
  },
  {
   "cell_type": "code",
   "execution_count": 24,
   "id": "5907c5f5-0a1a-4571-9117-a355fc546e93",
   "metadata": {
    "execution": {
     "iopub.execute_input": "2022-03-05T20:26:44.380536Z",
     "iopub.status.busy": "2022-03-05T20:26:44.380536Z",
     "iopub.status.idle": "2022-03-05T20:26:44.395523Z",
     "shell.execute_reply": "2022-03-05T20:26:44.395523Z",
     "shell.execute_reply.started": "2022-03-05T20:26:44.380536Z"
    }
   },
   "outputs": [],
   "source": [
    "# Bucketize the initial population and count the sample inside each bucket\n",
    "bins_initial = pd.cut(score_initial, bins = bins, labels = range(1,num_bins+1))\n",
    "df_initial = pd.DataFrame({'initial': score_initial, 'bin': bins_initial})\n",
    "grp_initial = df_initial.groupby('bin').count()\n",
    "grp_initial['percent_initial'] = grp_initial['initial'] / sum(grp_initial['initial'])"
   ]
  },
  {
   "cell_type": "code",
   "execution_count": 25,
   "id": "6b35fd1e-2583-483f-b1f1-d2ce4d134873",
   "metadata": {
    "execution": {
     "iopub.execute_input": "2022-03-05T20:26:44.398549Z",
     "iopub.status.busy": "2022-03-05T20:26:44.398549Z",
     "iopub.status.idle": "2022-03-05T20:26:44.411506Z",
     "shell.execute_reply": "2022-03-05T20:26:44.411506Z",
     "shell.execute_reply.started": "2022-03-05T20:26:44.398549Z"
    }
   },
   "outputs": [
    {
     "data": {
      "text/html": [
       "<div>\n",
       "<style scoped>\n",
       "    .dataframe tbody tr th:only-of-type {\n",
       "        vertical-align: middle;\n",
       "    }\n",
       "\n",
       "    .dataframe tbody tr th {\n",
       "        vertical-align: top;\n",
       "    }\n",
       "\n",
       "    .dataframe thead th {\n",
       "        text-align: right;\n",
       "    }\n",
       "</style>\n",
       "<table border=\"1\" class=\"dataframe\">\n",
       "  <thead>\n",
       "    <tr style=\"text-align: right;\">\n",
       "      <th></th>\n",
       "      <th>initial</th>\n",
       "      <th>percent_initial</th>\n",
       "    </tr>\n",
       "    <tr>\n",
       "      <th>bin</th>\n",
       "      <th></th>\n",
       "      <th></th>\n",
       "    </tr>\n",
       "  </thead>\n",
       "  <tbody>\n",
       "    <tr>\n",
       "      <th>1</th>\n",
       "      <td>3</td>\n",
       "      <td>0.003</td>\n",
       "    </tr>\n",
       "    <tr>\n",
       "      <th>2</th>\n",
       "      <td>52</td>\n",
       "      <td>0.052</td>\n",
       "    </tr>\n",
       "    <tr>\n",
       "      <th>3</th>\n",
       "      <td>188</td>\n",
       "      <td>0.188</td>\n",
       "    </tr>\n",
       "    <tr>\n",
       "      <th>4</th>\n",
       "      <td>351</td>\n",
       "      <td>0.351</td>\n",
       "    </tr>\n",
       "    <tr>\n",
       "      <th>5</th>\n",
       "      <td>289</td>\n",
       "      <td>0.289</td>\n",
       "    </tr>\n",
       "    <tr>\n",
       "      <th>6</th>\n",
       "      <td>103</td>\n",
       "      <td>0.103</td>\n",
       "    </tr>\n",
       "    <tr>\n",
       "      <th>7</th>\n",
       "      <td>14</td>\n",
       "      <td>0.014</td>\n",
       "    </tr>\n",
       "    <tr>\n",
       "      <th>8</th>\n",
       "      <td>0</td>\n",
       "      <td>0.000</td>\n",
       "    </tr>\n",
       "    <tr>\n",
       "      <th>9</th>\n",
       "      <td>0</td>\n",
       "      <td>0.000</td>\n",
       "    </tr>\n",
       "    <tr>\n",
       "      <th>10</th>\n",
       "      <td>0</td>\n",
       "      <td>0.000</td>\n",
       "    </tr>\n",
       "  </tbody>\n",
       "</table>\n",
       "</div>"
      ],
      "text/plain": [
       "     initial  percent_initial\n",
       "bin                          \n",
       "1          3            0.003\n",
       "2         52            0.052\n",
       "3        188            0.188\n",
       "4        351            0.351\n",
       "5        289            0.289\n",
       "6        103            0.103\n",
       "7         14            0.014\n",
       "8          0            0.000\n",
       "9          0            0.000\n",
       "10         0            0.000"
      ]
     },
     "execution_count": 25,
     "metadata": {},
     "output_type": "execute_result"
    }
   ],
   "source": [
    "grp_initial"
   ]
  },
  {
   "cell_type": "code",
   "execution_count": 26,
   "id": "91dce2a6-032b-4886-adf9-32a2e88a6432",
   "metadata": {
    "execution": {
     "iopub.execute_input": "2022-03-05T20:26:44.413501Z",
     "iopub.status.busy": "2022-03-05T20:26:44.412510Z",
     "iopub.status.idle": "2022-03-05T20:26:44.427612Z",
     "shell.execute_reply": "2022-03-05T20:26:44.427612Z",
     "shell.execute_reply.started": "2022-03-05T20:26:44.413501Z"
    }
   },
   "outputs": [],
   "source": [
    "# Bucketize the new population and count the sample inside each bucket\n",
    "bins_new = pd.cut(score_new, bins = bins, labels = range(1,num_bins+1))\n",
    "df_new = pd.DataFrame({'new': score_new, 'bin': bins_new})\n",
    "grp_new = df_new.groupby('bin').count()\n",
    "grp_new['percent_new'] = grp_new['new'] / sum(grp_new['new'])"
   ]
  },
  {
   "cell_type": "code",
   "execution_count": 27,
   "id": "3239581a-fe4a-434d-a5b8-f6ecbfee76a4",
   "metadata": {
    "execution": {
     "iopub.execute_input": "2022-03-05T20:26:44.428592Z",
     "iopub.status.busy": "2022-03-05T20:26:44.428592Z",
     "iopub.status.idle": "2022-03-05T20:26:44.442807Z",
     "shell.execute_reply": "2022-03-05T20:26:44.442807Z",
     "shell.execute_reply.started": "2022-03-05T20:26:44.428592Z"
    }
   },
   "outputs": [
    {
     "data": {
      "text/html": [
       "<div>\n",
       "<style scoped>\n",
       "    .dataframe tbody tr th:only-of-type {\n",
       "        vertical-align: middle;\n",
       "    }\n",
       "\n",
       "    .dataframe tbody tr th {\n",
       "        vertical-align: top;\n",
       "    }\n",
       "\n",
       "    .dataframe thead th {\n",
       "        text-align: right;\n",
       "    }\n",
       "</style>\n",
       "<table border=\"1\" class=\"dataframe\">\n",
       "  <thead>\n",
       "    <tr style=\"text-align: right;\">\n",
       "      <th></th>\n",
       "      <th>new</th>\n",
       "      <th>percent_new</th>\n",
       "    </tr>\n",
       "    <tr>\n",
       "      <th>bin</th>\n",
       "      <th></th>\n",
       "      <th></th>\n",
       "    </tr>\n",
       "  </thead>\n",
       "  <tbody>\n",
       "    <tr>\n",
       "      <th>1</th>\n",
       "      <td>13</td>\n",
       "      <td>0.0026</td>\n",
       "    </tr>\n",
       "    <tr>\n",
       "      <th>2</th>\n",
       "      <td>57</td>\n",
       "      <td>0.0114</td>\n",
       "    </tr>\n",
       "    <tr>\n",
       "      <th>3</th>\n",
       "      <td>276</td>\n",
       "      <td>0.0552</td>\n",
       "    </tr>\n",
       "    <tr>\n",
       "      <th>4</th>\n",
       "      <td>707</td>\n",
       "      <td>0.1414</td>\n",
       "    </tr>\n",
       "    <tr>\n",
       "      <th>5</th>\n",
       "      <td>1187</td>\n",
       "      <td>0.2374</td>\n",
       "    </tr>\n",
       "    <tr>\n",
       "      <th>6</th>\n",
       "      <td>1410</td>\n",
       "      <td>0.2820</td>\n",
       "    </tr>\n",
       "    <tr>\n",
       "      <th>7</th>\n",
       "      <td>883</td>\n",
       "      <td>0.1766</td>\n",
       "    </tr>\n",
       "    <tr>\n",
       "      <th>8</th>\n",
       "      <td>362</td>\n",
       "      <td>0.0724</td>\n",
       "    </tr>\n",
       "    <tr>\n",
       "      <th>9</th>\n",
       "      <td>85</td>\n",
       "      <td>0.0170</td>\n",
       "    </tr>\n",
       "    <tr>\n",
       "      <th>10</th>\n",
       "      <td>20</td>\n",
       "      <td>0.0040</td>\n",
       "    </tr>\n",
       "  </tbody>\n",
       "</table>\n",
       "</div>"
      ],
      "text/plain": [
       "      new  percent_new\n",
       "bin                   \n",
       "1      13       0.0026\n",
       "2      57       0.0114\n",
       "3     276       0.0552\n",
       "4     707       0.1414\n",
       "5    1187       0.2374\n",
       "6    1410       0.2820\n",
       "7     883       0.1766\n",
       "8     362       0.0724\n",
       "9      85       0.0170\n",
       "10     20       0.0040"
      ]
     },
     "execution_count": 27,
     "metadata": {},
     "output_type": "execute_result"
    }
   ],
   "source": [
    "grp_new"
   ]
  },
  {
   "cell_type": "code",
   "execution_count": 28,
   "id": "e82946e2-ab0f-4bf0-8d88-aee5b231d5b8",
   "metadata": {
    "execution": {
     "iopub.execute_input": "2022-03-05T20:26:44.443671Z",
     "iopub.status.busy": "2022-03-05T20:26:44.443671Z",
     "iopub.status.idle": "2022-03-05T20:26:44.458829Z",
     "shell.execute_reply": "2022-03-05T20:26:44.457957Z",
     "shell.execute_reply.started": "2022-03-05T20:26:44.443671Z"
    }
   },
   "outputs": [],
   "source": [
    "# Compares the bins to calculate PSI\n",
    "psi_df = grp_initial.join(grp_new, on = \"bin\", how = \"inner\")"
   ]
  },
  {
   "cell_type": "code",
   "execution_count": 29,
   "id": "ea27a423-f572-4766-b2fc-b175091749d6",
   "metadata": {
    "execution": {
     "iopub.execute_input": "2022-03-05T20:26:44.458829Z",
     "iopub.status.busy": "2022-03-05T20:26:44.458829Z",
     "iopub.status.idle": "2022-03-05T20:26:44.474057Z",
     "shell.execute_reply": "2022-03-05T20:26:44.474057Z",
     "shell.execute_reply.started": "2022-03-05T20:26:44.458829Z"
    }
   },
   "outputs": [
    {
     "data": {
      "text/html": [
       "<div>\n",
       "<style scoped>\n",
       "    .dataframe tbody tr th:only-of-type {\n",
       "        vertical-align: middle;\n",
       "    }\n",
       "\n",
       "    .dataframe tbody tr th {\n",
       "        vertical-align: top;\n",
       "    }\n",
       "\n",
       "    .dataframe thead th {\n",
       "        text-align: right;\n",
       "    }\n",
       "</style>\n",
       "<table border=\"1\" class=\"dataframe\">\n",
       "  <thead>\n",
       "    <tr style=\"text-align: right;\">\n",
       "      <th></th>\n",
       "      <th>initial</th>\n",
       "      <th>percent_initial</th>\n",
       "      <th>new</th>\n",
       "      <th>percent_new</th>\n",
       "    </tr>\n",
       "    <tr>\n",
       "      <th>bin</th>\n",
       "      <th></th>\n",
       "      <th></th>\n",
       "      <th></th>\n",
       "      <th></th>\n",
       "    </tr>\n",
       "  </thead>\n",
       "  <tbody>\n",
       "    <tr>\n",
       "      <th>1</th>\n",
       "      <td>3</td>\n",
       "      <td>0.003</td>\n",
       "      <td>13</td>\n",
       "      <td>0.0026</td>\n",
       "    </tr>\n",
       "    <tr>\n",
       "      <th>2</th>\n",
       "      <td>52</td>\n",
       "      <td>0.052</td>\n",
       "      <td>57</td>\n",
       "      <td>0.0114</td>\n",
       "    </tr>\n",
       "    <tr>\n",
       "      <th>3</th>\n",
       "      <td>188</td>\n",
       "      <td>0.188</td>\n",
       "      <td>276</td>\n",
       "      <td>0.0552</td>\n",
       "    </tr>\n",
       "    <tr>\n",
       "      <th>4</th>\n",
       "      <td>351</td>\n",
       "      <td>0.351</td>\n",
       "      <td>707</td>\n",
       "      <td>0.1414</td>\n",
       "    </tr>\n",
       "    <tr>\n",
       "      <th>5</th>\n",
       "      <td>289</td>\n",
       "      <td>0.289</td>\n",
       "      <td>1187</td>\n",
       "      <td>0.2374</td>\n",
       "    </tr>\n",
       "    <tr>\n",
       "      <th>6</th>\n",
       "      <td>103</td>\n",
       "      <td>0.103</td>\n",
       "      <td>1410</td>\n",
       "      <td>0.2820</td>\n",
       "    </tr>\n",
       "    <tr>\n",
       "      <th>7</th>\n",
       "      <td>14</td>\n",
       "      <td>0.014</td>\n",
       "      <td>883</td>\n",
       "      <td>0.1766</td>\n",
       "    </tr>\n",
       "    <tr>\n",
       "      <th>8</th>\n",
       "      <td>0</td>\n",
       "      <td>0.000</td>\n",
       "      <td>362</td>\n",
       "      <td>0.0724</td>\n",
       "    </tr>\n",
       "    <tr>\n",
       "      <th>9</th>\n",
       "      <td>0</td>\n",
       "      <td>0.000</td>\n",
       "      <td>85</td>\n",
       "      <td>0.0170</td>\n",
       "    </tr>\n",
       "    <tr>\n",
       "      <th>10</th>\n",
       "      <td>0</td>\n",
       "      <td>0.000</td>\n",
       "      <td>20</td>\n",
       "      <td>0.0040</td>\n",
       "    </tr>\n",
       "  </tbody>\n",
       "</table>\n",
       "</div>"
      ],
      "text/plain": [
       "     initial  percent_initial   new  percent_new\n",
       "bin                                             \n",
       "1          3            0.003    13       0.0026\n",
       "2         52            0.052    57       0.0114\n",
       "3        188            0.188   276       0.0552\n",
       "4        351            0.351   707       0.1414\n",
       "5        289            0.289  1187       0.2374\n",
       "6        103            0.103  1410       0.2820\n",
       "7         14            0.014   883       0.1766\n",
       "8          0            0.000   362       0.0724\n",
       "9          0            0.000    85       0.0170\n",
       "10         0            0.000    20       0.0040"
      ]
     },
     "execution_count": 29,
     "metadata": {},
     "output_type": "execute_result"
    }
   ],
   "source": [
    "psi_df"
   ]
  },
  {
   "cell_type": "code",
   "execution_count": 30,
   "id": "16960eaf-e392-4859-b480-88a2f0b6eb0a",
   "metadata": {
    "execution": {
     "iopub.execute_input": "2022-03-05T20:26:44.474913Z",
     "iopub.status.busy": "2022-03-05T20:26:44.474913Z",
     "iopub.status.idle": "2022-03-05T20:26:44.490186Z",
     "shell.execute_reply": "2022-03-05T20:26:44.489327Z",
     "shell.execute_reply.started": "2022-03-05T20:26:44.474913Z"
    }
   },
   "outputs": [],
   "source": [
    "# Adds a small value for when the percent is zero\n",
    "psi_df['percent_initial'] = psi_df['percent_initial'].apply(lambda x: eps if x == 0 else x)\n",
    "psi_df['percent_new'] = psi_df['percent_new'].apply(lambda x: eps if x == 0 else x)"
   ]
  },
  {
   "cell_type": "code",
   "execution_count": 31,
   "id": "550007ff-0adb-4ba5-a8f2-02ea2cc13324",
   "metadata": {
    "execution": {
     "iopub.execute_input": "2022-03-05T20:26:44.490186Z",
     "iopub.status.busy": "2022-03-05T20:26:44.490186Z",
     "iopub.status.idle": "2022-03-05T20:26:44.505328Z",
     "shell.execute_reply": "2022-03-05T20:26:44.505328Z",
     "shell.execute_reply.started": "2022-03-05T20:26:44.490186Z"
    }
   },
   "outputs": [],
   "source": [
    "# Calculates the psi\n",
    "psi_df['psi'] = (psi_df['percent_initial'] - psi_df['percent_new']) * np.log(psi_df['percent_initial'] / psi_df['percent_new'])"
   ]
  },
  {
   "cell_type": "code",
   "execution_count": 32,
   "id": "da2f29d5-ab97-45e5-972a-42922c80a657",
   "metadata": {
    "execution": {
     "iopub.execute_input": "2022-03-05T20:26:44.506296Z",
     "iopub.status.busy": "2022-03-05T20:26:44.506296Z",
     "iopub.status.idle": "2022-03-05T20:26:44.521397Z",
     "shell.execute_reply": "2022-03-05T20:26:44.521397Z",
     "shell.execute_reply.started": "2022-03-05T20:26:44.506296Z"
    }
   },
   "outputs": [
    {
     "data": {
      "text/html": [
       "<div>\n",
       "<style scoped>\n",
       "    .dataframe tbody tr th:only-of-type {\n",
       "        vertical-align: middle;\n",
       "    }\n",
       "\n",
       "    .dataframe tbody tr th {\n",
       "        vertical-align: top;\n",
       "    }\n",
       "\n",
       "    .dataframe thead th {\n",
       "        text-align: right;\n",
       "    }\n",
       "</style>\n",
       "<table border=\"1\" class=\"dataframe\">\n",
       "  <thead>\n",
       "    <tr style=\"text-align: right;\">\n",
       "      <th></th>\n",
       "      <th>initial</th>\n",
       "      <th>percent_initial</th>\n",
       "      <th>new</th>\n",
       "      <th>percent_new</th>\n",
       "      <th>psi</th>\n",
       "    </tr>\n",
       "    <tr>\n",
       "      <th>bin</th>\n",
       "      <th></th>\n",
       "      <th></th>\n",
       "      <th></th>\n",
       "      <th></th>\n",
       "      <th></th>\n",
       "    </tr>\n",
       "  </thead>\n",
       "  <tbody>\n",
       "    <tr>\n",
       "      <th>1</th>\n",
       "      <td>3</td>\n",
       "      <td>0.0030</td>\n",
       "      <td>13</td>\n",
       "      <td>0.0026</td>\n",
       "      <td>0.000057</td>\n",
       "    </tr>\n",
       "    <tr>\n",
       "      <th>2</th>\n",
       "      <td>52</td>\n",
       "      <td>0.0520</td>\n",
       "      <td>57</td>\n",
       "      <td>0.0114</td>\n",
       "      <td>0.061616</td>\n",
       "    </tr>\n",
       "    <tr>\n",
       "      <th>3</th>\n",
       "      <td>188</td>\n",
       "      <td>0.1880</td>\n",
       "      <td>276</td>\n",
       "      <td>0.0552</td>\n",
       "      <td>0.162744</td>\n",
       "    </tr>\n",
       "    <tr>\n",
       "      <th>4</th>\n",
       "      <td>351</td>\n",
       "      <td>0.3510</td>\n",
       "      <td>707</td>\n",
       "      <td>0.1414</td>\n",
       "      <td>0.190567</td>\n",
       "    </tr>\n",
       "    <tr>\n",
       "      <th>5</th>\n",
       "      <td>289</td>\n",
       "      <td>0.2890</td>\n",
       "      <td>1187</td>\n",
       "      <td>0.2374</td>\n",
       "      <td>0.010149</td>\n",
       "    </tr>\n",
       "    <tr>\n",
       "      <th>6</th>\n",
       "      <td>103</td>\n",
       "      <td>0.1030</td>\n",
       "      <td>1410</td>\n",
       "      <td>0.2820</td>\n",
       "      <td>0.180285</td>\n",
       "    </tr>\n",
       "    <tr>\n",
       "      <th>7</th>\n",
       "      <td>14</td>\n",
       "      <td>0.0140</td>\n",
       "      <td>883</td>\n",
       "      <td>0.1766</td>\n",
       "      <td>0.412163</td>\n",
       "    </tr>\n",
       "    <tr>\n",
       "      <th>8</th>\n",
       "      <td>0</td>\n",
       "      <td>0.0001</td>\n",
       "      <td>362</td>\n",
       "      <td>0.0724</td>\n",
       "      <td>0.476080</td>\n",
       "    </tr>\n",
       "    <tr>\n",
       "      <th>9</th>\n",
       "      <td>0</td>\n",
       "      <td>0.0001</td>\n",
       "      <td>85</td>\n",
       "      <td>0.0170</td>\n",
       "      <td>0.086795</td>\n",
       "    </tr>\n",
       "    <tr>\n",
       "      <th>10</th>\n",
       "      <td>0</td>\n",
       "      <td>0.0001</td>\n",
       "      <td>20</td>\n",
       "      <td>0.0040</td>\n",
       "      <td>0.014387</td>\n",
       "    </tr>\n",
       "  </tbody>\n",
       "</table>\n",
       "</div>"
      ],
      "text/plain": [
       "     initial  percent_initial   new  percent_new       psi\n",
       "bin                                                       \n",
       "1          3           0.0030    13       0.0026  0.000057\n",
       "2         52           0.0520    57       0.0114  0.061616\n",
       "3        188           0.1880   276       0.0552  0.162744\n",
       "4        351           0.3510   707       0.1414  0.190567\n",
       "5        289           0.2890  1187       0.2374  0.010149\n",
       "6        103           0.1030  1410       0.2820  0.180285\n",
       "7         14           0.0140   883       0.1766  0.412163\n",
       "8          0           0.0001   362       0.0724  0.476080\n",
       "9          0           0.0001    85       0.0170  0.086795\n",
       "10         0           0.0001    20       0.0040  0.014387"
      ]
     },
     "execution_count": 32,
     "metadata": {},
     "output_type": "execute_result"
    }
   ],
   "source": [
    "psi_df"
   ]
  },
  {
   "cell_type": "code",
   "execution_count": 33,
   "id": "36f69f73-ca61-4281-9676-6150e963aeb5",
   "metadata": {
    "execution": {
     "iopub.execute_input": "2022-03-05T20:26:44.522282Z",
     "iopub.status.busy": "2022-03-05T20:26:44.522282Z",
     "iopub.status.idle": "2022-03-05T20:26:44.537355Z",
     "shell.execute_reply": "2022-03-05T20:26:44.537355Z",
     "shell.execute_reply.started": "2022-03-05T20:26:44.522282Z"
    },
    "tags": []
   },
   "outputs": [],
   "source": [
    "psi_plot = psi_df.reset_index()\n",
    "psi_plot = pd.melt(psi_plot[['bin', 'percent_initial', 'percent_new']], id_vars = 'bin', var_name = 'set', value_name = 'percent')"
   ]
  },
  {
   "cell_type": "code",
   "execution_count": 34,
   "id": "cf6bf67b-7694-4d6c-aa18-06dd87eb03b9",
   "metadata": {
    "execution": {
     "iopub.execute_input": "2022-03-05T20:26:44.538211Z",
     "iopub.status.busy": "2022-03-05T20:26:44.538211Z",
     "iopub.status.idle": "2022-03-05T20:26:44.725038Z",
     "shell.execute_reply": "2022-03-05T20:26:44.725038Z",
     "shell.execute_reply.started": "2022-03-05T20:26:44.538211Z"
    },
    "tags": []
   },
   "outputs": [
    {
     "data": {
      "text/plain": [
       "<AxesSubplot:xlabel='bin', ylabel='percent'>"
      ]
     },
     "execution_count": 34,
     "metadata": {},
     "output_type": "execute_result"
    },
    {
     "data": {
      "image/png": "[encoded data removed]",
      "text/plain": [
       "<Figure size 432x288 with 1 Axes>"
      ]
     },
     "metadata": {},
     "output_type": "display_data"
    }
   ],
   "source": [
    "sns.barplot(x = 'bin', y = 'percent', hue = 'set', data = psi_plot, palette = 'Blues')"
   ]
  },
  {
   "cell_type": "code",
   "execution_count": 35,
   "id": "89ea5160-c1a9-49a7-99d3-48adc0e99d36",
   "metadata": {
    "execution": {
     "iopub.execute_input": "2022-03-05T20:26:44.725890Z",
     "iopub.status.busy": "2022-03-05T20:26:44.725890Z",
     "iopub.status.idle": "2022-03-05T20:26:44.740199Z",
     "shell.execute_reply": "2022-03-05T20:26:44.740199Z",
     "shell.execute_reply.started": "2022-03-05T20:26:44.725890Z"
    }
   },
   "outputs": [],
   "source": [
    "psi_values = psi_df['psi'].values"
   ]
  },
  {
   "cell_type": "code",
   "execution_count": 36,
   "id": "ea852dab-6cea-45ac-a77f-a0a7dac59909",
   "metadata": {
    "execution": {
     "iopub.execute_input": "2022-03-05T20:26:44.741217Z",
     "iopub.status.busy": "2022-03-05T20:26:44.741217Z",
     "iopub.status.idle": "2022-03-05T20:26:44.756304Z",
     "shell.execute_reply": "2022-03-05T20:26:44.755444Z",
     "shell.execute_reply.started": "2022-03-05T20:26:44.741217Z"
    }
   },
   "outputs": [
    {
     "data": {
      "text/plain": [
       "array([5.72403375e-05, 6.16157927e-02, 1.62743612e-01, 1.90566951e-01,\n",
       "       1.01486986e-02, 1.80284877e-01, 4.12163351e-01, 4.76080418e-01,\n",
       "       8.67949936e-02, 1.43866299e-02])"
      ]
     },
     "execution_count": 36,
     "metadata": {},
     "output_type": "execute_result"
    }
   ],
   "source": [
    "psi_values"
   ]
  },
  {
   "cell_type": "code",
   "execution_count": 37,
   "id": "c475d20e-2b1c-4708-95c4-d71232cd2a8d",
   "metadata": {
    "execution": {
     "iopub.execute_input": "2022-03-05T20:26:44.756304Z",
     "iopub.status.busy": "2022-03-05T20:26:44.756304Z",
     "iopub.status.idle": "2022-03-05T20:26:44.771453Z",
     "shell.execute_reply": "2022-03-05T20:26:44.770561Z",
     "shell.execute_reply.started": "2022-03-05T20:26:44.756304Z"
    },
    "tags": []
   },
   "outputs": [
    {
     "data": {
      "text/plain": [
       "0.15948425646819625"
      ]
     },
     "execution_count": 37,
     "metadata": {},
     "output_type": "execute_result"
    }
   ],
   "source": [
    "np.mean(psi_values)"
   ]
  },
  {
   "cell_type": "markdown",
   "id": "7c18283b-de4f-4197-aa58-8b2411f0006f",
   "metadata": {},
   "source": [
    "### Calculates the PSI - Fixed"
   ]
  },
  {
   "cell_type": "code",
   "execution_count": 38,
   "id": "e3a2f778-c60a-45bd-a278-01f713548382",
   "metadata": {
    "execution": {
     "iopub.execute_input": "2022-03-05T20:26:44.772439Z",
     "iopub.status.busy": "2022-03-05T20:26:44.771453Z",
     "iopub.status.idle": "2022-03-05T20:26:44.785749Z",
     "shell.execute_reply": "2022-03-05T20:26:44.785749Z",
     "shell.execute_reply.started": "2022-03-05T20:26:44.772439Z"
    }
   },
   "outputs": [],
   "source": [
    "score_initial = y_pred\n",
    "score_new = z_pred\n",
    "num_bins = 10\n",
    "eps = 1e-4"
   ]
  },
  {
   "cell_type": "code",
   "execution_count": 39,
   "id": "54768ebe-4d50-4742-b51a-560256492e72",
   "metadata": {
    "execution": {
     "iopub.execute_input": "2022-03-05T20:26:44.786749Z",
     "iopub.status.busy": "2022-03-05T20:26:44.786749Z",
     "iopub.status.idle": "2022-03-05T20:26:44.801989Z",
     "shell.execute_reply": "2022-03-05T20:26:44.801989Z",
     "shell.execute_reply.started": "2022-03-05T20:26:44.786749Z"
    }
   },
   "outputs": [],
   "source": [
    "# Sorts the data\n",
    "score_initial.sort()\n",
    "score_new.sort()"
   ]
  },
  {
   "cell_type": "code",
   "execution_count": 40,
   "id": "834321ed-01c5-4ecc-9bd1-9fc4c606cc2c",
   "metadata": {
    "execution": {
     "iopub.execute_input": "2022-03-05T20:26:44.802840Z",
     "iopub.status.busy": "2022-03-05T20:26:44.802840Z",
     "iopub.status.idle": "2022-03-05T20:26:44.817943Z",
     "shell.execute_reply": "2022-03-05T20:26:44.817943Z",
     "shell.execute_reply.started": "2022-03-05T20:26:44.802840Z"
    },
    "tags": []
   },
   "outputs": [],
   "source": [
    "# Prepare the bins\n",
    "min_val = min(min(score_initial), min(score_new))\n",
    "max_val = max(max(score_initial), max(score_new))\n",
    "bins = pd.qcut(score_initial, q = num_bins, retbins = True)[1]\n",
    "bins[0] = min_val - eps # Corrects the lower boundary\n",
    "bins[-1] = max_val + eps # Corrects the higher boundary"
   ]
  },
  {
   "cell_type": "code",
   "execution_count": 41,
   "id": "4aa0de91-7535-4e2e-b76b-326bc390dfe7",
   "metadata": {
    "execution": {
     "iopub.execute_input": "2022-03-05T20:26:44.818797Z",
     "iopub.status.busy": "2022-03-05T20:26:44.818797Z",
     "iopub.status.idle": "2022-03-05T20:26:44.833867Z",
     "shell.execute_reply": "2022-03-05T20:26:44.833867Z",
     "shell.execute_reply.started": "2022-03-05T20:26:44.818797Z"
    }
   },
   "outputs": [],
   "source": [
    "# Bucketize the initial population and count the sample inside each bucket\n",
    "bins_initial = pd.cut(score_initial, bins = bins, labels = range(1,num_bins+1))\n",
    "df_initial = pd.DataFrame({'initial': score_initial, 'bin': bins_initial})\n",
    "grp_initial = df_initial.groupby('bin').count()\n",
    "grp_initial['percent_initial'] = grp_initial['initial'] / sum(grp_initial['initial'])"
   ]
  },
  {
   "cell_type": "code",
   "execution_count": 42,
   "id": "809bdb01-9bb4-47b1-b213-0dada35b83e3",
   "metadata": {
    "execution": {
     "iopub.execute_input": "2022-03-05T20:26:44.834754Z",
     "iopub.status.busy": "2022-03-05T20:26:44.834754Z",
     "iopub.status.idle": "2022-03-05T20:26:44.849025Z",
     "shell.execute_reply": "2022-03-05T20:26:44.849025Z",
     "shell.execute_reply.started": "2022-03-05T20:26:44.834754Z"
    }
   },
   "outputs": [
    {
     "data": {
      "text/html": [
       "<div>\n",
       "<style scoped>\n",
       "    .dataframe tbody tr th:only-of-type {\n",
       "        vertical-align: middle;\n",
       "    }\n",
       "\n",
       "    .dataframe tbody tr th {\n",
       "        vertical-align: top;\n",
       "    }\n",
       "\n",
       "    .dataframe thead th {\n",
       "        text-align: right;\n",
       "    }\n",
       "</style>\n",
       "<table border=\"1\" class=\"dataframe\">\n",
       "  <thead>\n",
       "    <tr style=\"text-align: right;\">\n",
       "      <th></th>\n",
       "      <th>initial</th>\n",
       "      <th>percent_initial</th>\n",
       "    </tr>\n",
       "    <tr>\n",
       "      <th>bin</th>\n",
       "      <th></th>\n",
       "      <th></th>\n",
       "    </tr>\n",
       "  </thead>\n",
       "  <tbody>\n",
       "    <tr>\n",
       "      <th>1</th>\n",
       "      <td>100</td>\n",
       "      <td>0.1</td>\n",
       "    </tr>\n",
       "    <tr>\n",
       "      <th>2</th>\n",
       "      <td>100</td>\n",
       "      <td>0.1</td>\n",
       "    </tr>\n",
       "    <tr>\n",
       "      <th>3</th>\n",
       "      <td>100</td>\n",
       "      <td>0.1</td>\n",
       "    </tr>\n",
       "    <tr>\n",
       "      <th>4</th>\n",
       "      <td>100</td>\n",
       "      <td>0.1</td>\n",
       "    </tr>\n",
       "    <tr>\n",
       "      <th>5</th>\n",
       "      <td>100</td>\n",
       "      <td>0.1</td>\n",
       "    </tr>\n",
       "    <tr>\n",
       "      <th>6</th>\n",
       "      <td>100</td>\n",
       "      <td>0.1</td>\n",
       "    </tr>\n",
       "    <tr>\n",
       "      <th>7</th>\n",
       "      <td>100</td>\n",
       "      <td>0.1</td>\n",
       "    </tr>\n",
       "    <tr>\n",
       "      <th>8</th>\n",
       "      <td>100</td>\n",
       "      <td>0.1</td>\n",
       "    </tr>\n",
       "    <tr>\n",
       "      <th>9</th>\n",
       "      <td>100</td>\n",
       "      <td>0.1</td>\n",
       "    </tr>\n",
       "    <tr>\n",
       "      <th>10</th>\n",
       "      <td>100</td>\n",
       "      <td>0.1</td>\n",
       "    </tr>\n",
       "  </tbody>\n",
       "</table>\n",
       "</div>"
      ],
      "text/plain": [
       "     initial  percent_initial\n",
       "bin                          \n",
       "1        100              0.1\n",
       "2        100              0.1\n",
       "3        100              0.1\n",
       "4        100              0.1\n",
       "5        100              0.1\n",
       "6        100              0.1\n",
       "7        100              0.1\n",
       "8        100              0.1\n",
       "9        100              0.1\n",
       "10       100              0.1"
      ]
     },
     "execution_count": 42,
     "metadata": {},
     "output_type": "execute_result"
    }
   ],
   "source": [
    "grp_initial"
   ]
  },
  {
   "cell_type": "code",
   "execution_count": 43,
   "id": "1a1ed868-2e44-4e47-96ea-1fcf372b8ee7",
   "metadata": {
    "execution": {
     "iopub.execute_input": "2022-03-05T20:26:44.850023Z",
     "iopub.status.busy": "2022-03-05T20:26:44.850023Z",
     "iopub.status.idle": "2022-03-05T20:26:44.864158Z",
     "shell.execute_reply": "2022-03-05T20:26:44.864158Z",
     "shell.execute_reply.started": "2022-03-05T20:26:44.850023Z"
    }
   },
   "outputs": [],
   "source": [
    "# Bucketize the new population and count the sample inside each bucket\n",
    "bins_new = pd.cut(score_new, bins = bins, labels = range(1,num_bins+1))\n",
    "df_new = pd.DataFrame({'new': score_new, 'bin': bins_new})\n",
    "grp_new = df_new.groupby('bin').count()\n",
    "grp_new['percent_new'] = grp_new['new'] / sum(grp_new['new'])"
   ]
  },
  {
   "cell_type": "code",
   "execution_count": 44,
   "id": "f51b1a0b-061d-4caf-9347-b9207eaea774",
   "metadata": {
    "execution": {
     "iopub.execute_input": "2022-03-05T20:26:44.865155Z",
     "iopub.status.busy": "2022-03-05T20:26:44.865155Z",
     "iopub.status.idle": "2022-03-05T20:26:44.879475Z",
     "shell.execute_reply": "2022-03-05T20:26:44.879475Z",
     "shell.execute_reply.started": "2022-03-05T20:26:44.865155Z"
    }
   },
   "outputs": [
    {
     "data": {
      "text/html": [
       "<div>\n",
       "<style scoped>\n",
       "    .dataframe tbody tr th:only-of-type {\n",
       "        vertical-align: middle;\n",
       "    }\n",
       "\n",
       "    .dataframe tbody tr th {\n",
       "        vertical-align: top;\n",
       "    }\n",
       "\n",
       "    .dataframe thead th {\n",
       "        text-align: right;\n",
       "    }\n",
       "</style>\n",
       "<table border=\"1\" class=\"dataframe\">\n",
       "  <thead>\n",
       "    <tr style=\"text-align: right;\">\n",
       "      <th></th>\n",
       "      <th>new</th>\n",
       "      <th>percent_new</th>\n",
       "    </tr>\n",
       "    <tr>\n",
       "      <th>bin</th>\n",
       "      <th></th>\n",
       "      <th></th>\n",
       "    </tr>\n",
       "  </thead>\n",
       "  <tbody>\n",
       "    <tr>\n",
       "      <th>1</th>\n",
       "      <td>137</td>\n",
       "      <td>0.0274</td>\n",
       "    </tr>\n",
       "    <tr>\n",
       "      <th>2</th>\n",
       "      <td>144</td>\n",
       "      <td>0.0288</td>\n",
       "    </tr>\n",
       "    <tr>\n",
       "      <th>3</th>\n",
       "      <td>164</td>\n",
       "      <td>0.0328</td>\n",
       "    </tr>\n",
       "    <tr>\n",
       "      <th>4</th>\n",
       "      <td>173</td>\n",
       "      <td>0.0346</td>\n",
       "    </tr>\n",
       "    <tr>\n",
       "      <th>5</th>\n",
       "      <td>194</td>\n",
       "      <td>0.0388</td>\n",
       "    </tr>\n",
       "    <tr>\n",
       "      <th>6</th>\n",
       "      <td>256</td>\n",
       "      <td>0.0512</td>\n",
       "    </tr>\n",
       "    <tr>\n",
       "      <th>7</th>\n",
       "      <td>334</td>\n",
       "      <td>0.0668</td>\n",
       "    </tr>\n",
       "    <tr>\n",
       "      <th>8</th>\n",
       "      <td>427</td>\n",
       "      <td>0.0854</td>\n",
       "    </tr>\n",
       "    <tr>\n",
       "      <th>9</th>\n",
       "      <td>569</td>\n",
       "      <td>0.1138</td>\n",
       "    </tr>\n",
       "    <tr>\n",
       "      <th>10</th>\n",
       "      <td>2602</td>\n",
       "      <td>0.5204</td>\n",
       "    </tr>\n",
       "  </tbody>\n",
       "</table>\n",
       "</div>"
      ],
      "text/plain": [
       "      new  percent_new\n",
       "bin                   \n",
       "1     137       0.0274\n",
       "2     144       0.0288\n",
       "3     164       0.0328\n",
       "4     173       0.0346\n",
       "5     194       0.0388\n",
       "6     256       0.0512\n",
       "7     334       0.0668\n",
       "8     427       0.0854\n",
       "9     569       0.1138\n",
       "10   2602       0.5204"
      ]
     },
     "execution_count": 44,
     "metadata": {},
     "output_type": "execute_result"
    }
   ],
   "source": [
    "grp_new"
   ]
  },
  {
   "cell_type": "code",
   "execution_count": 45,
   "id": "81bc09cc-12df-405d-8ee6-f4a069a7f8c6",
   "metadata": {
    "execution": {
     "iopub.execute_input": "2022-03-05T20:26:44.880478Z",
     "iopub.status.busy": "2022-03-05T20:26:44.880478Z",
     "iopub.status.idle": "2022-03-05T20:26:44.895403Z",
     "shell.execute_reply": "2022-03-05T20:26:44.895403Z",
     "shell.execute_reply.started": "2022-03-05T20:26:44.880478Z"
    }
   },
   "outputs": [],
   "source": [
    "# Compares the bins to calculate PSI\n",
    "psi_df = grp_initial.join(grp_new, on = \"bin\", how = \"inner\")"
   ]
  },
  {
   "cell_type": "code",
   "execution_count": 46,
   "id": "e476c9ab-6d24-4c2c-88b8-1e843fb20aaf",
   "metadata": {
    "execution": {
     "iopub.execute_input": "2022-03-05T20:26:44.896430Z",
     "iopub.status.busy": "2022-03-05T20:26:44.896430Z",
     "iopub.status.idle": "2022-03-05T20:26:44.912363Z",
     "shell.execute_reply": "2022-03-05T20:26:44.911391Z",
     "shell.execute_reply.started": "2022-03-05T20:26:44.896430Z"
    }
   },
   "outputs": [
    {
     "data": {
      "text/html": [
       "<div>\n",
       "<style scoped>\n",
       "    .dataframe tbody tr th:only-of-type {\n",
       "        vertical-align: middle;\n",
       "    }\n",
       "\n",
       "    .dataframe tbody tr th {\n",
       "        vertical-align: top;\n",
       "    }\n",
       "\n",
       "    .dataframe thead th {\n",
       "        text-align: right;\n",
       "    }\n",
       "</style>\n",
       "<table border=\"1\" class=\"dataframe\">\n",
       "  <thead>\n",
       "    <tr style=\"text-align: right;\">\n",
       "      <th></th>\n",
       "      <th>initial</th>\n",
       "      <th>percent_initial</th>\n",
       "      <th>new</th>\n",
       "      <th>percent_new</th>\n",
       "    </tr>\n",
       "    <tr>\n",
       "      <th>bin</th>\n",
       "      <th></th>\n",
       "      <th></th>\n",
       "      <th></th>\n",
       "      <th></th>\n",
       "    </tr>\n",
       "  </thead>\n",
       "  <tbody>\n",
       "    <tr>\n",
       "      <th>1</th>\n",
       "      <td>100</td>\n",
       "      <td>0.1</td>\n",
       "      <td>137</td>\n",
       "      <td>0.0274</td>\n",
       "    </tr>\n",
       "    <tr>\n",
       "      <th>2</th>\n",
       "      <td>100</td>\n",
       "      <td>0.1</td>\n",
       "      <td>144</td>\n",
       "      <td>0.0288</td>\n",
       "    </tr>\n",
       "    <tr>\n",
       "      <th>3</th>\n",
       "      <td>100</td>\n",
       "      <td>0.1</td>\n",
       "      <td>164</td>\n",
       "      <td>0.0328</td>\n",
       "    </tr>\n",
       "    <tr>\n",
       "      <th>4</th>\n",
       "      <td>100</td>\n",
       "      <td>0.1</td>\n",
       "      <td>173</td>\n",
       "      <td>0.0346</td>\n",
       "    </tr>\n",
       "    <tr>\n",
       "      <th>5</th>\n",
       "      <td>100</td>\n",
       "      <td>0.1</td>\n",
       "      <td>194</td>\n",
       "      <td>0.0388</td>\n",
       "    </tr>\n",
       "    <tr>\n",
       "      <th>6</th>\n",
       "      <td>100</td>\n",
       "      <td>0.1</td>\n",
       "      <td>256</td>\n",
       "      <td>0.0512</td>\n",
       "    </tr>\n",
       "    <tr>\n",
       "      <th>7</th>\n",
       "      <td>100</td>\n",
       "      <td>0.1</td>\n",
       "      <td>334</td>\n",
       "      <td>0.0668</td>\n",
       "    </tr>\n",
       "    <tr>\n",
       "      <th>8</th>\n",
       "      <td>100</td>\n",
       "      <td>0.1</td>\n",
       "      <td>427</td>\n",
       "      <td>0.0854</td>\n",
       "    </tr>\n",
       "    <tr>\n",
       "      <th>9</th>\n",
       "      <td>100</td>\n",
       "      <td>0.1</td>\n",
       "      <td>569</td>\n",
       "      <td>0.1138</td>\n",
       "    </tr>\n",
       "    <tr>\n",
       "      <th>10</th>\n",
       "      <td>100</td>\n",
       "      <td>0.1</td>\n",
       "      <td>2602</td>\n",
       "      <td>0.5204</td>\n",
       "    </tr>\n",
       "  </tbody>\n",
       "</table>\n",
       "</div>"
      ],
      "text/plain": [
       "     initial  percent_initial   new  percent_new\n",
       "bin                                             \n",
       "1        100              0.1   137       0.0274\n",
       "2        100              0.1   144       0.0288\n",
       "3        100              0.1   164       0.0328\n",
       "4        100              0.1   173       0.0346\n",
       "5        100              0.1   194       0.0388\n",
       "6        100              0.1   256       0.0512\n",
       "7        100              0.1   334       0.0668\n",
       "8        100              0.1   427       0.0854\n",
       "9        100              0.1   569       0.1138\n",
       "10       100              0.1  2602       0.5204"
      ]
     },
     "execution_count": 46,
     "metadata": {},
     "output_type": "execute_result"
    }
   ],
   "source": [
    "psi_df"
   ]
  },
  {
   "cell_type": "code",
   "execution_count": 47,
   "id": "97caddfe-ea5e-4126-b6e8-9ee7ef57a825",
   "metadata": {
    "execution": {
     "iopub.execute_input": "2022-03-05T20:26:44.913355Z",
     "iopub.status.busy": "2022-03-05T20:26:44.913355Z",
     "iopub.status.idle": "2022-03-05T20:26:44.926348Z",
     "shell.execute_reply": "2022-03-05T20:26:44.926348Z",
     "shell.execute_reply.started": "2022-03-05T20:26:44.913355Z"
    }
   },
   "outputs": [],
   "source": [
    "# Adds a small value for when the percent is zero\n",
    "psi_df['percent_initial'] = psi_df['percent_initial'].apply(lambda x: eps if x == 0 else x)\n",
    "psi_df['percent_new'] = psi_df['percent_new'].apply(lambda x: eps if x == 0 else x)"
   ]
  },
  {
   "cell_type": "code",
   "execution_count": 48,
   "id": "cd110b64-c05c-4020-9669-8f5612b73105",
   "metadata": {
    "execution": {
     "iopub.execute_input": "2022-03-05T20:26:44.927353Z",
     "iopub.status.busy": "2022-03-05T20:26:44.927353Z",
     "iopub.status.idle": "2022-03-05T20:26:44.942300Z",
     "shell.execute_reply": "2022-03-05T20:26:44.942300Z",
     "shell.execute_reply.started": "2022-03-05T20:26:44.927353Z"
    }
   },
   "outputs": [],
   "source": [
    "# Calculates the psi\n",
    "psi_df['psi'] = (psi_df['percent_initial'] - psi_df['percent_new']) * np.log(psi_df['percent_initial'] / psi_df['percent_new'])"
   ]
  },
  {
   "cell_type": "code",
   "execution_count": 49,
   "id": "ef12a68c-2cf0-45dc-820c-f31ec64d3f79",
   "metadata": {
    "execution": {
     "iopub.execute_input": "2022-03-05T20:26:44.943297Z",
     "iopub.status.busy": "2022-03-05T20:26:44.943297Z",
     "iopub.status.idle": "2022-03-05T20:26:44.957266Z",
     "shell.execute_reply": "2022-03-05T20:26:44.957266Z",
     "shell.execute_reply.started": "2022-03-05T20:26:44.943297Z"
    }
   },
   "outputs": [
    {
     "data": {
      "text/html": [
       "<div>\n",
       "<style scoped>\n",
       "    .dataframe tbody tr th:only-of-type {\n",
       "        vertical-align: middle;\n",
       "    }\n",
       "\n",
       "    .dataframe tbody tr th {\n",
       "        vertical-align: top;\n",
       "    }\n",
       "\n",
       "    .dataframe thead th {\n",
       "        text-align: right;\n",
       "    }\n",
       "</style>\n",
       "<table border=\"1\" class=\"dataframe\">\n",
       "  <thead>\n",
       "    <tr style=\"text-align: right;\">\n",
       "      <th></th>\n",
       "      <th>initial</th>\n",
       "      <th>percent_initial</th>\n",
       "      <th>new</th>\n",
       "      <th>percent_new</th>\n",
       "      <th>psi</th>\n",
       "    </tr>\n",
       "    <tr>\n",
       "      <th>bin</th>\n",
       "      <th></th>\n",
       "      <th></th>\n",
       "      <th></th>\n",
       "      <th></th>\n",
       "      <th></th>\n",
       "    </tr>\n",
       "  </thead>\n",
       "  <tbody>\n",
       "    <tr>\n",
       "      <th>1</th>\n",
       "      <td>100</td>\n",
       "      <td>0.1</td>\n",
       "      <td>137</td>\n",
       "      <td>0.0274</td>\n",
       "      <td>0.093990</td>\n",
       "    </tr>\n",
       "    <tr>\n",
       "      <th>2</th>\n",
       "      <td>100</td>\n",
       "      <td>0.1</td>\n",
       "      <td>144</td>\n",
       "      <td>0.0288</td>\n",
       "      <td>0.088629</td>\n",
       "    </tr>\n",
       "    <tr>\n",
       "      <th>3</th>\n",
       "      <td>100</td>\n",
       "      <td>0.1</td>\n",
       "      <td>164</td>\n",
       "      <td>0.0328</td>\n",
       "      <td>0.074911</td>\n",
       "    </tr>\n",
       "    <tr>\n",
       "      <th>4</th>\n",
       "      <td>100</td>\n",
       "      <td>0.1</td>\n",
       "      <td>173</td>\n",
       "      <td>0.0346</td>\n",
       "      <td>0.069410</td>\n",
       "    </tr>\n",
       "    <tr>\n",
       "      <th>5</th>\n",
       "      <td>100</td>\n",
       "      <td>0.1</td>\n",
       "      <td>194</td>\n",
       "      <td>0.0388</td>\n",
       "      <td>0.057941</td>\n",
       "    </tr>\n",
       "    <tr>\n",
       "      <th>6</th>\n",
       "      <td>100</td>\n",
       "      <td>0.1</td>\n",
       "      <td>256</td>\n",
       "      <td>0.0512</td>\n",
       "      <td>0.032668</td>\n",
       "    </tr>\n",
       "    <tr>\n",
       "      <th>7</th>\n",
       "      <td>100</td>\n",
       "      <td>0.1</td>\n",
       "      <td>334</td>\n",
       "      <td>0.0668</td>\n",
       "      <td>0.013395</td>\n",
       "    </tr>\n",
       "    <tr>\n",
       "      <th>8</th>\n",
       "      <td>100</td>\n",
       "      <td>0.1</td>\n",
       "      <td>427</td>\n",
       "      <td>0.0854</td>\n",
       "      <td>0.002304</td>\n",
       "    </tr>\n",
       "    <tr>\n",
       "      <th>9</th>\n",
       "      <td>100</td>\n",
       "      <td>0.1</td>\n",
       "      <td>569</td>\n",
       "      <td>0.1138</td>\n",
       "      <td>0.001784</td>\n",
       "    </tr>\n",
       "    <tr>\n",
       "      <th>10</th>\n",
       "      <td>100</td>\n",
       "      <td>0.1</td>\n",
       "      <td>2602</td>\n",
       "      <td>0.5204</td>\n",
       "      <td>0.693419</td>\n",
       "    </tr>\n",
       "  </tbody>\n",
       "</table>\n",
       "</div>"
      ],
      "text/plain": [
       "     initial  percent_initial   new  percent_new       psi\n",
       "bin                                                       \n",
       "1        100              0.1   137       0.0274  0.093990\n",
       "2        100              0.1   144       0.0288  0.088629\n",
       "3        100              0.1   164       0.0328  0.074911\n",
       "4        100              0.1   173       0.0346  0.069410\n",
       "5        100              0.1   194       0.0388  0.057941\n",
       "6        100              0.1   256       0.0512  0.032668\n",
       "7        100              0.1   334       0.0668  0.013395\n",
       "8        100              0.1   427       0.0854  0.002304\n",
       "9        100              0.1   569       0.1138  0.001784\n",
       "10       100              0.1  2602       0.5204  0.693419"
      ]
     },
     "execution_count": 49,
     "metadata": {},
     "output_type": "execute_result"
    }
   ],
   "source": [
    "psi_df"
   ]
  },
  {
   "cell_type": "code",
   "execution_count": 50,
   "id": "9c92f34b-76d1-4a57-890e-2668be95e06e",
   "metadata": {
    "execution": {
     "iopub.execute_input": "2022-03-05T20:26:44.958249Z",
     "iopub.status.busy": "2022-03-05T20:26:44.958249Z",
     "iopub.status.idle": "2022-03-05T20:26:44.973195Z",
     "shell.execute_reply": "2022-03-05T20:26:44.972225Z",
     "shell.execute_reply.started": "2022-03-05T20:26:44.958249Z"
    },
    "tags": []
   },
   "outputs": [],
   "source": [
    "psi_plot = psi_df.reset_index()\n",
    "psi_plot = pd.melt(psi_plot[['bin', 'percent_initial', 'percent_new']], id_vars = 'bin', var_name = 'set', value_name = 'percent')"
   ]
  },
  {
   "cell_type": "code",
   "execution_count": 51,
   "id": "d112c905-21c6-44ac-8f79-308a12bde201",
   "metadata": {
    "execution": {
     "iopub.execute_input": "2022-03-05T20:26:44.974193Z",
     "iopub.status.busy": "2022-03-05T20:26:44.973195Z",
     "iopub.status.idle": "2022-03-05T20:26:45.192608Z",
     "shell.execute_reply": "2022-03-05T20:26:45.192608Z",
     "shell.execute_reply.started": "2022-03-05T20:26:44.974193Z"
    },
    "tags": []
   },
   "outputs": [
    {
     "data": {
      "text/plain": [
       "<AxesSubplot:xlabel='bin', ylabel='percent'>"
      ]
     },
     "execution_count": 51,
     "metadata": {},
     "output_type": "execute_result"
    },
    {
     "data": {
      "image/png": "[encoded data removed]",
      "text/plain": [
       "<Figure size 432x288 with 1 Axes>"
      ]
     },
     "metadata": {},
     "output_type": "display_data"
    }
   ],
   "source": [
    "sns.barplot(x = 'bin', y = 'percent', hue = 'set', data = psi_plot, palette = 'Blues')"
   ]
  },
  {
   "cell_type": "code",
   "execution_count": 52,
   "id": "3a3c6ba7-82f1-4387-9439-722edb3a6b18",
   "metadata": {
    "execution": {
     "iopub.execute_input": "2022-03-05T20:26:45.193606Z",
     "iopub.status.busy": "2022-03-05T20:26:45.193606Z",
     "iopub.status.idle": "2022-03-05T20:26:45.208567Z",
     "shell.execute_reply": "2022-03-05T20:26:45.208567Z",
     "shell.execute_reply.started": "2022-03-05T20:26:45.193606Z"
    }
   },
   "outputs": [],
   "source": [
    "psi_values = psi_df['psi'].values"
   ]
  },
  {
   "cell_type": "code",
   "execution_count": 53,
   "id": "e2845c88-39e2-4297-a916-e919fa2c8e9a",
   "metadata": {
    "execution": {
     "iopub.execute_input": "2022-03-05T20:26:45.209562Z",
     "iopub.status.busy": "2022-03-05T20:26:45.209562Z",
     "iopub.status.idle": "2022-03-05T20:26:45.224523Z",
     "shell.execute_reply": "2022-03-05T20:26:45.224523Z",
     "shell.execute_reply.started": "2022-03-05T20:26:45.209562Z"
    }
   },
   "outputs": [
    {
     "data": {
      "text/plain": [
       "array([0.09398993, 0.08862939, 0.07491064, 0.0694101 , 0.0579411 ,\n",
       "       0.03266822, 0.01339511, 0.00230423, 0.00178396, 0.69341935])"
      ]
     },
     "execution_count": 53,
     "metadata": {},
     "output_type": "execute_result"
    }
   ],
   "source": [
    "psi_values"
   ]
  },
  {
   "cell_type": "code",
   "execution_count": 54,
   "id": "bc7c227f-a2b5-4c35-b0d3-a3f76cc9a053",
   "metadata": {
    "execution": {
     "iopub.execute_input": "2022-03-05T20:26:45.226518Z",
     "iopub.status.busy": "2022-03-05T20:26:45.225533Z",
     "iopub.status.idle": "2022-03-05T20:26:45.240481Z",
     "shell.execute_reply": "2022-03-05T20:26:45.240481Z",
     "shell.execute_reply.started": "2022-03-05T20:26:45.226518Z"
    },
    "tags": []
   },
   "outputs": [
    {
     "data": {
      "text/plain": [
       "0.11284520185048848"
      ]
     },
     "execution_count": 54,
     "metadata": {},
     "output_type": "execute_result"
    }
   ],
   "source": [
    "np.mean(psi_values)"
   ]
  },
  {
   "cell_type": "code",
   "execution_count": null,
   "id": "3243b6e0-54a8-425d-903f-4a10821f0b7c",
   "metadata": {},
   "outputs": [],
   "source": []
  }
 ],
 "metadata": {
  "kernelspec": {
   "display_name": "Python 3",
   "language": "python",
   "name": "python3"
  },
  "language_info": {
   "codemirror_mode": {
    "name": "ipython",
    "version": 3
   },
   "file_extension": ".py",
   "mimetype": "text/x-python",
   "name": "python",
   "nbconvert_exporter": "python",
   "pygments_lexer": "ipython3",
   "version": "3.8.8"
  }
 },
 "nbformat": 4,
 "nbformat_minor": 5
}
