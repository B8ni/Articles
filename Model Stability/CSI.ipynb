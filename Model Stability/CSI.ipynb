{
 "cells": [
  {
   "cell_type": "markdown",
   "id": "f24b6f3f-bab0-4d18-a2cc-96c226d3f557",
   "metadata": {},
   "source": [
    "# CSI - Characteristic Stability Index\n",
    "Vinícius Trevisan 2022"
   ]
  },
  {
   "cell_type": "markdown",
   "id": "80c803c8-cce8-49b8-ad4f-5c21c80d066c",
   "metadata": {},
   "source": [
    "## Imports"
   ]
  },
  {
   "cell_type": "code",
   "execution_count": 1,
   "id": "e45e5808-2c94-4c41-8c86-bbc29e62a124",
   "metadata": {
    "execution": {
     "iopub.execute_input": "2022-03-05T20:15:03.109679Z",
     "iopub.status.busy": "2022-03-05T20:15:03.108692Z",
     "iopub.status.idle": "2022-03-05T20:15:03.115664Z",
     "shell.execute_reply": "2022-03-05T20:15:03.115664Z",
     "shell.execute_reply.started": "2022-03-05T20:15:03.108692Z"
    },
    "tags": []
   },
   "outputs": [],
   "source": [
    "import numpy as np\n",
    "import pandas as pd\n",
    "import matplotlib.pyplot as plt\n",
    "import seaborn as sns"
   ]
  },
  {
   "cell_type": "code",
   "execution_count": 2,
   "id": "28bf5b8c-c933-403e-be18-15ee3c52aaf7",
   "metadata": {
    "execution": {
     "iopub.execute_input": "2022-03-05T20:15:03.116661Z",
     "iopub.status.busy": "2022-03-05T20:15:03.116661Z",
     "iopub.status.idle": "2022-03-05T20:15:03.211407Z",
     "shell.execute_reply": "2022-03-05T20:15:03.210437Z",
     "shell.execute_reply.started": "2022-03-05T20:15:03.116661Z"
    }
   },
   "outputs": [],
   "source": [
    "# Data prep\n",
    "from sklearn.model_selection import train_test_split"
   ]
  },
  {
   "cell_type": "code",
   "execution_count": 3,
   "id": "2e214b17-fe91-4ccb-b38f-cc82b16869b7",
   "metadata": {
    "execution": {
     "iopub.execute_input": "2022-03-05T20:15:03.212404Z",
     "iopub.status.busy": "2022-03-05T20:15:03.211407Z",
     "iopub.status.idle": "2022-03-05T20:15:03.241356Z",
     "shell.execute_reply": "2022-03-05T20:15:03.241356Z",
     "shell.execute_reply.started": "2022-03-05T20:15:03.212404Z"
    },
    "tags": []
   },
   "outputs": [],
   "source": [
    "# Regression\n",
    "from sklearn.linear_model import ElasticNet"
   ]
  },
  {
   "cell_type": "code",
   "execution_count": 4,
   "id": "1528baa6-df56-4d2c-adfe-6973d6c811dd",
   "metadata": {
    "execution": {
     "iopub.execute_input": "2022-03-05T20:15:03.242324Z",
     "iopub.status.busy": "2022-03-05T20:15:03.242324Z",
     "iopub.status.idle": "2022-03-05T20:15:03.617684Z",
     "shell.execute_reply": "2022-03-05T20:15:03.616831Z",
     "shell.execute_reply.started": "2022-03-05T20:15:03.242324Z"
    },
    "tags": []
   },
   "outputs": [],
   "source": [
    "# Classification\n",
    "from sklearn.naive_bayes import GaussianNB\n",
    "from sklearn.ensemble import RandomForestClassifier\n",
    "from xgboost import XGBClassifier\n",
    "from sklearn.linear_model import LogisticRegression"
   ]
  },
  {
   "cell_type": "markdown",
   "id": "faaef51b-991e-4ae9-b05a-6329dcff5d58",
   "metadata": {
    "tags": []
   },
   "source": [
    "## Functions"
   ]
  },
  {
   "cell_type": "code",
   "execution_count": 5,
   "id": "844171a0-3ca6-452e-846b-7c926eca95a2",
   "metadata": {
    "execution": {
     "iopub.execute_input": "2022-03-05T20:15:03.617684Z",
     "iopub.status.busy": "2022-03-05T20:15:03.617684Z",
     "iopub.status.idle": "2022-03-05T20:15:03.632783Z",
     "shell.execute_reply": "2022-03-05T20:15:03.632783Z",
     "shell.execute_reply.started": "2022-03-05T20:15:03.617684Z"
    },
    "tags": []
   },
   "outputs": [],
   "source": [
    "def psi(score_initial, score_new, num_bins = 10, mode = 'fixed'):\n",
    "    \n",
    "    eps = 1e-4\n",
    "    \n",
    "    # Sorts the data\n",
    "    score_initial.sort()\n",
    "    score_new.sort()\n",
    "    \n",
    "    # Prepare the bins\n",
    "    min_val = min(min(score_initial), min(score_new))\n",
    "    max_val = max(max(score_initial), max(score_new))\n",
    "    if mode == 'fixed':\n",
    "        bins = [min_val + (max_val - min_val)*(i)/num_bins for i in range(num_bins+1)]\n",
    "    elif mode == 'quantile':\n",
    "        bins = pd.qcut(score_initial, q = num_bins, retbins = True)[1] # Create the quantiles based on the initial population\n",
    "    else:\n",
    "        raise ValueError(f\"Mode \\'{mode}\\' not recognized. Your options are \\'fixed\\' and \\'quantile\\'\")\n",
    "    bins[0] = min_val - eps # Corrects the lower boundary\n",
    "    bins[-1] = max_val + eps # Corrects the higher boundary\n",
    "        \n",
    "        \n",
    "    # Bucketize the initial population and count the sample inside each bucket\n",
    "    bins_initial = pd.cut(score_initial, bins = bins, labels = range(1,num_bins+1))\n",
    "    df_initial = pd.DataFrame({'initial': score_initial, 'bin': bins_initial})\n",
    "    grp_initial = df_initial.groupby('bin').count()\n",
    "    grp_initial['percent_initial'] = grp_initial['initial'] / sum(grp_initial['initial'])\n",
    "    \n",
    "    # Bucketize the new population and count the sample inside each bucket\n",
    "    bins_new = pd.cut(score_new, bins = bins, labels = range(1,num_bins+1))\n",
    "    df_new = pd.DataFrame({'new': score_new, 'bin': bins_new})\n",
    "    grp_new = df_new.groupby('bin').count()\n",
    "    grp_new['percent_new'] = grp_new['new'] / sum(grp_new['new'])\n",
    "    \n",
    "    # Compares the bins to calculate PSI\n",
    "    psi_df = grp_initial.join(grp_new, on = \"bin\", how = \"inner\")\n",
    "    \n",
    "    # Adds a small value for when the percent is zero\n",
    "    psi_df['percent_initial'] = psi_df['percent_initial'].apply(lambda x: eps if x == 0 else x)\n",
    "    psi_df['percent_new'] = psi_df['percent_new'].apply(lambda x: eps if x == 0 else x)\n",
    "    \n",
    "    # Calculates the psi\n",
    "    psi_df['psi'] = (psi_df['percent_initial'] - psi_df['percent_new']) * np.log(psi_df['percent_initial'] / psi_df['percent_new'])\n",
    "    \n",
    "    # Returns the psi values\n",
    "    return psi_df['psi'].values"
   ]
  },
  {
   "cell_type": "markdown",
   "id": "549b5d79-567d-40b3-9424-b711e711edc8",
   "metadata": {
    "tags": []
   },
   "source": [
    "## Regressor"
   ]
  },
  {
   "cell_type": "markdown",
   "id": "c5e38bf8-a44f-4d2d-bffd-0f10d3a93dda",
   "metadata": {},
   "source": [
    "Now that we know that the population has shifted, we now need to know which features contributed to this shift.\n",
    "\n",
    "CSI is basically applying PSI to each feature to see how much it has shifted"
   ]
  },
  {
   "cell_type": "markdown",
   "id": "01fac1cc-5f20-4bd4-9da3-9fc04cb361fe",
   "metadata": {
    "tags": []
   },
   "source": [
    "### Load Synthetic Dataset"
   ]
  },
  {
   "cell_type": "code",
   "execution_count": 6,
   "id": "850b8e89-76c4-4a26-a761-8738749da069",
   "metadata": {
    "execution": {
     "iopub.execute_input": "2022-03-05T20:15:03.633656Z",
     "iopub.status.busy": "2022-03-05T20:15:03.633656Z",
     "iopub.status.idle": "2022-03-05T20:15:03.648616Z",
     "shell.execute_reply": "2022-03-05T20:15:03.648616Z",
     "shell.execute_reply.started": "2022-03-05T20:15:03.633656Z"
    }
   },
   "outputs": [],
   "source": [
    "df_test = pd.read_csv(\"data_test_regression.csv\", sep = \";\")"
   ]
  },
  {
   "cell_type": "code",
   "execution_count": 7,
   "id": "44cbd56e-94c2-4a88-946d-2afd1173413f",
   "metadata": {
    "execution": {
     "iopub.execute_input": "2022-03-05T20:15:03.650611Z",
     "iopub.status.busy": "2022-03-05T20:15:03.650611Z",
     "iopub.status.idle": "2022-03-05T20:15:03.664722Z",
     "shell.execute_reply": "2022-03-05T20:15:03.664722Z",
     "shell.execute_reply.started": "2022-03-05T20:15:03.650611Z"
    },
    "tags": []
   },
   "outputs": [
    {
     "data": {
      "text/html": [
       "<div>\n",
       "<style scoped>\n",
       "    .dataframe tbody tr th:only-of-type {\n",
       "        vertical-align: middle;\n",
       "    }\n",
       "\n",
       "    .dataframe tbody tr th {\n",
       "        vertical-align: top;\n",
       "    }\n",
       "\n",
       "    .dataframe thead th {\n",
       "        text-align: right;\n",
       "    }\n",
       "</style>\n",
       "<table border=\"1\" class=\"dataframe\">\n",
       "  <thead>\n",
       "    <tr style=\"text-align: right;\">\n",
       "      <th></th>\n",
       "      <th>x1</th>\n",
       "      <th>x2</th>\n",
       "      <th>x3</th>\n",
       "      <th>y</th>\n",
       "      <th>pred</th>\n",
       "    </tr>\n",
       "  </thead>\n",
       "  <tbody>\n",
       "    <tr>\n",
       "      <th>0</th>\n",
       "      <td>-0.999027</td>\n",
       "      <td>4.483249</td>\n",
       "      <td>6.718647</td>\n",
       "      <td>35.963477</td>\n",
       "      <td>7.379817</td>\n",
       "    </tr>\n",
       "    <tr>\n",
       "      <th>1</th>\n",
       "      <td>0.062492</td>\n",
       "      <td>3.681372</td>\n",
       "      <td>2.476577</td>\n",
       "      <td>19.790126</td>\n",
       "      <td>8.525168</td>\n",
       "    </tr>\n",
       "    <tr>\n",
       "      <th>2</th>\n",
       "      <td>-1.190431</td>\n",
       "      <td>1.755692</td>\n",
       "      <td>8.585721</td>\n",
       "      <td>32.852933</td>\n",
       "      <td>8.925085</td>\n",
       "    </tr>\n",
       "    <tr>\n",
       "      <th>3</th>\n",
       "      <td>1.396876</td>\n",
       "      <td>3.125114</td>\n",
       "      <td>4.685093</td>\n",
       "      <td>21.377283</td>\n",
       "      <td>9.359330</td>\n",
       "    </tr>\n",
       "    <tr>\n",
       "      <th>4</th>\n",
       "      <td>-2.581283</td>\n",
       "      <td>3.012773</td>\n",
       "      <td>3.254657</td>\n",
       "      <td>25.092326</td>\n",
       "      <td>9.383212</td>\n",
       "    </tr>\n",
       "  </tbody>\n",
       "</table>\n",
       "</div>"
      ],
      "text/plain": [
       "         x1        x2        x3          y      pred\n",
       "0 -0.999027  4.483249  6.718647  35.963477  7.379817\n",
       "1  0.062492  3.681372  2.476577  19.790126  8.525168\n",
       "2 -1.190431  1.755692  8.585721  32.852933  8.925085\n",
       "3  1.396876  3.125114  4.685093  21.377283  9.359330\n",
       "4 -2.581283  3.012773  3.254657  25.092326  9.383212"
      ]
     },
     "execution_count": 7,
     "metadata": {},
     "output_type": "execute_result"
    }
   ],
   "source": [
    "df_test.head()"
   ]
  },
  {
   "cell_type": "code",
   "execution_count": 8,
   "id": "0fa445a2-945d-4969-bca8-ded3d9f9a267",
   "metadata": {
    "execution": {
     "iopub.execute_input": "2022-03-05T20:15:03.665571Z",
     "iopub.status.busy": "2022-03-05T20:15:03.665571Z",
     "iopub.status.idle": "2022-03-05T20:15:03.680531Z",
     "shell.execute_reply": "2022-03-05T20:15:03.679564Z",
     "shell.execute_reply.started": "2022-03-05T20:15:03.665571Z"
    },
    "tags": []
   },
   "outputs": [],
   "source": [
    "Z = pd.read_csv(\"Z_regression.csv\", sep = \";\")"
   ]
  },
  {
   "cell_type": "code",
   "execution_count": 9,
   "id": "a96da29e-2bfe-4083-bebb-99670feb5bcc",
   "metadata": {
    "execution": {
     "iopub.execute_input": "2022-03-05T20:15:03.681528Z",
     "iopub.status.busy": "2022-03-05T20:15:03.680531Z",
     "iopub.status.idle": "2022-03-05T20:15:03.694801Z",
     "shell.execute_reply": "2022-03-05T20:15:03.694801Z",
     "shell.execute_reply.started": "2022-03-05T20:15:03.681528Z"
    },
    "tags": []
   },
   "outputs": [
    {
     "data": {
      "text/html": [
       "<div>\n",
       "<style scoped>\n",
       "    .dataframe tbody tr th:only-of-type {\n",
       "        vertical-align: middle;\n",
       "    }\n",
       "\n",
       "    .dataframe tbody tr th {\n",
       "        vertical-align: top;\n",
       "    }\n",
       "\n",
       "    .dataframe thead th {\n",
       "        text-align: right;\n",
       "    }\n",
       "</style>\n",
       "<table border=\"1\" class=\"dataframe\">\n",
       "  <thead>\n",
       "    <tr style=\"text-align: right;\">\n",
       "      <th></th>\n",
       "      <th>x1</th>\n",
       "      <th>x2</th>\n",
       "      <th>x3</th>\n",
       "      <th>pred</th>\n",
       "    </tr>\n",
       "  </thead>\n",
       "  <tbody>\n",
       "    <tr>\n",
       "      <th>0</th>\n",
       "      <td>-0.593373</td>\n",
       "      <td>3.766731</td>\n",
       "      <td>7.724218</td>\n",
       "      <td>3.372005</td>\n",
       "    </tr>\n",
       "    <tr>\n",
       "      <th>1</th>\n",
       "      <td>-0.056501</td>\n",
       "      <td>3.037664</td>\n",
       "      <td>5.484879</td>\n",
       "      <td>3.393188</td>\n",
       "    </tr>\n",
       "    <tr>\n",
       "      <th>2</th>\n",
       "      <td>-2.492310</td>\n",
       "      <td>3.232186</td>\n",
       "      <td>6.536631</td>\n",
       "      <td>8.109921</td>\n",
       "    </tr>\n",
       "    <tr>\n",
       "      <th>3</th>\n",
       "      <td>-0.857154</td>\n",
       "      <td>4.159045</td>\n",
       "      <td>7.311428</td>\n",
       "      <td>8.441733</td>\n",
       "    </tr>\n",
       "    <tr>\n",
       "      <th>4</th>\n",
       "      <td>1.239678</td>\n",
       "      <td>3.459524</td>\n",
       "      <td>4.456351</td>\n",
       "      <td>8.710473</td>\n",
       "    </tr>\n",
       "  </tbody>\n",
       "</table>\n",
       "</div>"
      ],
      "text/plain": [
       "         x1        x2        x3      pred\n",
       "0 -0.593373  3.766731  7.724218  3.372005\n",
       "1 -0.056501  3.037664  5.484879  3.393188\n",
       "2 -2.492310  3.232186  6.536631  8.109921\n",
       "3 -0.857154  4.159045  7.311428  8.441733\n",
       "4  1.239678  3.459524  4.456351  8.710473"
      ]
     },
     "execution_count": 9,
     "metadata": {},
     "output_type": "execute_result"
    }
   ],
   "source": [
    "Z.head()"
   ]
  },
  {
   "cell_type": "markdown",
   "id": "4b19dc2f-b595-4630-9e77-64f464edc206",
   "metadata": {},
   "source": [
    "### Calculates CSI for each feature"
   ]
  },
  {
   "cell_type": "code",
   "execution_count": 10,
   "id": "d03e7ef9-3122-461c-9cb3-cd5d04839d78",
   "metadata": {
    "execution": {
     "iopub.execute_input": "2022-03-05T20:15:03.695680Z",
     "iopub.status.busy": "2022-03-05T20:15:03.695680Z",
     "iopub.status.idle": "2022-03-05T20:15:03.709947Z",
     "shell.execute_reply": "2022-03-05T20:15:03.709947Z",
     "shell.execute_reply.started": "2022-03-05T20:15:03.695680Z"
    }
   },
   "outputs": [],
   "source": [
    "sample_initial = df_test[['x1', 'x2', 'x3']]\n",
    "sample_new = Z[['x1', 'x2', 'x3']]"
   ]
  },
  {
   "cell_type": "code",
   "execution_count": 11,
   "id": "a81efcaa-6f00-44f7-92aa-81c6be8b95a6",
   "metadata": {
    "execution": {
     "iopub.execute_input": "2022-03-05T20:15:03.710799Z",
     "iopub.status.busy": "2022-03-05T20:15:03.710799Z",
     "iopub.status.idle": "2022-03-05T20:15:03.757800Z",
     "shell.execute_reply": "2022-03-05T20:15:03.757800Z",
     "shell.execute_reply.started": "2022-03-05T20:15:03.710799Z"
    },
    "tags": []
   },
   "outputs": [
    {
     "name": "stdout",
     "output_type": "stream",
     "text": [
      "x1 -> csi=0.0018\n",
      "x2 -> csi=0.0462\n",
      "x3 -> csi=0.1990\n"
     ]
    }
   ],
   "source": [
    "# Fixed\n",
    "for col in sample_initial.columns:\n",
    "    csi_values = psi(sample_initial[col].values, sample_new[col].values, mode = 'fixed')\n",
    "    csi = np.mean(csi_values)\n",
    "    print(f'{col} -> {csi=:.4f}')"
   ]
  },
  {
   "cell_type": "code",
   "execution_count": 12,
   "id": "266c61df-dc3a-4b4b-b5b2-45b695e25fc8",
   "metadata": {
    "execution": {
     "iopub.execute_input": "2022-03-05T20:15:03.758733Z",
     "iopub.status.busy": "2022-03-05T20:15:03.758733Z",
     "iopub.status.idle": "2022-03-05T20:15:03.789787Z",
     "shell.execute_reply": "2022-03-05T20:15:03.789787Z",
     "shell.execute_reply.started": "2022-03-05T20:15:03.758733Z"
    },
    "tags": []
   },
   "outputs": [
    {
     "name": "stdout",
     "output_type": "stream",
     "text": [
      "x1 -> csi=0.0018\n",
      "x2 -> csi=0.0466\n",
      "x3 -> csi=0.1247\n"
     ]
    }
   ],
   "source": [
    "# Quantile\n",
    "for col in sample_initial.columns:\n",
    "    csi_values = psi(sample_initial[col].values, sample_new[col].values, mode = 'quantile')\n",
    "    csi = np.mean(csi_values)\n",
    "    print(f'{col} -> {csi=:.4f}')"
   ]
  },
  {
   "cell_type": "markdown",
   "id": "4a3742bf-98ca-4a11-b45a-0449215ec6f0",
   "metadata": {
    "tags": []
   },
   "source": [
    "## Classifier"
   ]
  },
  {
   "cell_type": "markdown",
   "id": "93343ce8-ca1c-494a-a7f5-58920843dac1",
   "metadata": {},
   "source": [
    "Now that we know that the population has shifted, we now need to know which features contributed to this shift.\n",
    "\n",
    "CSI is basically applying PSI to each feature to see how much it has shifted"
   ]
  },
  {
   "cell_type": "markdown",
   "id": "7dab7a3f-ba44-4fea-aeaa-79d8a003e79b",
   "metadata": {
    "tags": []
   },
   "source": [
    "### Load Synthetic Dataset"
   ]
  },
  {
   "cell_type": "code",
   "execution_count": 13,
   "id": "0093de69-63a9-4eef-b8c4-003a84ef9b00",
   "metadata": {
    "execution": {
     "iopub.execute_input": "2022-03-05T20:15:03.790648Z",
     "iopub.status.busy": "2022-03-05T20:15:03.790648Z",
     "iopub.status.idle": "2022-03-05T20:15:03.805087Z",
     "shell.execute_reply": "2022-03-05T20:15:03.805087Z",
     "shell.execute_reply.started": "2022-03-05T20:15:03.790648Z"
    }
   },
   "outputs": [],
   "source": [
    "df_test = pd.read_csv(\"data_test_classification.csv\", sep = \";\")"
   ]
  },
  {
   "cell_type": "code",
   "execution_count": 14,
   "id": "cb5038cb-4971-4e49-8f50-c8a42952a713",
   "metadata": {
    "execution": {
     "iopub.execute_input": "2022-03-05T20:15:03.805955Z",
     "iopub.status.busy": "2022-03-05T20:15:03.805955Z",
     "iopub.status.idle": "2022-03-05T20:15:03.820918Z",
     "shell.execute_reply": "2022-03-05T20:15:03.820918Z",
     "shell.execute_reply.started": "2022-03-05T20:15:03.805955Z"
    },
    "tags": []
   },
   "outputs": [
    {
     "data": {
      "text/html": [
       "<div>\n",
       "<style scoped>\n",
       "    .dataframe tbody tr th:only-of-type {\n",
       "        vertical-align: middle;\n",
       "    }\n",
       "\n",
       "    .dataframe tbody tr th {\n",
       "        vertical-align: top;\n",
       "    }\n",
       "\n",
       "    .dataframe thead th {\n",
       "        text-align: right;\n",
       "    }\n",
       "</style>\n",
       "<table border=\"1\" class=\"dataframe\">\n",
       "  <thead>\n",
       "    <tr style=\"text-align: right;\">\n",
       "      <th></th>\n",
       "      <th>x1</th>\n",
       "      <th>x2</th>\n",
       "      <th>x3</th>\n",
       "      <th>y</th>\n",
       "      <th>pred</th>\n",
       "      <th>proba</th>\n",
       "    </tr>\n",
       "  </thead>\n",
       "  <tbody>\n",
       "    <tr>\n",
       "      <th>0</th>\n",
       "      <td>-1.025191</td>\n",
       "      <td>2.370938</td>\n",
       "      <td>3.957025</td>\n",
       "      <td>0</td>\n",
       "      <td>0</td>\n",
       "      <td>0.000276</td>\n",
       "    </tr>\n",
       "    <tr>\n",
       "      <th>1</th>\n",
       "      <td>-3.970460</td>\n",
       "      <td>2.804296</td>\n",
       "      <td>7.962128</td>\n",
       "      <td>1</td>\n",
       "      <td>1</td>\n",
       "      <td>0.002381</td>\n",
       "    </tr>\n",
       "    <tr>\n",
       "      <th>2</th>\n",
       "      <td>-0.320773</td>\n",
       "      <td>3.380050</td>\n",
       "      <td>3.367016</td>\n",
       "      <td>0</td>\n",
       "      <td>0</td>\n",
       "      <td>0.002411</td>\n",
       "    </tr>\n",
       "    <tr>\n",
       "      <th>3</th>\n",
       "      <td>4.546295</td>\n",
       "      <td>4.407173</td>\n",
       "      <td>-0.474749</td>\n",
       "      <td>0</td>\n",
       "      <td>0</td>\n",
       "      <td>0.003654</td>\n",
       "    </tr>\n",
       "    <tr>\n",
       "      <th>4</th>\n",
       "      <td>-4.506757</td>\n",
       "      <td>2.865014</td>\n",
       "      <td>4.888718</td>\n",
       "      <td>1</td>\n",
       "      <td>1</td>\n",
       "      <td>0.004353</td>\n",
       "    </tr>\n",
       "  </tbody>\n",
       "</table>\n",
       "</div>"
      ],
      "text/plain": [
       "         x1        x2        x3  y  pred     proba\n",
       "0 -1.025191  2.370938  3.957025  0     0  0.000276\n",
       "1 -3.970460  2.804296  7.962128  1     1  0.002381\n",
       "2 -0.320773  3.380050  3.367016  0     0  0.002411\n",
       "3  4.546295  4.407173 -0.474749  0     0  0.003654\n",
       "4 -4.506757  2.865014  4.888718  1     1  0.004353"
      ]
     },
     "execution_count": 14,
     "metadata": {},
     "output_type": "execute_result"
    }
   ],
   "source": [
    "df_test.head()"
   ]
  },
  {
   "cell_type": "code",
   "execution_count": 15,
   "id": "16bbeda0-e463-422c-be0c-4a51ebb00f15",
   "metadata": {
    "execution": {
     "iopub.execute_input": "2022-03-05T20:15:03.821912Z",
     "iopub.status.busy": "2022-03-05T20:15:03.821912Z",
     "iopub.status.idle": "2022-03-05T20:15:03.837870Z",
     "shell.execute_reply": "2022-03-05T20:15:03.836872Z",
     "shell.execute_reply.started": "2022-03-05T20:15:03.821912Z"
    },
    "tags": []
   },
   "outputs": [],
   "source": [
    "Z = pd.read_csv(\"Z_classification.csv\", sep = \";\")"
   ]
  },
  {
   "cell_type": "code",
   "execution_count": 16,
   "id": "524a02cf-ece6-4869-aaf6-6025216b7e0c",
   "metadata": {
    "execution": {
     "iopub.execute_input": "2022-03-05T20:15:03.837870Z",
     "iopub.status.busy": "2022-03-05T20:15:03.837870Z",
     "iopub.status.idle": "2022-03-05T20:15:03.851837Z",
     "shell.execute_reply": "2022-03-05T20:15:03.851837Z",
     "shell.execute_reply.started": "2022-03-05T20:15:03.837870Z"
    },
    "tags": []
   },
   "outputs": [
    {
     "data": {
      "text/html": [
       "<div>\n",
       "<style scoped>\n",
       "    .dataframe tbody tr th:only-of-type {\n",
       "        vertical-align: middle;\n",
       "    }\n",
       "\n",
       "    .dataframe tbody tr th {\n",
       "        vertical-align: top;\n",
       "    }\n",
       "\n",
       "    .dataframe thead th {\n",
       "        text-align: right;\n",
       "    }\n",
       "</style>\n",
       "<table border=\"1\" class=\"dataframe\">\n",
       "  <thead>\n",
       "    <tr style=\"text-align: right;\">\n",
       "      <th></th>\n",
       "      <th>x1</th>\n",
       "      <th>x2</th>\n",
       "      <th>x3</th>\n",
       "      <th>pred</th>\n",
       "      <th>proba</th>\n",
       "    </tr>\n",
       "  </thead>\n",
       "  <tbody>\n",
       "    <tr>\n",
       "      <th>0</th>\n",
       "      <td>-0.593373</td>\n",
       "      <td>3.766731</td>\n",
       "      <td>7.724218</td>\n",
       "      <td>1</td>\n",
       "      <td>0.000573</td>\n",
       "    </tr>\n",
       "    <tr>\n",
       "      <th>1</th>\n",
       "      <td>-0.056501</td>\n",
       "      <td>3.037664</td>\n",
       "      <td>5.484879</td>\n",
       "      <td>1</td>\n",
       "      <td>0.000724</td>\n",
       "    </tr>\n",
       "    <tr>\n",
       "      <th>2</th>\n",
       "      <td>-2.492310</td>\n",
       "      <td>3.232186</td>\n",
       "      <td>6.536631</td>\n",
       "      <td>1</td>\n",
       "      <td>0.003062</td>\n",
       "    </tr>\n",
       "    <tr>\n",
       "      <th>3</th>\n",
       "      <td>-0.857154</td>\n",
       "      <td>4.159045</td>\n",
       "      <td>7.311428</td>\n",
       "      <td>1</td>\n",
       "      <td>0.003305</td>\n",
       "    </tr>\n",
       "    <tr>\n",
       "      <th>4</th>\n",
       "      <td>1.239678</td>\n",
       "      <td>3.459524</td>\n",
       "      <td>4.456351</td>\n",
       "      <td>0</td>\n",
       "      <td>0.003656</td>\n",
       "    </tr>\n",
       "  </tbody>\n",
       "</table>\n",
       "</div>"
      ],
      "text/plain": [
       "         x1        x2        x3  pred     proba\n",
       "0 -0.593373  3.766731  7.724218     1  0.000573\n",
       "1 -0.056501  3.037664  5.484879     1  0.000724\n",
       "2 -2.492310  3.232186  6.536631     1  0.003062\n",
       "3 -0.857154  4.159045  7.311428     1  0.003305\n",
       "4  1.239678  3.459524  4.456351     0  0.003656"
      ]
     },
     "execution_count": 16,
     "metadata": {},
     "output_type": "execute_result"
    }
   ],
   "source": [
    "Z.head()"
   ]
  },
  {
   "cell_type": "markdown",
   "id": "d3b6b48c-ec7b-4f17-a0c9-3337f413ed57",
   "metadata": {},
   "source": [
    "### Calculates CSI for each feature"
   ]
  },
  {
   "cell_type": "code",
   "execution_count": 17,
   "id": "51d5b9bb-053b-4462-8a42-6ced2c1d1fc5",
   "metadata": {
    "execution": {
     "iopub.execute_input": "2022-03-05T20:15:03.853843Z",
     "iopub.status.busy": "2022-03-05T20:15:03.852829Z",
     "iopub.status.idle": "2022-03-05T20:15:03.867790Z",
     "shell.execute_reply": "2022-03-05T20:15:03.867790Z",
     "shell.execute_reply.started": "2022-03-05T20:15:03.853843Z"
    }
   },
   "outputs": [],
   "source": [
    "sample_initial = df_test[['x1', 'x2', 'x3']]\n",
    "sample_new = Z[['x1', 'x2', 'x3']]"
   ]
  },
  {
   "cell_type": "code",
   "execution_count": 18,
   "id": "1150d7c0-585e-4546-9b29-91d6e3fd653b",
   "metadata": {
    "execution": {
     "iopub.execute_input": "2022-03-05T20:15:03.868787Z",
     "iopub.status.busy": "2022-03-05T20:15:03.868787Z",
     "iopub.status.idle": "2022-03-05T20:15:03.913667Z",
     "shell.execute_reply": "2022-03-05T20:15:03.913667Z",
     "shell.execute_reply.started": "2022-03-05T20:15:03.868787Z"
    },
    "tags": []
   },
   "outputs": [
    {
     "name": "stdout",
     "output_type": "stream",
     "text": [
      "x1 -> csi=0.0013\n",
      "x2 -> csi=0.0481\n",
      "x3 -> csi=0.1485\n"
     ]
    }
   ],
   "source": [
    "# Fixed\n",
    "for col in sample_initial.columns:\n",
    "    csi_values = psi(sample_initial[col].values, sample_new[col].values, num_bins = 10, mode = 'fixed')\n",
    "    csi = np.mean(csi_values)\n",
    "    print(f'{col} -> {csi=:.4f}')"
   ]
  },
  {
   "cell_type": "code",
   "execution_count": 19,
   "id": "5c8a358b-55f2-44e4-9a7e-d1f49961c8aa",
   "metadata": {
    "execution": {
     "iopub.execute_input": "2022-03-05T20:15:03.914693Z",
     "iopub.status.busy": "2022-03-05T20:15:03.914693Z",
     "iopub.status.idle": "2022-03-05T20:15:03.960568Z",
     "shell.execute_reply": "2022-03-05T20:15:03.960568Z",
     "shell.execute_reply.started": "2022-03-05T20:15:03.914693Z"
    },
    "tags": []
   },
   "outputs": [
    {
     "name": "stdout",
     "output_type": "stream",
     "text": [
      "x1 -> csi=0.0016\n",
      "x2 -> csi=0.0462\n",
      "x3 -> csi=0.1183\n"
     ]
    }
   ],
   "source": [
    "# Quantile\n",
    "for col in sample_initial.columns:\n",
    "    csi_values = psi(sample_initial[col].values, sample_new[col].values, num_bins = 10, mode = 'quantile')\n",
    "    csi = np.mean(csi_values)\n",
    "    print(f'{col} -> {csi=:.4f}')"
   ]
  },
  {
   "cell_type": "code",
   "execution_count": null,
   "id": "7db954e8-0226-4a80-8795-2b97cf5302d9",
   "metadata": {},
   "outputs": [],
   "source": []
  },
  {
   "cell_type": "code",
   "execution_count": null,
   "id": "be4e7b52-2c39-4cb4-b275-8fd850862ce0",
   "metadata": {},
   "outputs": [],
   "source": []
  }
 ],
 "metadata": {
  "kernelspec": {
   "display_name": "Python 3",
   "language": "python",
   "name": "python3"
  },
  "language_info": {
   "codemirror_mode": {
    "name": "ipython",
    "version": 3
   },
   "file_extension": ".py",
   "mimetype": "text/x-python",
   "name": "python",
   "nbconvert_exporter": "python",
   "pygments_lexer": "ipython3",
   "version": "3.8.8"
  }
 },
 "nbformat": 4,
 "nbformat_minor": 5
}
